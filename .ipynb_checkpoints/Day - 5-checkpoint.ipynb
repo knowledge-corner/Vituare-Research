{
 "cells": [
  {
   "cell_type": "markdown",
   "metadata": {},
   "source": [
    "#### Import all Libraries - to executed everytime you open the notebook"
   ]
  },
  {
   "cell_type": "code",
   "execution_count": null,
   "metadata": {},
   "outputs": [],
   "source": [
    "import numpy as np\n",
    "import pandas as pd\n",
    "import matplotlib.pyplot as plt\n",
    "import seaborn as sns\n",
    "import scipy.stats as stats"
   ]
  },
  {
   "cell_type": "markdown",
   "metadata": {},
   "source": [
    "#### Installing the libraries if not present - one time activity"
   ]
  },
  {
   "cell_type": "code",
   "execution_count": null,
   "metadata": {},
   "outputs": [],
   "source": [
    "!pip install numpy\n",
    "!pip install pandas\n",
    "!pip install matplotlib\n",
    "!pip install seaborn\n",
    "!pip install scipy\n",
    "!pip install openpyxl"
   ]
  },
  {
   "cell_type": "markdown",
   "metadata": {
    "id": "47x11IZfaQpb"
   },
   "source": [
    "# Dataframe\n",
    "\n",
    "A DataFrame is two dimensional data structure where the data is arranged in the tabular format in rows and columns\n",
    "\n",
    "#### DataFrame features:\n",
    "\n",
    "- Columns can be of different data types\n",
    "- Size of dataframe can be changes\n",
    "- Axes(rows and columns) are labeled\n",
    "- Arithmetic operations can be performed on rows and columns"
   ]
  },
  {
   "cell_type": "markdown",
   "metadata": {
    "id": "2Kt24MypaQpe"
   },
   "source": [
    "### Concataneting and Merging Dataframes"
   ]
  },
  {
   "cell_type": "code",
   "execution_count": null,
   "metadata": {},
   "outputs": [],
   "source": [
    "df_jan = pd.DataFrame({\"Order ID\" : range(101, 111), \"Sales\" : np.random.randint(10000, 50000, 10)})\n",
    "df_feb = pd.DataFrame({\"Order ID\" : range(111, 121), \"Sales\" : np.random.randint(10000, 50000, 10)})\n",
    "df_mar = pd.DataFrame({\"Order ID\" : range(121, 131), \"Sales\" : np.random.randint(10000, 50000, 10)})"
   ]
  },
  {
   "cell_type": "code",
   "execution_count": null,
   "metadata": {},
   "outputs": [],
   "source": [
    "df_jan.head(2)"
   ]
  },
  {
   "cell_type": "code",
   "execution_count": null,
   "metadata": {},
   "outputs": [],
   "source": [
    "df_feb.head(2)"
   ]
  },
  {
   "cell_type": "code",
   "execution_count": null,
   "metadata": {},
   "outputs": [],
   "source": [
    "df_mar.head(2)"
   ]
  },
  {
   "cell_type": "markdown",
   "metadata": {
    "id": "CSGtWyPvaQpf"
   },
   "source": [
    "#### Concatenate\n",
    "pd.concat(`tuple of dfs`, `ignore_index = False`, `axis=0`)"
   ]
  },
  {
   "cell_type": "code",
   "execution_count": null,
   "metadata": {},
   "outputs": [],
   "source": [
    "df = pd.concat((df_jan, df_feb, df_mar), ignore_index=True)"
   ]
  },
  {
   "cell_type": "code",
   "execution_count": null,
   "metadata": {},
   "outputs": [],
   "source": [
    "df[\"Sales\"].sum() # - total sales"
   ]
  },
  {
   "cell_type": "code",
   "execution_count": null,
   "metadata": {},
   "outputs": [],
   "source": [
    "# Write the data to csv file - \n",
    "df.to_csv(\"Sales.csv\", index=None)"
   ]
  },
  {
   "cell_type": "code",
   "execution_count": null,
   "metadata": {},
   "outputs": [],
   "source": [
    "# Write the data to excel file - \n",
    "df.to_excel(\"Sales.xlsx\", sheet_name=\"Total Sales\", index=None)\n",
    "\n",
    "# Note - when writing data to excel the original file must be closed."
   ]
  },
  {
   "cell_type": "markdown",
   "metadata": {},
   "source": [
    "**Example**\n",
    "- Add a new column to each dataframe as month and value = \"jan\" or \"feb\" or \"mar\"\n",
    "- Combine all the three dataframes and write to file"
   ]
  },
  {
   "cell_type": "code",
   "execution_count": null,
   "metadata": {},
   "outputs": [],
   "source": [
    "df_jan[\"Month\"] = \"Jan\"\n",
    "df_feb[\"Month\"] = \"Feb\"\n",
    "df_mar[\"Month\"] = \"Mar\""
   ]
  },
  {
   "cell_type": "code",
   "execution_count": null,
   "metadata": {},
   "outputs": [],
   "source": [
    "df = pd.concat((df_jan, df_feb, df_mar), ignore_index=True)\n",
    "df.head(2)"
   ]
  },
  {
   "cell_type": "code",
   "execution_count": null,
   "metadata": {},
   "outputs": [],
   "source": [
    "# Write the data to csv file - Always replace the exsisting data\n",
    "df.to_csv(\"Sales.csv\", index=None)"
   ]
  },
  {
   "cell_type": "code",
   "execution_count": null,
   "metadata": {},
   "outputs": [],
   "source": [
    "# Write the data to csv file - Append data to exsisting file\n",
    "df.to_csv(\"Sales.csv\", index=None, mode = \"a\")"
   ]
  },
  {
   "cell_type": "markdown",
   "metadata": {
    "id": "KQk4_kSdaQpf"
   },
   "source": [
    "#### Merging Dataframes\n",
    "\n",
    "`df1.merge(df2, how=\"\", on = \"\", left_on=\"\", right_on=\"\")`\n",
    "\n",
    "- **how** - type of merge (inner, left, right, outer)\n",
    "- **on** - name of common column, used when both dfs have same name for the common/reference column\n",
    "- **left_on** or **right_on** - name of left/right column when reference column names are different"
   ]
  },
  {
   "cell_type": "code",
   "execution_count": null,
   "metadata": {
    "id": "p7S2LaPwaQpf"
   },
   "outputs": [],
   "source": [
    "df_emp = pd.DataFrame({\"Name\" : [\"Jack\", \"Bill\", \"Lizie\", \"Jane\", \"George\"],\n",
    "            \"Designation\" : [\"HR\", \"Manager\", \"Developer\", \"Intern\", \"Manager\"]})\n",
    "df_emp"
   ]
  },
  {
   "cell_type": "code",
   "execution_count": null,
   "metadata": {
    "id": "NTCO1HA9aQpf"
   },
   "outputs": [],
   "source": [
    "base_salaries = pd.DataFrame({\"Designation\" : [\"HR\", \"Developer\", \"Manager\", \"Senior Manager\"],\n",
    "            \"Salary\": [40000, 25000, 70000, 1000000]})\n",
    "base_salaries"
   ]
  },
  {
   "cell_type": "markdown",
   "metadata": {
    "id": "FEn8LGSQaQpf"
   },
   "source": [
    "**Inner Merge**\n",
    " - Gives data only for the common values for reference column in both the dfs"
   ]
  },
  {
   "cell_type": "code",
   "execution_count": null,
   "metadata": {
    "id": "-dfkvBy1aQpf"
   },
   "outputs": [],
   "source": [
    "df_emp.merge(base_salaries, on=\"Designation\", how = \"inner\" )"
   ]
  },
  {
   "cell_type": "markdown",
   "metadata": {
    "id": "ItIkstn4aQpg"
   },
   "source": [
    "**Left Merge**\n",
    " - Gives data for the left table and corresponding values from right table based on reference column. Gives null for missing values"
   ]
  },
  {
   "cell_type": "code",
   "execution_count": null,
   "metadata": {
    "id": "VuonLUSPaQpg"
   },
   "outputs": [],
   "source": [
    "df_emp.merge(base_salaries, on=\"Designation\", how = \"left\" )"
   ]
  },
  {
   "cell_type": "markdown",
   "metadata": {
    "id": "G2olAncNaQpg"
   },
   "source": [
    "**Right Merge**\n",
    "- Gives data for the right table and corresponding values from left table based on reference column. Gives null for missing values"
   ]
  },
  {
   "cell_type": "code",
   "execution_count": null,
   "metadata": {
    "id": "Zm7xmbCGaQpg"
   },
   "outputs": [],
   "source": [
    "df_emp.merge(base_salaries, on=\"Designation\", how = \"right\" )"
   ]
  },
  {
   "cell_type": "markdown",
   "metadata": {
    "id": "hNpBKsrCaQpg"
   },
   "source": [
    "**Outer Merge**"
   ]
  },
  {
   "cell_type": "code",
   "execution_count": null,
   "metadata": {
    "id": "x1fbrsSGaQpg"
   },
   "outputs": [],
   "source": [
    "df_emp.merge(base_salaries, on=\"Designation\", how = \"outer\" )"
   ]
  },
  {
   "cell_type": "markdown",
   "metadata": {},
   "source": [
    "#### Examples"
   ]
  },
  {
   "cell_type": "markdown",
   "metadata": {},
   "source": [
    "###### Ex. Calculate total sales across all three months using Excel plug-in"
   ]
  },
  {
   "cell_type": "code",
   "execution_count": null,
   "metadata": {},
   "outputs": [],
   "source": []
  },
  {
   "cell_type": "markdown",
   "metadata": {},
   "source": [
    "###### Ex. Create a table displaying salary of each employee"
   ]
  },
  {
   "cell_type": "code",
   "execution_count": null,
   "metadata": {},
   "outputs": [],
   "source": []
  },
  {
   "cell_type": "markdown",
   "metadata": {},
   "source": [
    "### DataFrame toolkit - "
   ]
  },
  {
   "cell_type": "markdown",
   "metadata": {
    "id": "-SsECgH6aQpj"
   },
   "source": [
    "###### Ex. Read data from `BSE Sensex 30 Historical Data.csv`"
   ]
  },
  {
   "cell_type": "code",
   "execution_count": null,
   "metadata": {
    "id": "mBAJGrV2aQpj"
   },
   "outputs": [],
   "source": [
    "df = pd.read_csv(r\"./Datasets/BSE Sensex 30 Historical Data.csv\")\n",
    "df.head(2)"
   ]
  },
  {
   "cell_type": "markdown",
   "metadata": {
    "id": "oCaRpnewaQpk"
   },
   "source": [
    "#### Drop a column or row from dataframe\n",
    "`df.drop(columns = [], index = [], inplace=False)`\n",
    "- inplace = False returns a new DataFrame (default), True modifies original df"
   ]
  },
  {
   "cell_type": "code",
   "execution_count": null,
   "metadata": {
    "id": "3_QOBOO9aQpl"
   },
   "outputs": [],
   "source": [
    "df.drop(columns=[\"High\", \"Low\"], index=[0, 10, 4, 8])"
   ]
  },
  {
   "cell_type": "markdown",
   "metadata": {
    "id": "_eTN-WE8aQpq"
   },
   "source": [
    "#### Working with **null** values\n",
    "\n",
    "`df.isna()` - Detect missing values. Return a boolean same-sized object indicating if the values are NA.\n",
    "\n",
    "`df.fillna(value=None, inplace=False, method = None)` - Fill NA/NaN values using the specified method.\n",
    "\n",
    "method : {'backfill', 'bfill', 'ffill', None}"
   ]
  },
  {
   "cell_type": "code",
   "execution_count": null,
   "metadata": {
    "id": "Cj1ObY9laQpq"
   },
   "outputs": [],
   "source": [
    "df.isna().any()  # True means there is atleast 1 null value in the column"
   ]
  },
  {
   "cell_type": "markdown",
   "metadata": {
    "id": "eLCMw924aQpm"
   },
   "source": [
    "**Incase entire row/column is null - Drop null rows**\n",
    "\n",
    "df.dropna(`axis = 0`, `how = \"any\"`, `inplace = False`)\n",
    "- axis 0 for row or 1 for column\n",
    "- how - {any or all}"
   ]
  },
  {
   "cell_type": "code",
   "execution_count": null,
   "metadata": {},
   "outputs": [],
   "source": [
    "df.shape"
   ]
  },
  {
   "cell_type": "code",
   "execution_count": null,
   "metadata": {
    "id": "319H3bxraQpm"
   },
   "outputs": [],
   "source": [
    "# df.dropna(axis = 0, how = \"any\") - deletes rows with any 1 null value\n",
    "df.dropna()"
   ]
  },
  {
   "cell_type": "code",
   "execution_count": null,
   "metadata": {
    "id": "319H3bxraQpm"
   },
   "outputs": [],
   "source": [
    "df.dropna(axis= 0, how=\"all\", inplace=True) # - deletes rows with with all null values"
   ]
  },
  {
   "cell_type": "code",
   "execution_count": null,
   "metadata": {},
   "outputs": [],
   "source": [
    "df.isna().any() # null rows are deleted by vol column still has null values"
   ]
  },
  {
   "cell_type": "code",
   "execution_count": null,
   "metadata": {
    "id": "319H3bxraQpm"
   },
   "outputs": [],
   "source": [
    "df.dropna(axis= 1, how=\"any\") # - deletes column with any 1 null values"
   ]
  },
  {
   "cell_type": "code",
   "execution_count": null,
   "metadata": {
    "id": "319H3bxraQpm"
   },
   "outputs": [],
   "source": [
    "df.dropna(axis= 1, how=\"all\", inplace=True) # - deletes column with any 1 null values - in this case no change in the df"
   ]
  },
  {
   "cell_type": "code",
   "execution_count": null,
   "metadata": {},
   "outputs": [],
   "source": [
    "df.head(2)"
   ]
  },
  {
   "cell_type": "markdown",
   "metadata": {},
   "source": [
    "###### Extracting null rows for Vol column"
   ]
  },
  {
   "cell_type": "code",
   "execution_count": null,
   "metadata": {},
   "outputs": [],
   "source": [
    "df[df.isna().any(axis = 1)] # for any column"
   ]
  },
  {
   "cell_type": "code",
   "execution_count": null,
   "metadata": {},
   "outputs": [],
   "source": [
    "df[df[\"Vol.\"].isna()] # for specific column"
   ]
  },
  {
   "cell_type": "markdown",
   "metadata": {},
   "source": [
    "###### Ex. Replace the null value with default "
   ]
  },
  {
   "cell_type": "code",
   "execution_count": null,
   "metadata": {},
   "outputs": [],
   "source": [
    "df[\"Vol.\"].fillna(0, inplace=True)  # syntax in older pandas version"
   ]
  },
  {
   "cell_type": "code",
   "execution_count": null,
   "metadata": {},
   "outputs": [],
   "source": [
    "df.fillna({\"Vol.\": 0, \"High\" : 1, \"Low\" : df.Low.mean()})  # new syntax - provides single code to modify multiple cols"
   ]
  },
  {
   "cell_type": "markdown",
   "metadata": {},
   "source": [
    "###### Ex. Replace null with ffill or bfill"
   ]
  },
  {
   "cell_type": "code",
   "execution_count": null,
   "metadata": {},
   "outputs": [],
   "source": [
    "df[\"Vol.\"] = df[\"Vol.\"].ffill()  # fowardfill avoid inplace = True in this case"
   ]
  },
  {
   "cell_type": "code",
   "execution_count": null,
   "metadata": {},
   "outputs": [],
   "source": [
    "df[\"Vol.\"] = df[\"Vol.\"].bfill()  # backwardfill avoid inplace = True in this case"
   ]
  },
  {
   "cell_type": "markdown",
   "metadata": {
    "id": "DxivtiVmaQpr"
   },
   "source": [
    "#### Removing Duplicate Data"
   ]
  },
  {
   "cell_type": "code",
   "execution_count": 86,
   "metadata": {
    "id": "HC0RoOSPaQpr"
   },
   "outputs": [
    {
     "data": {
      "text/plain": [
       "np.False_"
      ]
     },
     "execution_count": 86,
     "metadata": {},
     "output_type": "execute_result"
    }
   ],
   "source": [
    "df.duplicated().any()"
   ]
  },
  {
   "cell_type": "markdown",
   "metadata": {},
   "source": [
    "`df.drop_duplicates(subset = [columns], inplace=False)`"
   ]
  },
  {
   "cell_type": "code",
   "execution_count": 88,
   "metadata": {},
   "outputs": [],
   "source": [
    "df.drop_duplicates(inplace=True)"
   ]
  },
  {
   "cell_type": "markdown",
   "metadata": {
    "id": "EgteLlmQaQpr"
   },
   "source": [
    "#### Replacing values\n",
    "\n",
    "df.replace({`colname` : {`old_value` : `new_value`}}, `inplace=True`)"
   ]
  },
  {
   "cell_type": "code",
   "execution_count": 89,
   "metadata": {},
   "outputs": [
    {
     "data": {
      "text/html": [
       "<div>\n",
       "<style scoped>\n",
       "    .dataframe tbody tr th:only-of-type {\n",
       "        vertical-align: middle;\n",
       "    }\n",
       "\n",
       "    .dataframe tbody tr th {\n",
       "        vertical-align: top;\n",
       "    }\n",
       "\n",
       "    .dataframe thead th {\n",
       "        text-align: right;\n",
       "    }\n",
       "</style>\n",
       "<table border=\"1\" class=\"dataframe\">\n",
       "  <thead>\n",
       "    <tr style=\"text-align: right;\">\n",
       "      <th></th>\n",
       "      <th>Date</th>\n",
       "      <th>Price</th>\n",
       "      <th>Open</th>\n",
       "      <th>High</th>\n",
       "      <th>Low</th>\n",
       "      <th>Vol.</th>\n",
       "      <th>Change %</th>\n",
       "    </tr>\n",
       "  </thead>\n",
       "  <tbody>\n",
       "    <tr>\n",
       "      <th>0</th>\n",
       "      <td>16-04-2025</td>\n",
       "      <td>76,761.72</td>\n",
       "      <td>76,996.78</td>\n",
       "      <td>76,996.78</td>\n",
       "      <td>76,544.07</td>\n",
       "      <td>4.99M</td>\n",
       "      <td>0.03%</td>\n",
       "    </tr>\n",
       "    <tr>\n",
       "      <th>1</th>\n",
       "      <td>15-04-2025</td>\n",
       "      <td>76,734.89</td>\n",
       "      <td>76,852.06</td>\n",
       "      <td>76,857.05</td>\n",
       "      <td>76,449.56</td>\n",
       "      <td>12.93M</td>\n",
       "      <td>2.10%</td>\n",
       "    </tr>\n",
       "    <tr>\n",
       "      <th>2</th>\n",
       "      <td>11-04-2025</td>\n",
       "      <td>75,157.26</td>\n",
       "      <td>74,835.49</td>\n",
       "      <td>75,467.33</td>\n",
       "      <td>74,762.84</td>\n",
       "      <td>14.23M</td>\n",
       "      <td>1.77%</td>\n",
       "    </tr>\n",
       "    <tr>\n",
       "      <th>3</th>\n",
       "      <td>09-04-2025</td>\n",
       "      <td>73,847.15</td>\n",
       "      <td>74,103.83</td>\n",
       "      <td>74,103.83</td>\n",
       "      <td>73,673.06</td>\n",
       "      <td>9.15M</td>\n",
       "      <td>-0.51%</td>\n",
       "    </tr>\n",
       "    <tr>\n",
       "      <th>4</th>\n",
       "      <td>08-04-2025</td>\n",
       "      <td>74,227.08</td>\n",
       "      <td>74,013.73</td>\n",
       "      <td>74,859.39</td>\n",
       "      <td>73,424.92</td>\n",
       "      <td>17.06M</td>\n",
       "      <td>1.49%</td>\n",
       "    </tr>\n",
       "  </tbody>\n",
       "</table>\n",
       "</div>"
      ],
      "text/plain": [
       "         Date      Price       Open       High        Low    Vol. Change %\n",
       "0  16-04-2025  76,761.72  76,996.78  76,996.78  76,544.07   4.99M    0.03%\n",
       "1  15-04-2025  76,734.89  76,852.06  76,857.05  76,449.56  12.93M    2.10%\n",
       "2  11-04-2025  75,157.26  74,835.49  75,467.33  74,762.84  14.23M    1.77%\n",
       "3  09-04-2025  73,847.15  74,103.83  74,103.83  73,673.06   9.15M   -0.51%\n",
       "4  08-04-2025  74,227.08  74,013.73  74,859.39  73,424.92  17.06M    1.49%"
      ]
     },
     "execution_count": 89,
     "metadata": {},
     "output_type": "execute_result"
    }
   ],
   "source": [
    "df.head()"
   ]
  },
  {
   "cell_type": "code",
   "execution_count": null,
   "metadata": {
    "id": "3AtOmRVHaQpr"
   },
   "outputs": [],
   "source": [
    "df.replace({\"Change %\" : {\"0.03%\" : \"0.05%\"}})"
   ]
  },
  {
   "cell_type": "markdown",
   "metadata": {},
   "source": [
    "#### Clean the dataset"
   ]
  },
  {
   "cell_type": "code",
   "execution_count": 91,
   "metadata": {},
   "outputs": [
    {
     "data": {
      "text/plain": [
       "Date        object\n",
       "Price       object\n",
       "Open        object\n",
       "High        object\n",
       "Low         object\n",
       "Vol.        object\n",
       "Change %    object\n",
       "dtype: object"
      ]
     },
     "execution_count": 91,
     "metadata": {},
     "output_type": "execute_result"
    }
   ],
   "source": [
    "df.dtypes"
   ]
  },
  {
   "cell_type": "code",
   "execution_count": 130,
   "metadata": {},
   "outputs": [],
   "source": [
    "df[\"Price\"] = df[\"Price\"].str.replace(\",\", \"\").astype(float)\n",
    "df[\"Open\"] = df[\"Open\"].str.replace(\",\", \"\").astype(float)\n",
    "df[\"High\"] = df[\"High\"].str.replace(\",\", \"\").astype(float)\n",
    "df[\"Low\"] = df[\"Low\"].str.replace(\",\", \"\").astype(float)\n",
    "df[\"Change %\"] = df[\"Change %\"].str.replace(\"%\", \"\").astype(float)"
   ]
  },
  {
   "cell_type": "code",
   "execution_count": 131,
   "metadata": {},
   "outputs": [
    {
     "data": {
      "text/html": [
       "<div>\n",
       "<style scoped>\n",
       "    .dataframe tbody tr th:only-of-type {\n",
       "        vertical-align: middle;\n",
       "    }\n",
       "\n",
       "    .dataframe tbody tr th {\n",
       "        vertical-align: top;\n",
       "    }\n",
       "\n",
       "    .dataframe thead th {\n",
       "        text-align: right;\n",
       "    }\n",
       "</style>\n",
       "<table border=\"1\" class=\"dataframe\">\n",
       "  <thead>\n",
       "    <tr style=\"text-align: right;\">\n",
       "      <th></th>\n",
       "      <th>Date</th>\n",
       "      <th>Price</th>\n",
       "      <th>Open</th>\n",
       "      <th>High</th>\n",
       "      <th>Low</th>\n",
       "      <th>Vol.</th>\n",
       "      <th>Change %</th>\n",
       "      <th>Volume</th>\n",
       "      <th>temp</th>\n",
       "    </tr>\n",
       "  </thead>\n",
       "  <tbody>\n",
       "    <tr>\n",
       "      <th>0</th>\n",
       "      <td>2025-04-16</td>\n",
       "      <td>76761.72</td>\n",
       "      <td>76996.78</td>\n",
       "      <td>76996.78</td>\n",
       "      <td>76544.07</td>\n",
       "      <td>4.99M</td>\n",
       "      <td>0.03</td>\n",
       "      <td>4990000.0</td>\n",
       "      <td>M</td>\n",
       "    </tr>\n",
       "    <tr>\n",
       "      <th>1</th>\n",
       "      <td>2025-04-15</td>\n",
       "      <td>76734.89</td>\n",
       "      <td>76852.06</td>\n",
       "      <td>76857.05</td>\n",
       "      <td>76449.56</td>\n",
       "      <td>12.93M</td>\n",
       "      <td>2.10</td>\n",
       "      <td>12930000.0</td>\n",
       "      <td>M</td>\n",
       "    </tr>\n",
       "    <tr>\n",
       "      <th>2</th>\n",
       "      <td>2025-11-04</td>\n",
       "      <td>75157.26</td>\n",
       "      <td>74835.49</td>\n",
       "      <td>75467.33</td>\n",
       "      <td>74762.84</td>\n",
       "      <td>14.23M</td>\n",
       "      <td>1.77</td>\n",
       "      <td>14230000.0</td>\n",
       "      <td>M</td>\n",
       "    </tr>\n",
       "    <tr>\n",
       "      <th>3</th>\n",
       "      <td>2025-09-04</td>\n",
       "      <td>73847.15</td>\n",
       "      <td>74103.83</td>\n",
       "      <td>74103.83</td>\n",
       "      <td>73673.06</td>\n",
       "      <td>9.15M</td>\n",
       "      <td>-0.51</td>\n",
       "      <td>9150000.0</td>\n",
       "      <td>M</td>\n",
       "    </tr>\n",
       "    <tr>\n",
       "      <th>4</th>\n",
       "      <td>2025-08-04</td>\n",
       "      <td>74227.08</td>\n",
       "      <td>74013.73</td>\n",
       "      <td>74859.39</td>\n",
       "      <td>73424.92</td>\n",
       "      <td>17.06M</td>\n",
       "      <td>1.49</td>\n",
       "      <td>17060000.0</td>\n",
       "      <td>M</td>\n",
       "    </tr>\n",
       "    <tr>\n",
       "      <th>5</th>\n",
       "      <td>2025-07-04</td>\n",
       "      <td>73137.90</td>\n",
       "      <td>71449.94</td>\n",
       "      <td>73403.99</td>\n",
       "      <td>71425.01</td>\n",
       "      <td>29.37M</td>\n",
       "      <td>-2.95</td>\n",
       "      <td>29370000.0</td>\n",
       "      <td>M</td>\n",
       "    </tr>\n",
       "    <tr>\n",
       "      <th>6</th>\n",
       "      <td>2025-04-04</td>\n",
       "      <td>75364.69</td>\n",
       "      <td>76160.09</td>\n",
       "      <td>76258.12</td>\n",
       "      <td>75240.55</td>\n",
       "      <td>29.37M</td>\n",
       "      <td>-1.22</td>\n",
       "      <td>29370000.0</td>\n",
       "      <td>M</td>\n",
       "    </tr>\n",
       "    <tr>\n",
       "      <th>7</th>\n",
       "      <td>2025-03-04</td>\n",
       "      <td>76295.36</td>\n",
       "      <td>75811.86</td>\n",
       "      <td>76493.74</td>\n",
       "      <td>75807.55</td>\n",
       "      <td>6.92M</td>\n",
       "      <td>-0.42</td>\n",
       "      <td>6920000.0</td>\n",
       "      <td>M</td>\n",
       "    </tr>\n",
       "    <tr>\n",
       "      <th>8</th>\n",
       "      <td>2025-02-04</td>\n",
       "      <td>76617.44</td>\n",
       "      <td>76146.28</td>\n",
       "      <td>76680.35</td>\n",
       "      <td>76064.94</td>\n",
       "      <td>10.75M</td>\n",
       "      <td>0.78</td>\n",
       "      <td>10750000.0</td>\n",
       "      <td>M</td>\n",
       "    </tr>\n",
       "    <tr>\n",
       "      <th>9</th>\n",
       "      <td>2025-01-04</td>\n",
       "      <td>76024.51</td>\n",
       "      <td>76882.58</td>\n",
       "      <td>77487.05</td>\n",
       "      <td>75912.18</td>\n",
       "      <td>10.59M</td>\n",
       "      <td>-1.80</td>\n",
       "      <td>10590000.0</td>\n",
       "      <td>M</td>\n",
       "    </tr>\n",
       "  </tbody>\n",
       "</table>\n",
       "</div>"
      ],
      "text/plain": [
       "        Date     Price      Open      High       Low    Vol.  Change %  \\\n",
       "0 2025-04-16  76761.72  76996.78  76996.78  76544.07   4.99M      0.03   \n",
       "1 2025-04-15  76734.89  76852.06  76857.05  76449.56  12.93M      2.10   \n",
       "2 2025-11-04  75157.26  74835.49  75467.33  74762.84  14.23M      1.77   \n",
       "3 2025-09-04  73847.15  74103.83  74103.83  73673.06   9.15M     -0.51   \n",
       "4 2025-08-04  74227.08  74013.73  74859.39  73424.92  17.06M      1.49   \n",
       "5 2025-07-04  73137.90  71449.94  73403.99  71425.01  29.37M     -2.95   \n",
       "6 2025-04-04  75364.69  76160.09  76258.12  75240.55  29.37M     -1.22   \n",
       "7 2025-03-04  76295.36  75811.86  76493.74  75807.55   6.92M     -0.42   \n",
       "8 2025-02-04  76617.44  76146.28  76680.35  76064.94  10.75M      0.78   \n",
       "9 2025-01-04  76024.51  76882.58  77487.05  75912.18  10.59M     -1.80   \n",
       "\n",
       "       Volume temp  \n",
       "0   4990000.0    M  \n",
       "1  12930000.0    M  \n",
       "2  14230000.0    M  \n",
       "3   9150000.0    M  \n",
       "4  17060000.0    M  \n",
       "5  29370000.0    M  \n",
       "6  29370000.0    M  \n",
       "7   6920000.0    M  \n",
       "8  10750000.0    M  \n",
       "9  10590000.0    M  "
      ]
     },
     "execution_count": 131,
     "metadata": {},
     "output_type": "execute_result"
    }
   ],
   "source": [
    "df[\"Volume\"] = df[\"Vol.\"].str[:-1].astype(float)\n",
    "df[\"temp\"] = df[\"Vol.\"].str[-1]\n",
    "df[\"Volume\"] = df[\"temp\"].map({\"M\" : 1000000, \"K\" : 1000, \"B\" : 1000000000}) * df[\"Volume\"]\n",
    "df.head(10)"
   ]
  },
  {
   "cell_type": "markdown",
   "metadata": {
    "id": "fPvpjhHdaQp_"
   },
   "source": [
    "#### Grouping Dataframes"
   ]
  },
  {
   "attachments": {},
   "cell_type": "markdown",
   "metadata": {
    "id": "fV4dbr1faQp_"
   },
   "source": [
    "##### `df.groupby(by=None, as_index=True, sort=True, dropna=True)`\n",
    "\n",
    "- use of `agg()`"
   ]
  },
  {
   "cell_type": "code",
   "execution_count": 133,
   "metadata": {},
   "outputs": [
    {
     "data": {
      "text/html": [
       "<div>\n",
       "<style scoped>\n",
       "    .dataframe tbody tr th:only-of-type {\n",
       "        vertical-align: middle;\n",
       "    }\n",
       "\n",
       "    .dataframe tbody tr th {\n",
       "        vertical-align: top;\n",
       "    }\n",
       "\n",
       "    .dataframe thead th {\n",
       "        text-align: right;\n",
       "    }\n",
       "</style>\n",
       "<table border=\"1\" class=\"dataframe\">\n",
       "  <thead>\n",
       "    <tr style=\"text-align: right;\">\n",
       "      <th></th>\n",
       "      <th>Date</th>\n",
       "      <th>Year</th>\n",
       "      <th>Month</th>\n",
       "      <th>Month#</th>\n",
       "      <th>Price</th>\n",
       "      <th>Open</th>\n",
       "      <th>High</th>\n",
       "      <th>Low</th>\n",
       "      <th>Vol.</th>\n",
       "      <th>Change %</th>\n",
       "      <th>Volume</th>\n",
       "      <th>temp</th>\n",
       "    </tr>\n",
       "  </thead>\n",
       "  <tbody>\n",
       "    <tr>\n",
       "      <th>0</th>\n",
       "      <td>2025-04-16</td>\n",
       "      <td>2025</td>\n",
       "      <td>April</td>\n",
       "      <td>4</td>\n",
       "      <td>76761.72</td>\n",
       "      <td>76996.78</td>\n",
       "      <td>76996.78</td>\n",
       "      <td>76544.07</td>\n",
       "      <td>4.99M</td>\n",
       "      <td>0.03</td>\n",
       "      <td>4990000.0</td>\n",
       "      <td>M</td>\n",
       "    </tr>\n",
       "    <tr>\n",
       "      <th>1</th>\n",
       "      <td>2025-04-15</td>\n",
       "      <td>2025</td>\n",
       "      <td>April</td>\n",
       "      <td>4</td>\n",
       "      <td>76734.89</td>\n",
       "      <td>76852.06</td>\n",
       "      <td>76857.05</td>\n",
       "      <td>76449.56</td>\n",
       "      <td>12.93M</td>\n",
       "      <td>2.10</td>\n",
       "      <td>12930000.0</td>\n",
       "      <td>M</td>\n",
       "    </tr>\n",
       "    <tr>\n",
       "      <th>2</th>\n",
       "      <td>2025-11-04</td>\n",
       "      <td>2025</td>\n",
       "      <td>November</td>\n",
       "      <td>11</td>\n",
       "      <td>75157.26</td>\n",
       "      <td>74835.49</td>\n",
       "      <td>75467.33</td>\n",
       "      <td>74762.84</td>\n",
       "      <td>14.23M</td>\n",
       "      <td>1.77</td>\n",
       "      <td>14230000.0</td>\n",
       "      <td>M</td>\n",
       "    </tr>\n",
       "    <tr>\n",
       "      <th>3</th>\n",
       "      <td>2025-09-04</td>\n",
       "      <td>2025</td>\n",
       "      <td>September</td>\n",
       "      <td>9</td>\n",
       "      <td>73847.15</td>\n",
       "      <td>74103.83</td>\n",
       "      <td>74103.83</td>\n",
       "      <td>73673.06</td>\n",
       "      <td>9.15M</td>\n",
       "      <td>-0.51</td>\n",
       "      <td>9150000.0</td>\n",
       "      <td>M</td>\n",
       "    </tr>\n",
       "    <tr>\n",
       "      <th>4</th>\n",
       "      <td>2025-08-04</td>\n",
       "      <td>2025</td>\n",
       "      <td>August</td>\n",
       "      <td>8</td>\n",
       "      <td>74227.08</td>\n",
       "      <td>74013.73</td>\n",
       "      <td>74859.39</td>\n",
       "      <td>73424.92</td>\n",
       "      <td>17.06M</td>\n",
       "      <td>1.49</td>\n",
       "      <td>17060000.0</td>\n",
       "      <td>M</td>\n",
       "    </tr>\n",
       "  </tbody>\n",
       "</table>\n",
       "</div>"
      ],
      "text/plain": [
       "        Date  Year      Month  Month#     Price      Open      High       Low  \\\n",
       "0 2025-04-16  2025      April       4  76761.72  76996.78  76996.78  76544.07   \n",
       "1 2025-04-15  2025      April       4  76734.89  76852.06  76857.05  76449.56   \n",
       "2 2025-11-04  2025   November      11  75157.26  74835.49  75467.33  74762.84   \n",
       "3 2025-09-04  2025  September       9  73847.15  74103.83  74103.83  73673.06   \n",
       "4 2025-08-04  2025     August       8  74227.08  74013.73  74859.39  73424.92   \n",
       "\n",
       "     Vol.  Change %      Volume temp  \n",
       "0   4.99M      0.03   4990000.0    M  \n",
       "1  12.93M      2.10  12930000.0    M  \n",
       "2  14.23M      1.77  14230000.0    M  \n",
       "3   9.15M     -0.51   9150000.0    M  \n",
       "4  17.06M      1.49  17060000.0    M  "
      ]
     },
     "execution_count": 133,
     "metadata": {},
     "output_type": "execute_result"
    }
   ],
   "source": [
    "df[\"Date\"] = pd.to_datetime(df[\"Date\"], format = \"mixed\")\n",
    "df.insert(1, \"Year\", df[\"Date\"].dt.year)\n",
    "df.insert(2, \"Month\", df[\"Date\"].dt.month_name())\n",
    "df.insert(3, \"Month#\", df[\"Date\"].dt.month)\n",
    "df.head()"
   ]
  },
  {
   "cell_type": "code",
   "execution_count": 134,
   "metadata": {},
   "outputs": [
    {
     "data": {
      "text/plain": [
       "array([2025, 2024, 2023], dtype=int32)"
      ]
     },
     "execution_count": 134,
     "metadata": {},
     "output_type": "execute_result"
    }
   ],
   "source": [
    "df.Year.unique()"
   ]
  },
  {
   "cell_type": "markdown",
   "metadata": {
    "id": "zu9Y75d1aQqA"
   },
   "source": [
    "###### Ex. Year average Price"
   ]
  },
  {
   "cell_type": "code",
   "execution_count": 136,
   "metadata": {
    "id": "fd3m_OjXaQqC"
   },
   "outputs": [
    {
     "data": {
      "text/plain": [
       "Year\n",
       "2023    64567.91\n",
       "2024    77225.52\n",
       "2025    76175.51\n",
       "Name: Price, dtype: float64"
      ]
     },
     "execution_count": 136,
     "metadata": {},
     "output_type": "execute_result"
    }
   ],
   "source": [
    "df.groupby(\"Year\")[\"Price\"].mean().round(2)"
   ]
  },
  {
   "cell_type": "code",
   "execution_count": 138,
   "metadata": {},
   "outputs": [
    {
     "data": {
      "text/plain": [
       "Year  Month#  Month    \n",
       "2023  1       January      65069.51\n",
       "      2       February     63441.38\n",
       "      3       March        59872.70\n",
       "      4       April        61990.71\n",
       "      5       May          62860.83\n",
       "      6       June         63941.57\n",
       "      7       July         66308.81\n",
       "      8       August       65205.26\n",
       "      9       September    65859.63\n",
       "      10      October      64618.01\n",
       "      11      November     65714.73\n",
       "      12      December     68690.92\n",
       "2024  1       January      73811.38\n",
       "      2       February     74216.63\n",
       "      3       March        74811.65\n",
       "      4       April        75312.02\n",
       "      5       May          75225.31\n",
       "      6       June         77504.34\n",
       "      7       July         79309.00\n",
       "      8       August       79210.81\n",
       "      9       September    81191.39\n",
       "      10      October      79498.66\n",
       "      11      November     78482.14\n",
       "      12      December     78356.19\n",
       "2025  1       January      76630.13\n",
       "      2       February     75727.45\n",
       "      3       March        76407.02\n",
       "      4       April        76087.01\n",
       "      5       May          76000.76\n",
       "      6       June         76787.75\n",
       "      7       July         75882.45\n",
       "      8       August       76187.78\n",
       "      9       September    75733.68\n",
       "      10      October      76268.63\n",
       "      11      November     75184.39\n",
       "      12      December     75100.42\n",
       "Name: Price, dtype: float64"
      ]
     },
     "execution_count": 138,
     "metadata": {},
     "output_type": "execute_result"
    }
   ],
   "source": [
    "df.groupby([\"Year\", \"Month#\", \"Month\"])[\"Price\"].mean().round(2)"
   ]
  }
 ],
 "metadata": {
  "colab": {
   "provenance": []
  },
  "kernelspec": {
   "display_name": "Python 3 (ipykernel)",
   "language": "python",
   "name": "python3"
  },
  "language_info": {
   "codemirror_mode": {
    "name": "ipython",
    "version": 3
   },
   "file_extension": ".py",
   "mimetype": "text/x-python",
   "name": "python",
   "nbconvert_exporter": "python",
   "pygments_lexer": "ipython3",
   "version": "3.12.0"
  }
 },
 "nbformat": 4,
 "nbformat_minor": 4
}
