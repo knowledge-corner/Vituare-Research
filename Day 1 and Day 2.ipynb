{
 "cells": [
  {
   "cell_type": "markdown",
   "id": "d14b1d16-855d-41c3-a780-3b8b46d78d6e",
   "metadata": {},
   "source": [
    "### Python Training Program\n",
    "\n",
    "- Programming Basics\n",
    "- Introduction to Python Programming\n",
    "- Python Data Types and Operators\n",
    "- Conditional Statements and Loops\n",
    "- Python Functions\n",
    "- Fundamentals of NumPy Library\n",
    "- Working With Pandas\n",
    "- Statistics Fundamentals\n",
    "- Transition from Excel VBA to Python\n",
    "- Overview of Python Libraries for Excel Automation(openpyxl, pandas)\n",
    "- Creating Python-based Excel Plugins/Add-ins\n",
    "- Advanced Excel Integration\t\n",
    "- Creating Custom Excel Plugins to Execute Python Scripts:\n",
    "- Integrating Dashboards and Advanced Visualizations with Python & Excel\n",
    "- Automating Data Fetching with APIs\t\n",
    "- Parsing and Processing JSON/XML Data: \n",
    "- Integrating API Data with Excel\n",
    "- Optical character recognition\t\n",
    "- Data Extraction from PDFs\t\n",
    "- Version Control with Git\t\n",
    "\n"
   ]
  },
  {
   "cell_type": "markdown",
   "id": "6678b456-3aaa-411d-b2e3-df1901b757a6",
   "metadata": {},
   "source": [
    "# Python Refresher - Day 1 & 2"
   ]
  },
  {
   "cell_type": "markdown",
   "id": "4ac62826-e9ca-4947-88cb-e3fab9480d6a",
   "metadata": {},
   "source": [
    "<hr>"
   ]
  },
  {
   "cell_type": "markdown",
   "id": "cbe33da4-0d16-479b-87df-4fcfd252b092",
   "metadata": {},
   "source": [
    "#### File formats - \n",
    "\n",
    "1. python file - filename.py  (pycharm, VScode, spyder, notepad) and execute it on terminal\n",
    "2. jupyter notebook - filename.ipynb (jupyter notebook, google colab)"
   ]
  },
  {
   "cell_type": "markdown",
   "id": "38dc10c9-309a-4a35-9849-335bfb89f1a3",
   "metadata": {},
   "source": [
    "### Python Interface\n",
    "\n",
    "A Python interface refers to the means through which you can interact with Python programs, libraries, or external systems. Here are a few different ways you can interface with Python:\n",
    "\n",
    "#### **1. Interactive Python Shell (REPL)**\n",
    "- **Description**: The Python Shell, also known as the Read-Eval-Print Loop (REPL), is an interactive command-line interface where you can type and execute Python commands one at a time. This is useful for quick experiments and debugging.\n",
    "- **Example**: You can start the Python Shell by simply typing `python` or `python3` in your terminal or command prompt.\n",
    "\n",
    "#### **2. Integrated Development Environments (IDEs)**\n",
    "- **Popular IDEs**: PyCharm, Visual Studio Code, Spyder, Jupyter Notebook.\n",
    "- **Description**: IDEs provide a comprehensive environment for writing, testing, and debugging Python code. They come with features like syntax highlighting, code completion, version control integration, and more.\n",
    "- **Example**: PyCharm offers an advanced interface with debugging tools, refactoring support, and integration with version control systems like Git.\n",
    "\n",
    "#### **3. Jupyter Notebooks**\n",
    "- **Description**: Jupyter Notebooks are an interactive web-based environment where you can combine code execution, text, and visualizations in a single document. This is particularly useful for data analysis, machine learning, and teaching.\n",
    "- **Example**: You can run Jupyter Notebooks by installing the Jupyter package and starting a notebook server with the command `jupyter notebook`.\n",
    "\n",
    "#### **4. Command-Line Interface (CLI)**\n",
    "- **Description**: Python scripts can be executed directly from the command line. You can write Python programs that take command-line arguments and perform tasks based on those arguments.\n",
    "- **Example**: A Python script named `myscript.py` can be run using `python myscript.py` in the terminal.\n",
    "\n",
    "#### **5. Google Colab Notebook**\n",
    "- Can be access using - https://colab.research.google.com/\n",
    "- Requires google sign-in\n",
    "\n",
    "Each of these interfaces serves different purposes and can be chosen based on the specific requirements of your project or task.\n",
    "<hr><br>\n",
    "\n",
    "### Features of Python Programming Language-\n",
    "Python is a versatile and powerful programming language that is widely used in various fields. Here are some of its key features:\n",
    "\n",
    "#### **1. Easy to Learn and Use**\n",
    "- **Readability**: Python has a clear and easy-to-read syntax which makes it accessible for beginners.\n",
    "- **Minimal Syntax**: Python code is concise and easy to write, reducing the need for complex boilerplate code.\n",
    "\n",
    "#### **2. Interpreted Language**\n",
    "- **No Compilation**: Python is an interpreted language, meaning you can run the code directly without needing to compile it first.\n",
    "- **Interactive Mode**: Python provides an interactive mode, allowing you to execute code line by line and test small snippets quickly.\n",
    "\n",
    "#### **3. High-Level Language**\n",
    "- **Abstracted Details**: Python abstracts many low-level details such as memory management, making it easier to focus on the logic of the code.\n",
    "- **Built-in Data Types**: Python includes powerful built-in data types such as lists, tuples, sets, and dictionaries.\n",
    "\n",
    "#### **4. Dynamically Typed**\n",
    "- **No Explicit Declarations**: Variable types are determined at runtime, eliminating the need for explicit type declarations.\n",
    "- **Flexibility**: This dynamic typing provides flexibility in coding and faster prototyping.\n",
    "\n",
    "#### **5. Extensive Standard Library**\n",
    "- **Wide Range of Modules**: Python's standard library includes modules for various tasks such as file I/O, system calls, web development, and data manipulation.\n",
    "- **Out-of-the-Box Functionality**: Many common programming tasks can be accomplished without the need for external libraries.\n",
    "\n",
    "#### **6. Cross-Platform Compatibility**\n",
    "- **Portable**: Python code can run on various operating systems such as Windows, macOS, and Linux without modification.\n",
    "- **Platform Independence**: Python's platform independence makes it ideal for developing cross-platform applications.\n",
    "\n",
    "#### **7. Object-Oriented Programming**\n",
    "- **Class Support**: Python supports object-oriented programming with classes and inheritance, allowing for modular and reusable code.\n",
    "- **Encapsulation and Polymorphism**: Python supports encapsulation and polymorphism, essential features for building complex applications.\n",
    "\n",
    "#### **8. Large Community and Ecosystem**\n",
    "- **Active Community**: Python has a large and active community that contributes to its continuous improvement.\n",
    "- **Rich Ecosystem**: There are numerous third-party libraries and frameworks available, such as NumPy for numerical computing, Pandas for data manipulation, Flask and Django for web development, and TensorFlow and PyTorch for machine learning.\n",
    "\n",
    "#### **9. Integration Capabilities**\n",
    "- **Interoperability**: Python can easily integrate with other languages and technologies, such as C, C++, Java, and .NET.\n",
    "- **Scripting**: It can be used as a scripting language to automate tasks and enhance the functionality of existing applications.\n",
    "\n",
    "#### **10. Strong Support for Data Science and Machine Learning**\n",
    "- **Data Analysis**: Python is extensively used in data analysis with libraries like Pandas, Matplotlib, and Seaborn.\n",
    "- **Machine Learning**: Python is a popular choice for machine learning and artificial intelligence with libraries like TensorFlow, Keras, and Scikit-Learn.\n",
    "  \n",
    "\n",
    "Python's combination of readability, flexibility, and an extensive ecosystem makes it an excellent choice for both beginners and experienced developers. Whether you're building web applications, data analysis tools, or machine learning models, Python provides the tools and features you need to succeed. \n",
    "<hr><br>\n",
    "\n",
    "### Python Data Types\n",
    "\n",
    "Python has several built-in data types that allow you to store and manipulate different kinds of data. Here are the primary data types in Python:\n",
    "\n",
    "<table style=\"width: 60%; border-collapse: collapse; border: 1px solid #ccc; text-align: center;margin-left: 0;\">\n",
    "  <thead>\n",
    "    <tr style=\"background-color: #050A30; color: white;\">\n",
    "      <th>Data Type</th>\n",
    "      <th>Description</th>\n",
    "      <th>Examples</th>\n",
    "    </tr>\n",
    "  </thead>\n",
    "  <tbody>\n",
    "    <tr>\n",
    "      <td>int</td>\n",
    "      <td>Integer numbers</td>\n",
    "      <td>42, -7</td>\n",
    "    </tr>\n",
    "    <tr>\n",
    "      <td>float</td>\n",
    "      <td>Floating-point numbers (decimal)</td>\n",
    "      <td>3.14, -0.001</td>\n",
    "    </tr>\n",
    "    <tr>\n",
    "      <td>complex</td>\n",
    "      <td>Complex numbers</td>\n",
    "      <td>1+2j, -3+4j</td>\n",
    "    </tr>\n",
    "    <tr>\n",
    "      <td>bool</td>\n",
    "      <td>Boolean values</td>\n",
    "      <td>True, False</td>\n",
    "    </tr>\n",
    "    <tr>\n",
    "      <td>str</td>\n",
    "      <td>String, a sequence of characters</td>\n",
    "      <td>\"hello\", 'world'</td>\n",
    "    </tr>\n",
    "    <tr>\n",
    "      <td>bytes</td>\n",
    "      <td>Immutable sequence of bytes</td>\n",
    "      <td>b'hello'</td>\n",
    "    </tr>\n",
    "  </tbody>\n",
    "</table>\n",
    "<hr><br>\n",
    "\n",
    "### Operators in Python\n",
    "Operators are special symbols in Python that carry out computations. The value that the operator operates on is called as operand.\n",
    "\n",
    "#### 1. Arithmetic Operators\n",
    "These operators perform arithmetic operations on numeric values.\n",
    "\n",
    "- `+` : Addition\n",
    "- `-` : Subtraction\n",
    "- `*` : Multiplication\n",
    "- `/` : Division\n",
    "- `%` : Modulus (remainder of division)\n",
    "- `**` : Exponentiation (power)\n",
    "- `//` : Floor division (division that results in the largest integer less than or equal to the quotient)\n",
    "\n",
    "#### 2. Comparison Operators\n",
    "These operators compare two values and return a boolean result (True or False).\n",
    "\n",
    "- `==` : Equal to\n",
    "- `!=` : Not equal to\n",
    "- `>` : Greater than\n",
    "- `<` : Less than\n",
    "- `>=` : Greater than or equal to\n",
    "- `<=` : Less than or equal to\n",
    "\n",
    "#### 3. Logical Operators\n",
    "These operators are used to combine conditional statements.\n",
    "\n",
    "- `and` : Returns True if both statements are true\n",
    "- `or` : Returns True if at least one of the statements is true\n",
    "- `not` : Reverses the result, returns False if the result is true\n",
    "\n",
    "#### 4. Basic Assignment Operator\n",
    "`=` : Assigns the value on the right to the variable on the left.\n",
    "\n",
    "#### Compound Assignment Operators\n",
    "These operators perform an operation on a variable and then assign the result back to that variable.\n",
    "\n",
    "- `+=` : Adds the right operand to the left operand and assigns the result to the left operand.\n",
    "- `-=` : Subtracts the right operand from the left operand and assigns the result to the left operand.\n",
    "- `*=` : Multiplies the left operand by the right operand and assigns the result to the left operand.\n",
    "- `/=` : Divides the left operand by the right operand and assigns the result to the left operand.\n",
    "- `%=` : Takes the modulus of the left operand by the right operand and assigns the result to the left operand.\n",
    "- `//=` : Performs floor division on the left operand by the right operand and assigns the result to the left operand.\n",
    "- `**=` : Raises the left operand to the power of the right operand and assigns the result to the left operand.\n",
    "\n",
    "### Membership Operators\n",
    "\n",
    "Membership operators are used to test whether a value or variable is found in a sequence (such as a string, list, tuple, set, or dictionary). There are two membership operators in Python:\n",
    "\n",
    "- `in` - The in operator checks if a value is present in a sequence.\n",
    "- `not in` - The not in operator checks if a value is not present in a sequence."
   ]
  },
  {
   "cell_type": "code",
   "execution_count": 2,
   "id": "ef21836d-2ef6-404a-a7ed-c01e7070f6d8",
   "metadata": {},
   "outputs": [],
   "source": [
    "# Comments in python"
   ]
  },
  {
   "cell_type": "markdown",
   "id": "cf4fb522-2f2a-40df-aa7a-3bce32a3db94",
   "metadata": {},
   "source": [
    "#### Examples - "
   ]
  },
  {
   "cell_type": "markdown",
   "id": "0f51e1b1-1d68-4524-bf4f-68f38d98bc22",
   "metadata": {},
   "source": [
    "###### Ex. WAP to take 2 numbers as input and print their addition"
   ]
  },
  {
   "cell_type": "code",
   "execution_count": 3,
   "id": "d4d14789-6a82-44b3-98bd-a0090a6be4e8",
   "metadata": {},
   "outputs": [
    {
     "name": "stdin",
     "output_type": "stream",
     "text": [
      "Enter a number -  5\n",
      "Enter a number -  7\n"
     ]
    },
    {
     "name": "stdout",
     "output_type": "stream",
     "text": [
      "57\n"
     ]
    }
   ],
   "source": [
    "num1 = input(\"Enter a number - \")\n",
    "num2 = input(\"Enter a number - \")\n",
    "print(num1 + num2)"
   ]
  },
  {
   "cell_type": "markdown",
   "id": "4ecd72e0-3259-41cf-a5f0-d017b75fabb8",
   "metadata": {},
   "source": [
    "- ##### Note - input() will always store the result in str format\n",
    "- use type(`var`) to get the dataype of the variable"
   ]
  },
  {
   "cell_type": "code",
   "execution_count": 4,
   "id": "c0626544-06e5-4fdb-ac07-582744a7dbd9",
   "metadata": {},
   "outputs": [
    {
     "data": {
      "text/plain": [
       "str"
      ]
     },
     "execution_count": 4,
     "metadata": {},
     "output_type": "execute_result"
    }
   ],
   "source": [
    "type(num1)"
   ]
  },
  {
   "cell_type": "code",
   "execution_count": 6,
   "id": "27e82455-93a7-4f49-bd17-7d4731e5bc2d",
   "metadata": {},
   "outputs": [
    {
     "name": "stdin",
     "output_type": "stream",
     "text": [
      "Enter a number -  5\n",
      "Enter a number -  7\n"
     ]
    },
    {
     "name": "stdout",
     "output_type": "stream",
     "text": [
      "Addition -  12\n"
     ]
    }
   ],
   "source": [
    "num1 = int(input(\"Enter a number - \"))\n",
    "num2 = int(input(\"Enter a number - \"))\n",
    "print(\"Addition - \", num1 + num2)"
   ]
  },
  {
   "cell_type": "markdown",
   "id": "b22f8977-7f27-44a3-89b6-fd64d9c76dcb",
   "metadata": {},
   "source": [
    "**Type Conversion Functions** - int(), float(), str(), bool()"
   ]
  },
  {
   "cell_type": "markdown",
   "id": "8461aee5-285d-46e0-9aeb-f226297f091c",
   "metadata": {},
   "source": [
    "###### Ex. Calculate Gross Pay\n",
    "- Example 1 - WAP to accept hours and rate per hour from user and compute gross pay."
   ]
  },
  {
   "cell_type": "code",
   "execution_count": 7,
   "id": "41bec3d4-cb5f-4488-8075-b9a7ff326da9",
   "metadata": {},
   "outputs": [
    {
     "name": "stdin",
     "output_type": "stream",
     "text": [
      "Enter number of hrous worked -  40\n",
      "Enter rate per hour -  1000\n"
     ]
    },
    {
     "name": "stdout",
     "output_type": "stream",
     "text": [
      "Gross Pay -  40000\n"
     ]
    }
   ],
   "source": [
    "hrs = int(input(\"Enter number of hrous worked - \"))\n",
    "rate = int(input(\"Enter rate per hour - \"))\n",
    "gross_pay = hrs * rate\n",
    "print(\"Gross Pay - \", gross_pay)"
   ]
  },
  {
   "cell_type": "markdown",
   "id": "21492c7f-a093-4274-a775-2e3fd81bf70e",
   "metadata": {},
   "source": [
    "- Define variables\n",
    "- take input from user\n",
    "- operators in python\n",
    "- data type conversion"
   ]
  },
  {
   "cell_type": "markdown",
   "id": "9aecc9be-eedc-4a0e-ab47-20223a3a678e",
   "metadata": {},
   "source": [
    "###### Ex. Convert the sales value in thousands and concate k as suffix"
   ]
  },
  {
   "cell_type": "code",
   "execution_count": 13,
   "id": "adc4d47f-c29b-443d-b85e-cb253f55223a",
   "metadata": {},
   "outputs": [
    {
     "data": {
      "text/plain": [
       "'53k'"
      ]
     },
     "execution_count": 13,
     "metadata": {},
     "output_type": "execute_result"
    }
   ],
   "source": [
    "sales = 53000\n",
    "str(sales//1000) + \"k\""
   ]
  },
  {
   "cell_type": "code",
   "execution_count": 16,
   "id": "eff77b5e-d0a7-47b3-b4b9-32d43231c235",
   "metadata": {},
   "outputs": [
    {
     "data": {
      "text/plain": [
       "'53.9k'"
      ]
     },
     "execution_count": 16,
     "metadata": {},
     "output_type": "execute_result"
    }
   ],
   "source": [
    "sales = 53875\n",
    "str(round(sales/1000, 1)) + \"k\""
   ]
  },
  {
   "cell_type": "code",
   "execution_count": 19,
   "id": "c6e1d6cd-0fd3-4e70-b82a-26d820b4b12c",
   "metadata": {},
   "outputs": [
    {
     "data": {
      "text/plain": [
       "'$53.9k'"
      ]
     },
     "execution_count": 19,
     "metadata": {},
     "output_type": "execute_result"
    }
   ],
   "source": [
    "sales = 53875\n",
    "f\"${round(sales/1000, 1)}k\"  # generates a str object by combining text and {calculation} "
   ]
  },
  {
   "cell_type": "code",
   "execution_count": null,
   "id": "4340a07e-0b34-48a1-a24e-8151347f7725",
   "metadata": {},
   "outputs": [],
   "source": [
    "str(53)  # - converting int value to str format\n",
    "\"abcd\" + \"pqr\"  # - concatatenation"
   ]
  },
  {
   "cell_type": "code",
   "execution_count": 20,
   "id": "a0858551-10be-4170-9e80-239a5ba733de",
   "metadata": {},
   "outputs": [
    {
     "data": {
      "text/plain": [
       "'Addition of 5 and 10 is 15'"
      ]
     },
     "execution_count": 20,
     "metadata": {},
     "output_type": "execute_result"
    }
   ],
   "source": [
    "a = 5\n",
    "b = 10\n",
    "c = a + b\n",
    "f\"Addition of {a} and {b} is {c}\"  # this is an example of formatted string"
   ]
  },
  {
   "attachments": {},
   "cell_type": "markdown",
   "id": "ba1da32e-267a-4d4a-9b21-a47b10e8fcfd",
   "metadata": {},
   "source": [
    "<hr><br>\n",
    "\n",
    "## Decision Making\n",
    "\n",
    "Decision-making statements in Python allow you to control the flow of execution based on certain conditions. These statements include if, elif, and else and can be used to execute different blocks of code depending on whether conditions are True or False.\n",
    "\n",
    "- #### Basic if Statement\n",
    "    - The if statement evaluates a condition and executes a block of code if the condition is True.\n",
    "    - Syntax:<br>\n",
    "      `if condition:`<br>\n",
    "          &emsp;&emsp;`# block of code`\n",
    "\n",
    "- #### if-else Statement\n",
    "    - The if-else statement evaluates a condition and executes one block of code if the condition is True, and another block if the condition is False.\n",
    "    - Syntax:<br>\n",
    "    `if condition:`<br>\n",
    "    &emsp;&emsp;`# block of code if condition is True`<br>\n",
    "       `else:`<br>\n",
    "    &emsp;&emsp;`# block of code if condition is False`\n",
    "- #### if-elif-else Statement\n",
    "    - The if-elif-else statement allows you to check multiple expressions for True and execute a block of code as soon as one of the conditions evaluates to True.\n",
    "    - If none of the conditions are True, the else block is executed.\n",
    "    - Syntax:<br>\n",
    "    `if condition1:`<br>\n",
    "    &emsp;&emsp;`# block of code if condition1 is True`<br>\n",
    "    `elif condition2:`<br>\n",
    "        &emsp;&emsp;`# block of code if condition2 is True`<br>\n",
    "    `elif condition3:`<br>\n",
    "        &emsp;&emsp;`# block of code if condition3 is True`<br>\n",
    "    `else:`<br>\n",
    "    &emsp;&emsp;`# block of code if none of the conditions are True`\n",
    "\n",
    "- #### Nested if Statements\n",
    "    - You can nest if statements within other if statements to check multiple conditions in a hierarchical manner.\n",
    "    - Syntax:<br>\n",
    "    `if condition1:`<br>\n",
    "    &emsp;&emsp;`# block of code if condition1 is True`<br>\n",
    "    &emsp;&emsp;`if condition2:`<br>\n",
    "        &emsp;&emsp;&emsp;&emsp;`# block of code if condition2 is True`<br>\n",
    "    &emsp;&emsp;`else condition3:`<br>\n",
    "        &emsp;&emsp;&emsp;&emsp;`# block of code if condition2 is False`<br>\n",
    "    `else:`<br>\n",
    "    &emsp;&emsp;`# block of code if condition1 is False`\n",
    "\n",
    "- #### One-Line if-else\n",
    "\n",
    "    - Syntax: <br>\n",
    "  `value_if_true if condition else value_if_false`\n"
   ]
  },
  {
   "cell_type": "markdown",
   "id": "ce965e70-bab0-493a-9061-2bd75ec3b1b5",
   "metadata": {},
   "source": [
    "#### Examples - "
   ]
  },
  {
   "cell_type": "markdown",
   "id": "06dc6cfb-27da-4e56-9bfb-4eb61789cf50",
   "metadata": {},
   "source": [
    "###### Ex. WAP to check if a number is even or odd"
   ]
  },
  {
   "cell_type": "code",
   "execution_count": 22,
   "id": "40707185-3c41-4093-974c-996eadb0a0a2",
   "metadata": {},
   "outputs": [
    {
     "name": "stdin",
     "output_type": "stream",
     "text": [
      "Enter a number -  5\n"
     ]
    },
    {
     "name": "stdout",
     "output_type": "stream",
     "text": [
      "5 is odd number\n"
     ]
    }
   ],
   "source": [
    "num = int(input(\"Enter a number - \"))\n",
    "if num % 2 == 0 :\n",
    "    print(num, \"is even number\")\n",
    "else :\n",
    "    print(num, \"is odd number\")    "
   ]
  },
  {
   "cell_type": "markdown",
   "id": "2c98c466-2be1-4856-b9fd-ad9785814acf",
   "metadata": {},
   "source": [
    "###### Ex. Calculate Gross Pay\n",
    "\n",
    "- Example 2 - Compute gross pay based on a condition\n",
    "    - Take hours worked and rate per hour as input from the user.\n",
    "    - If the hours worked are 40 or less, apply the given rate.\n",
    "    - If the hours worked exceed 40, apply the given rate for the first 40 hours and 1.5 times the rate for the additional hours as overtime pay."
   ]
  },
  {
   "cell_type": "code",
   "execution_count": 25,
   "id": "a7c8b7b6-b2c4-43cf-845c-9b665e97ae0e",
   "metadata": {},
   "outputs": [
    {
     "name": "stdin",
     "output_type": "stream",
     "text": [
      "Enter number of hrous worked -  45\n",
      "Enter rate per hour -  1000\n"
     ]
    },
    {
     "name": "stdout",
     "output_type": "stream",
     "text": [
      "Gross Pay -  47500.0\n"
     ]
    }
   ],
   "source": [
    "hrs = int(input(\"Enter number of hrous worked - \"))\n",
    "rate = int(input(\"Enter rate per hour - \"))\n",
    "if hrs <= 40 :\n",
    "    gross_pay = hrs * rate\n",
    "else:\n",
    "    gross_pay = (40 * rate) + ((hrs - 40) * 1.5 * rate)\n",
    "    \n",
    "print(\"Gross Pay - \", gross_pay)"
   ]
  },
  {
   "cell_type": "code",
   "execution_count": null,
   "id": "d8aa2923-9e63-41ef-a883-34bea80decb1",
   "metadata": {},
   "outputs": [],
   "source": [
    "40 1000 = 40000\n",
    "45 1000 = 47500"
   ]
  },
  {
   "cell_type": "markdown",
   "id": "98e01329-8e95-48a0-ad9f-6b0ffc46b10f",
   "metadata": {},
   "source": [
    "<hr><br>\n",
    "\n",
    "## Loops/Iteration\n",
    "\n",
    "Loops are used to execute of a specific block of code in repetitively\n",
    "\n",
    "### while loop\n",
    "- The ‘while loop’ in Python is used to iterate over a block of code as long as the test expression holds true\n",
    "- Event based loop\n",
    "- Event occurring inside the loop determines the number of iterations\n",
    "- This loop is used when the number of times to iterate is not known to us beforehand\n",
    "\n",
    "\n",
    "### for loop\n",
    "- The ‘for loop’ in Python is used to iterate over the items of a sequence object like list, tuple, string and other iterable objects\n",
    "- The iteration continues until we reach the last item in the sequence object\n",
    "- Counter driven loop\n",
    "- This loop is used when the number of times to iterate is predefined\n",
    "\n",
    "#### break statement\n",
    "- The ‘break’ statement ends the loop and resumes execution at the next statement\n",
    "- The break statement can be used in both ‘while’ loop and ‘for’ loop\n",
    "- It is always used with conditional statements\n",
    "\n",
    "#### continue statement\n",
    "- The ‘continue’ statement in Python ignores all the remaining statements in the iteration of the current loop and moves the control back to the beginning of the loop\n",
    "- The continue statement can be used in both ‘while’ loop and ‘for’ loop\n",
    "- It is always used with conditional statements"
   ]
  },
  {
   "cell_type": "markdown",
   "id": "e95622ff-e1dc-4f2a-8d70-801db78abfc2",
   "metadata": {},
   "source": [
    "#### Examples - "
   ]
  },
  {
   "cell_type": "code",
   "execution_count": 26,
   "id": "649d6814-4582-4b99-8b7f-a2a3b3296476",
   "metadata": {},
   "outputs": [
    {
     "data": {
      "text/plain": [
       "'abcd'"
      ]
     },
     "execution_count": 26,
     "metadata": {},
     "output_type": "execute_result"
    }
   ],
   "source": [
    "\"abcd\"  # - character sequence"
   ]
  },
  {
   "cell_type": "code",
   "execution_count": 29,
   "id": "f2f3fd63-83a3-46d1-85a1-4608b192f46b",
   "metadata": {},
   "outputs": [
    {
     "data": {
      "text/plain": [
       "[10, 20, 30, 40, 'abcd', 'pqr']"
      ]
     },
     "execution_count": 29,
     "metadata": {},
     "output_type": "execute_result"
    }
   ],
   "source": [
    "[10, 20, 30, 40, \"abcd\", \"pqr\"] # - container sequence - sequence of objects"
   ]
  },
  {
   "cell_type": "code",
   "execution_count": 28,
   "id": "a7fa9129-89f2-4675-b33d-1ae3f5ea1207",
   "metadata": {},
   "outputs": [
    {
     "data": {
      "text/plain": [
       "range(1, 6)"
      ]
     },
     "execution_count": 28,
     "metadata": {},
     "output_type": "execute_result"
    }
   ],
   "source": [
    "range(1, 6) # - generate a sequence of int from 1 to 5, doesnt return readable output but elements can be accessed using for-loop"
   ]
  },
  {
   "cell_type": "markdown",
   "id": "9df29583-78fb-4446-9990-0eccff5be2e4",
   "metadata": {},
   "source": [
    "###### Ex. WAP to print square of numbers in the given list"
   ]
  },
  {
   "cell_type": "code",
   "execution_count": 31,
   "id": "9a8ebdcf-37cd-49cf-ae30-1001e02e6549",
   "metadata": {},
   "outputs": [
    {
     "name": "stdout",
     "output_type": "stream",
     "text": [
      "10  -  100\n",
      "20  -  400\n",
      "30  -  900\n",
      "40  -  1600\n"
     ]
    }
   ],
   "source": [
    "lst = [10, 20, 30, 40, 50 , 60 , 70]\n",
    "for i in lst :\n",
    "    print(i, \" - \", i**2)"
   ]
  },
  {
   "cell_type": "markdown",
   "id": "a7e4facb-79bc-4c80-a112-1870e8158241",
   "metadata": {},
   "source": [
    "###### Can we print square of only even numbers from the list"
   ]
  },
  {
   "cell_type": "code",
   "execution_count": 35,
   "id": "60b9ae19-d989-474d-9373-e471d1fe4dc7",
   "metadata": {},
   "outputs": [
    {
     "name": "stdout",
     "output_type": "stream",
     "text": [
      "2  -  4\n",
      "4  -  16\n",
      "6  -  36\n"
     ]
    }
   ],
   "source": [
    "lst = [1, 2, 3, 4, 5, 6, 7]\n",
    "for i in lst :\n",
    "    if i % 2 == 0 :\n",
    "        print(i, \" - \", i**2)"
   ]
  },
  {
   "cell_type": "markdown",
   "id": "56f3ee2b-b33c-48a1-ae5c-d2f8f044191b",
   "metadata": {},
   "source": [
    "###### Ex. WAP to perform summation and product of first 10 natural numbers"
   ]
  },
  {
   "cell_type": "code",
   "execution_count": 38,
   "id": "853363cd-8712-4ffb-855c-3608e37d639b",
   "metadata": {},
   "outputs": [
    {
     "data": {
      "text/plain": [
       "55"
      ]
     },
     "execution_count": 38,
     "metadata": {},
     "output_type": "execute_result"
    }
   ],
   "source": [
    "sum(range(1, 11)) # - returns summation of sequence of int numbers, "
   ]
  },
  {
   "cell_type": "code",
   "execution_count": 39,
   "id": "763eb5db-fd47-4a28-8322-87643687df73",
   "metadata": {},
   "outputs": [
    {
     "data": {
      "text/plain": [
       "3628800"
      ]
     },
     "execution_count": 39,
     "metadata": {},
     "output_type": "execute_result"
    }
   ],
   "source": [
    "import math  # import a library\n",
    "\n",
    "math.prod(range(1, 11))"
   ]
  },
  {
   "cell_type": "markdown",
   "id": "e8de442b-d576-4070-846e-d3ff98d9c355",
   "metadata": {},
   "source": [
    "###### Ex. WAP to accept input from till he enters and int in the range of 1- 9"
   ]
  },
  {
   "cell_type": "code",
   "execution_count": 42,
   "id": "d80ab88f-d855-4535-a7d8-b69031f05a68",
   "metadata": {},
   "outputs": [
    {
     "name": "stdin",
     "output_type": "stream",
     "text": [
      "Enter a number -  10\n",
      "Enter a number -  5\n"
     ]
    },
    {
     "data": {
      "text/plain": [
       "5"
      ]
     },
     "execution_count": 42,
     "metadata": {},
     "output_type": "execute_result"
    }
   ],
   "source": [
    "num = 0 \n",
    "while num not in range(1, 10) :  # 1 - 9 \n",
    "    num = int(input(\"Enter a number - \"))\n",
    "num"
   ]
  },
  {
   "cell_type": "code",
   "execution_count": 45,
   "id": "9ff21ef6-7d9c-4283-8c48-581cbede2331",
   "metadata": {},
   "outputs": [
    {
     "name": "stdin",
     "output_type": "stream",
     "text": [
      "Enter a number in range of 1 - 9 :  abc\n"
     ]
    },
    {
     "name": "stdout",
     "output_type": "stream",
     "text": [
      "Please enter an int value\n"
     ]
    },
    {
     "name": "stdin",
     "output_type": "stream",
     "text": [
      "Enter a number in range of 1 - 9 :  10\n"
     ]
    },
    {
     "name": "stdout",
     "output_type": "stream",
     "text": [
      "Number must be in range of 1-9\n"
     ]
    },
    {
     "name": "stdin",
     "output_type": "stream",
     "text": [
      "Enter a number in range of 1 - 9 :  5\n"
     ]
    },
    {
     "data": {
      "text/plain": [
       "5"
      ]
     },
     "execution_count": 45,
     "metadata": {},
     "output_type": "execute_result"
    }
   ],
   "source": [
    "while True :   # infinite loop - never terminates\n",
    "    num = input(\"Enter a number in range of 1 - 9 : \") \n",
    "    if num.isdigit()  :  # str method to check if all characters are digit or not\n",
    "        num = int(num)\n",
    "        if num in range(1, 10) :\n",
    "            break  # terminates the loop - mandatory in case of infinite loops\n",
    "        else:\n",
    "            print(\"Number must be in range of 1-9\")\n",
    "    else:\n",
    "        print(\"Please enter an int value\")\n",
    "        \n",
    "num"
   ]
  },
  {
   "cell_type": "markdown",
   "id": "15fc325e-5df8-4f6d-9e6f-d0518cb4a657",
   "metadata": {},
   "source": [
    "#### Ex. Seven-up Seven-down \n",
    "\n",
    "###### Game Rules\n",
    "\n",
    "1. **Initial Setup:**\n",
    "    - The player starts with an initial amount of Rs. 1000.\n",
    "    - The balance amount from the previous game will be carried forward to the next round.\n",
    "\n",
    "2. **Game Mechanics:**\n",
    "\n",
    "    - An outcome is generated as a random number in the range of 1-17, which is displayed as \"Score\".\n",
    "    - Depending on the outcome:\n",
    "        - If the outcome is exactly 7, the player hits the jackpot and wins Rs. 1,00,000.\n",
    "        - If the outcome is less than 7, the player loses an amount equal to (outcome * 100).\n",
    "        - If the outcome is greater than 7, the player wins an amount equal to (outcome * 100).\n",
    "\n",
    "3. **Game Continuation:**\n",
    "    - After each round, the player can choose to continue playing or to \"quit\" the game.\n",
    "    - If the player hits the jackpot (outcome = 7), the game automatically stops.\n",
    "\n",
    "4. **Financial Management:**\n",
    "    - If the player's balance falls below Rs. 600 after a round, they have the option to top-up their balance by Rs. 1,000 to continue playing.\n",
    "    - If the player chooses not to top-up and their balance is insufficient to continue (less than Rs. 600), the game ends.\n",
    "\n",
    "5. **Outcome Display:**\n",
    "    - For each round, the outcome (score) and the resulting financial changes (win, lose, jackpot) are clearly displayed to the player.\n",
    "\n",
    "6. **Game Termination:**\n",
    "    - The game ends either when the player decides to quit or when they hit the jackpot (outcome = 7)."
   ]
  },
  {
   "cell_type": "code",
   "execution_count": 55,
   "id": "3a862299-194d-4443-aca1-fce781f2d380",
   "metadata": {},
   "outputs": [
    {
     "name": "stdout",
     "output_type": "stream",
     "text": [
      "Your Score -  6\n",
      "Insufficient Balance - 400.\n"
     ]
    },
    {
     "name": "stdin",
     "output_type": "stream",
     "text": [
      "Do you wish to top by 1000 to continue? yes/no yes\n"
     ]
    },
    {
     "name": "stdout",
     "output_type": "stream",
     "text": [
      "Your Score -  13\n",
      "Your current balance is 2700.\n"
     ]
    },
    {
     "name": "stdin",
     "output_type": "stream",
     "text": [
      "Do you wish to continue? yes/no ? no\n"
     ]
    },
    {
     "name": "stdout",
     "output_type": "stream",
     "text": [
      "Your final amount is - 2700\n"
     ]
    }
   ],
   "source": [
    "import random\n",
    "amount = 1000\n",
    "choice = \"yes\"\n",
    "\n",
    "while choice == \"yes\" :\n",
    "    outcome = random.randint(1, 14)\n",
    "    print(\"Your Score - \", outcome)\n",
    "    \n",
    "    if outcome < 7 :\n",
    "        amount -= (outcome * 100)\n",
    "    elif outcome > 7 :\n",
    "        amount += (outcome * 100)\n",
    "    else:\n",
    "        print(\"Congratulations!!! you have hit the jackpot\")\n",
    "        amount += 10000000\n",
    "        break\n",
    "\n",
    "    if amount < 600 :\n",
    "        print(f\"Insufficient Balance - {amount}.\")\n",
    "        choice = input(\"Do you wish to top by 1000 to continue? yes/no\").lower()\n",
    "        if choice == \"yes\" :\n",
    "            amount += 1000\n",
    "            continue  # - skips the rest of the code and jumps to next iteration\n",
    "        break\n",
    "\n",
    "    print(f\"Your current balance is {amount}.\")\n",
    "    choice = input(\"Do you wish to continue? yes/no ?\").lower()\n",
    "\n",
    "print(f\"Your final amount is - {amount}\")"
   ]
  },
  {
   "cell_type": "markdown",
   "id": "ace2ee17-da3f-4a88-b45f-eaee7002f559",
   "metadata": {},
   "source": [
    "<hr><br>\n",
    "\n",
    "## Sequence objects or Iterables\n",
    "- collection of elements - str, range(), enumerate(), zip(), map(), filter()\n",
    "- Container sequences/Objects  - list, tuple, dict, set\n",
    "- Note -  range(), enumerate(), zip(), map(), filter() - these are generating non-readable output when printed.\n",
    "- Note - Any sequence can be converted to list/tuple\n",
    " \n",
    "#### `Operations on Generic Sequences`\n",
    "    - Membership - in | not in\n",
    "    - Iteration - for-loop`\n",
    "\n",
    "#### `Operations on Ordered/Indexed Sequences`\n",
    "    - Indexing - obj[index_pos]\n",
    "    - Slicing - obj[start : stop]\n",
    "    - Concatenation - `+` operator\n",
    "    - Repeatition - `*` operator\n",
    "\n",
    "#### `Functions on Generic Sequences`\n",
    "     - len() - gives the number of elements in the sequence\n",
    "     - max() - gives the largest element in the sequence\n",
    "     - min() - gives the smallest element in the sequence\n",
    "     - sum() - applicable to numeric sequences, returns the sum of all elements in the sequence\n",
    "     - math.prod() - applicable to numeric sequences, returns the product of all elements in the sequence\n",
    "     - sorted() - sorts the elements in the sequence in ASC order and returns a list object\n",
    "<hr><br>\n",
    "\n",
    "### Python Sequences and Containers\n",
    "   \n",
    "<table style=\"width: 100%; border-collapse: collapse; border: 1px solid #ccc; text-align: center;\">\n",
    "  <thead>\n",
    "    <tr style=\"background-color: #050A30; color: white;\">\n",
    "      <th style=\"border: 1px solid #ccc; padding: 8px;\">Object</th>\n",
    "      <th style=\"border: 1px solid #ccc; padding: 8px;\">Container Object</th>\n",
    "      <th style=\"border: 1px solid #ccc; padding: 8px;\">Sequence Type</th>\n",
    "      <th style=\"border: 1px solid #ccc; padding: 8px;\">Element Type</th>\n",
    "      <th style=\"border: 1px solid #ccc; padding: 8px;\">Enclosed in</th>\n",
    "      <th style=\"border: 1px solid #ccc; padding: 8px;\">Immutability</th>\n",
    "      <th style=\"border: 1px solid #ccc; padding: 8px;\">Duplicates</th>\n",
    "    </tr>\n",
    "  </thead>\n",
    "  <tbody>\n",
    "    <tr>\n",
    "      <td style=\"border: 1px solid #ccc; padding: 8px;\">str()</td>\n",
    "      <td style=\"border: 1px solid #ccc; padding: 8px;\">No</td>\n",
    "      <td style=\"border: 1px solid #ccc; padding: 8px;\">ordered/indexed</td>\n",
    "      <td style=\"border: 1px solid #ccc; padding: 8px;\">characters</td>\n",
    "      <td style=\"border: 1px solid #ccc; padding: 8px;\">\"\" or ''</td>\n",
    "      <td style=\"border: 1px solid #ccc; padding: 8px;\">Yes</td>\n",
    "      <td style=\"border: 1px solid #ccc; padding: 8px;\">Yes</td>\n",
    "    </tr>\n",
    "    <tr>\n",
    "      <td style=\"border: 1px solid #ccc; padding: 8px;\">tuple()</td>\n",
    "      <td style=\"border: 1px solid #ccc; padding: 8px;\">Yes</td>\n",
    "      <td style=\"border: 1px solid #ccc; padding: 8px;\">ordered/indexed</td>\n",
    "      <td style=\"border: 1px solid #ccc; padding: 8px;\">mixed data (heterogeneous)</td>\n",
    "      <td style=\"border: 1px solid #ccc; padding: 8px;\">()</td>\n",
    "      <td style=\"border: 1px solid #ccc; padding: 8px;\">Yes</td>\n",
    "      <td style=\"border: 1px solid #ccc; padding: 8px;\">Yes</td>\n",
    "    </tr>\n",
    "    <tr>\n",
    "      <td style=\"border: 1px solid #ccc; padding: 8px;\">list()</td>\n",
    "      <td style=\"border: 1px solid #ccc; padding: 8px;\">Yes</td>\n",
    "      <td style=\"border: 1px solid #ccc; padding: 8px;\">ordered/indexed</td>\n",
    "      <td style=\"border: 1px solid #ccc; padding: 8px;\">mixed data (heterogeneous)</td>\n",
    "      <td style=\"border: 1px solid #ccc; padding: 8px;\">[]</td>\n",
    "      <td style=\"border: 1px solid #ccc; padding: 8px;\">No</td>\n",
    "      <td style=\"border: 1px solid #ccc; padding: 8px;\">Yes</td>\n",
    "    </tr>\n",
    "    <tr>\n",
    "      <td style=\"border: 1px solid #ccc; padding: 8px;\">set()</td>\n",
    "      <td style=\"border: 1px solid #ccc; padding: 8px;\">Yes</td>\n",
    "      <td style=\"border: 1px solid #ccc; padding: 8px;\">unordered</td>\n",
    "      <td style=\"border: 1px solid #ccc; padding: 8px;\">heterogeneous (immutable objects)</td>\n",
    "      <td style=\"border: 1px solid #ccc; padding: 8px;\">{}</td>\n",
    "      <td style=\"border: 1px solid #ccc; padding: 8px;\">No</td>\n",
    "      <td style=\"border: 1px solid #ccc; padding: 8px;\">No</td>\n",
    "    </tr>\n",
    "    <tr>\n",
    "      <td style=\"border: 1px solid #ccc; padding: 8px;\">dict()</td>\n",
    "      <td style=\"border: 1px solid #ccc; padding: 8px;\">Yes</td>\n",
    "      <td style=\"border: 1px solid #ccc; padding: 8px;\">unordered</td>\n",
    "      <td style=\"border: 1px solid #ccc; padding: 8px;\">Key - immutable<br>Value - any type</td>\n",
    "      <td style=\"border: 1px solid #ccc; padding: 8px;\">{}</td>\n",
    "      <td style=\"border: 1px solid #ccc; padding: 8px;\">No</td>\n",
    "      <td style=\"border: 1px solid #ccc; padding: 8px;\">Key - No<br>Value - Yes</td>\n",
    "    </tr>\n"
   ]
  },
  {
   "cell_type": "code",
   "execution_count": 56,
   "id": "8a3eadd8-3762-48ac-9573-c3fcada28a2d",
   "metadata": {},
   "outputs": [
    {
     "data": {
      "text/plain": [
       "'abcd'"
      ]
     },
     "execution_count": 56,
     "metadata": {},
     "output_type": "execute_result"
    }
   ],
   "source": [
    "\"abcd\" # str"
   ]
  },
  {
   "cell_type": "code",
   "execution_count": 57,
   "id": "5cc74450-7da3-438b-9a65-de86f81fb9ca",
   "metadata": {},
   "outputs": [
    {
     "data": {
      "text/plain": [
       "(1, 2, 3, 4)"
      ]
     },
     "execution_count": 57,
     "metadata": {},
     "output_type": "execute_result"
    }
   ],
   "source": [
    "(1, 2, 3, 4)  # tuple"
   ]
  },
  {
   "cell_type": "code",
   "execution_count": 58,
   "id": "9bc29e18-7887-484a-96c1-43b603a2d22a",
   "metadata": {},
   "outputs": [
    {
     "data": {
      "text/plain": [
       "[1, 2, 3, 4]"
      ]
     },
     "execution_count": 58,
     "metadata": {},
     "output_type": "execute_result"
    }
   ],
   "source": [
    "[1, 2, 3, 4] # list"
   ]
  },
  {
   "cell_type": "code",
   "execution_count": 59,
   "id": "afd536ae-c49e-4680-9471-550dd4749004",
   "metadata": {},
   "outputs": [
    {
     "data": {
      "text/plain": [
       "{1, 2, 3, 4, 5}"
      ]
     },
     "execution_count": 59,
     "metadata": {},
     "output_type": "execute_result"
    }
   ],
   "source": [
    "{1, 2, 3, 2, 4, 5} # set"
   ]
  },
  {
   "cell_type": "code",
   "execution_count": 60,
   "id": "235c8127-73b4-4f0d-9382-15c5a247c044",
   "metadata": {},
   "outputs": [
    {
     "data": {
      "text/plain": [
       "{'Jane': 50000, 'Jack': 80000, 'Sam': 40000}"
      ]
     },
     "execution_count": 60,
     "metadata": {},
     "output_type": "execute_result"
    }
   ],
   "source": [
    "{\"Jane\" : 50000, \"Jack\" : 80000, \"Sam\" : 40000} # dict"
   ]
  },
  {
   "cell_type": "markdown",
   "id": "05d045f7-76f8-497c-98ec-8db3a51820e0",
   "metadata": {},
   "source": [
    "#### Examples - "
   ]
  },
  {
   "cell_type": "markdown",
   "id": "20593cdc-efc5-4b87-b2b4-26d2e6d26fde",
   "metadata": {},
   "source": [
    "###### Ex. Vowels in a String\n",
    "WAP to extract and replace all the vowels in a string"
   ]
  },
  {
   "cell_type": "code",
   "execution_count": 61,
   "id": "28a98f31-cffd-416b-b7b6-bcc642033a09",
   "metadata": {},
   "outputs": [
    {
     "name": "stdout",
     "output_type": "stream",
     "text": [
      "i\n",
      "a\n",
      "o\n",
      "e\n"
     ]
    }
   ],
   "source": [
    "string = \"singapore\"\n",
    "for i in string :\n",
    "    if i in \"aeiou\" :\n",
    "        print(i)"
   ]
  },
  {
   "cell_type": "code",
   "execution_count": 62,
   "id": "dc76e258-d678-40fa-8c7a-288e9493abac",
   "metadata": {},
   "outputs": [
    {
     "data": {
      "text/plain": [
       "'sing*pore'"
      ]
     },
     "execution_count": 62,
     "metadata": {},
     "output_type": "execute_result"
    }
   ],
   "source": [
    "string.replace(\"a\", \"*\")"
   ]
  },
  {
   "cell_type": "code",
   "execution_count": 64,
   "id": "a1288b47-60e7-4ff4-9ee5-8b7673292e78",
   "metadata": {},
   "outputs": [
    {
     "data": {
      "text/plain": [
       "'s*ng*p*r*'"
      ]
     },
     "execution_count": 64,
     "metadata": {},
     "output_type": "execute_result"
    }
   ],
   "source": [
    "string = \"singapore\"\n",
    "for i in string :\n",
    "    if i in \"aeiou\" :\n",
    "        string = string.replace(i, \"*\")  # strings are immutable\n",
    "string"
   ]
  },
  {
   "cell_type": "code",
   "execution_count": 70,
   "id": "47c1c838-3c91-42e6-940e-4967cab3ea00",
   "metadata": {},
   "outputs": [
    {
     "data": {
      "text/plain": [
       "'s*ng*p*r*'"
      ]
     },
     "execution_count": 70,
     "metadata": {},
     "output_type": "execute_result"
    }
   ],
   "source": [
    "obj = str.maketrans(\"aeiou\", \"*****\")\n",
    "string.translate(obj)"
   ]
  },
  {
   "cell_type": "markdown",
   "id": "9cb8c69b-d820-48f8-84ca-98d859d62efc",
   "metadata": {},
   "source": [
    "###### Ex. Working on currency values\n",
    "\n",
    "WAP to convert the given sales value to int. profit = $1,200"
   ]
  },
  {
   "cell_type": "code",
   "execution_count": 69,
   "id": "c758bac0-80bf-4e14-a396-1bd636f44acb",
   "metadata": {},
   "outputs": [
    {
     "data": {
      "text/plain": [
       "5000"
      ]
     },
     "execution_count": 69,
     "metadata": {},
     "output_type": "execute_result"
    }
   ],
   "source": [
    "sales = \"$5000\"\n",
    "int(sales.replace(\"$\", \"\"))"
   ]
  },
  {
   "cell_type": "code",
   "execution_count": 73,
   "id": "c3b869cf-bcd8-40ff-9daa-9d42caa4904e",
   "metadata": {},
   "outputs": [
    {
     "data": {
      "text/plain": [
       "-1200"
      ]
     },
     "execution_count": 73,
     "metadata": {},
     "output_type": "execute_result"
    }
   ],
   "source": [
    "profit = \"($1,200)\"\n",
    "obj = str.maketrans(\"(\", \"-\", \"$),\")\n",
    "int(profit.translate(obj))"
   ]
  },
  {
   "cell_type": "code",
   "execution_count": 74,
   "id": "066d7daf-7f52-4ce7-ae31-20728e490e39",
   "metadata": {},
   "outputs": [
    {
     "name": "stdout",
     "output_type": "stream",
     "text": [
      "['__add__', '__class__', '__contains__', '__delattr__', '__dir__', '__doc__', '__eq__', '__format__', '__ge__', '__getattribute__', '__getitem__', '__getnewargs__', '__getstate__', '__gt__', '__hash__', '__init__', '__init_subclass__', '__iter__', '__le__', '__len__', '__lt__', '__mod__', '__mul__', '__ne__', '__new__', '__reduce__', '__reduce_ex__', '__repr__', '__rmod__', '__rmul__', '__setattr__', '__sizeof__', '__str__', '__subclasshook__', 'capitalize', 'casefold', 'center', 'count', 'encode', 'endswith', 'expandtabs', 'find', 'format', 'format_map', 'index', 'isalnum', 'isalpha', 'isascii', 'isdecimal', 'isdigit', 'isidentifier', 'islower', 'isnumeric', 'isprintable', 'isspace', 'istitle', 'isupper', 'join', 'ljust', 'lower', 'lstrip', 'maketrans', 'partition', 'removeprefix', 'removesuffix', 'replace', 'rfind', 'rindex', 'rjust', 'rpartition', 'rsplit', 'rstrip', 'split', 'splitlines', 'startswith', 'strip', 'swapcase', 'title', 'translate', 'upper', 'zfill']\n"
     ]
    }
   ],
   "source": [
    "print(dir(str))"
   ]
  },
  {
   "cell_type": "markdown",
   "id": "f574d4fa-0f75-4bdf-9630-1e22c54e664f",
   "metadata": {},
   "source": [
    "###### Ex. Calculate Percentage\n",
    "Write a program to compute the percentages of 10 students from the provided list. Display the results in a tabular format showing each student's ID and percentage. The student IDs should be generated sequentially starting from 101."
   ]
  },
  {
   "cell_type": "code",
   "execution_count": 78,
   "id": "60b380d0-d280-40a9-9081-7b7d4c332719",
   "metadata": {},
   "outputs": [
    {
     "name": "stdout",
     "output_type": "stream",
     "text": [
      "67.0\n",
      "56.7\n",
      "56.0\n",
      "64.0\n",
      "70.0\n",
      "63.0\n",
      "57.3\n",
      "52.3\n",
      "67.3\n",
      "60.3\n"
     ]
    }
   ],
   "source": [
    "marks = [(51, 67, 83), (41, 93, 36), (50, 31, 87), (94, 46, 52), (80, 61, 69), (72, 77, 40), (54, 64, 54), (84, 33, 40), (56, 56, 90), (45, 75, 61)]\n",
    "\n",
    "for i in marks :\n",
    "    print(round(sum(i)/3, 1))"
   ]
  },
  {
   "cell_type": "code",
   "execution_count": 81,
   "id": "1a8adfc3-571d-4f47-9821-b279839bc25a",
   "metadata": {},
   "outputs": [
    {
     "data": {
      "text/plain": [
       "[(0, 10), (1, 20), (2, 30), (3, 40)]"
      ]
     },
     "execution_count": 81,
     "metadata": {},
     "output_type": "execute_result"
    }
   ],
   "source": [
    "# The enumerate object yields pairs containing a count (from start, which defaults to zero) and a value yielded by the iterable argument.\n",
    "lst = [10, 20, 30, 40]\n",
    "list(enumerate(lst))"
   ]
  },
  {
   "cell_type": "code",
   "execution_count": 82,
   "id": "1e1fd331-1de2-4ac2-86c6-dffb3ef98bcf",
   "metadata": {},
   "outputs": [
    {
     "data": {
      "text/plain": [
       "[(101, 10), (102, 20), (103, 30), (104, 40)]"
      ]
     },
     "execution_count": 82,
     "metadata": {},
     "output_type": "execute_result"
    }
   ],
   "source": [
    "lst = [10, 20, 30, 40]\n",
    "list(enumerate(lst, start = 101))"
   ]
  },
  {
   "cell_type": "code",
   "execution_count": 84,
   "id": "3aa56e48-2c07-4870-a554-edc10d0828d5",
   "metadata": {},
   "outputs": [
    {
     "name": "stdout",
     "output_type": "stream",
     "text": [
      "101  -  10\n",
      "102  -  20\n",
      "103  -  30\n",
      "104  -  40\n"
     ]
    }
   ],
   "source": [
    "for i, j in enumerate(lst, start = 101) :\n",
    "    print(i, \" - \", j)"
   ]
  },
  {
   "cell_type": "code",
   "execution_count": 91,
   "id": "68e0a308-d215-448b-a374-e81530053b03",
   "metadata": {},
   "outputs": [
    {
     "name": "stdout",
     "output_type": "stream",
     "text": [
      "ID \t Percentage\n",
      "--------------------\n",
      "101 \t 67.0%\n",
      "102 \t 56.7%\n",
      "103 \t 56.0%\n",
      "104 \t 64.0%\n",
      "105 \t 70.0%\n",
      "106 \t 63.0%\n",
      "107 \t 57.3%\n",
      "108 \t 52.3%\n",
      "109 \t 67.3%\n",
      "110 \t 60.3%\n"
     ]
    }
   ],
   "source": [
    "marks = [(51, 67, 83), (41, 93, 36), (50, 31, 87), (94, 46, 52), (80, 61, 69), (72, 77, 40), (54, 64, 54), (84, 33, 40), (56, 56, 90), (45, 75, 61)]\n",
    "print(f\"ID \\t Percentage\")\n",
    "print(\"-\"*20)\n",
    "for i, j in enumerate(marks, start = 101) :\n",
    "    print(f\"{i} \\t {round(sum(j)/3, 1)}%\")"
   ]
  },
  {
   "cell_type": "markdown",
   "id": "bee9fb7a-f390-4f4c-bfdd-8293ddfb3a64",
   "metadata": {},
   "source": [
    "<hr>\n",
    "\n",
    "### Python Revision"
   ]
  },
  {
   "cell_type": "markdown",
   "id": "2fb1ccc7-8d3c-4bb0-8d70-0612e2659f44",
   "metadata": {},
   "source": [
    "###### Ex. WAP to take name of book as input from user and check if it is present in the inventory"
   ]
  },
  {
   "cell_type": "code",
   "execution_count": 3,
   "id": "7acfd1bb-301f-4fa0-b7c9-bdd8936d691b",
   "metadata": {},
   "outputs": [
    {
     "name": "stdin",
     "output_type": "stream",
     "text": [
      "Enter book name -  Python 101\n"
     ]
    },
    {
     "name": "stdout",
     "output_type": "stream",
     "text": [
      "Yes\n"
     ]
    }
   ],
   "source": [
    "available_books = [\"Python 101\", \"Data Science Handbook\", \"Machine Learning\", \"Deep Learning\"]\n",
    "book_name = input(\"Enter book name - \")\n",
    "if book_name in available_books  :\n",
    "    print(\"Yes\")\n",
    "else:\n",
    "    print(\"No\")"
   ]
  },
  {
   "cell_type": "markdown",
   "id": "eb60452a-3d9b-4469-b5a5-b09e7589ece4",
   "metadata": {},
   "source": [
    "###### Ex. WAP to calculate total amount credited to the account and total amount debited from account based on following transactions - "
   ]
  },
  {
   "cell_type": "code",
   "execution_count": 6,
   "id": "1bda4ef9-9a9c-4cd8-a9e4-0dc72db3e39c",
   "metadata": {},
   "outputs": [
    {
     "name": "stdout",
     "output_type": "stream",
     "text": [
      "Total amount credited - 6500 | total debited amount - 1800\n"
     ]
    }
   ],
   "source": [
    "transactions = [2000, -500, 1500, -1200, -100, 3000]\n",
    "total_credit = 0 \n",
    "total_debit = 0\n",
    "for amount in transactions :\n",
    "    if amount > 0 :\n",
    "        total_credit += amount\n",
    "    else:\n",
    "        total_debit += amount\n",
    "\n",
    "print(f\"Total amount credited - {total_credit} | total debited amount - {abs(total_debit)}\")"
   ]
  },
  {
   "cell_type": "markdown",
   "id": "f71a0651-0cd8-41a1-a9fb-1d8dc6a56517",
   "metadata": {},
   "source": [
    "###### Ex. WAP to display the names of the products which are out of stock from the given inventory"
   ]
  },
  {
   "cell_type": "code",
   "execution_count": 8,
   "id": "e16bfd7d-878b-4e2d-9865-1de7a9b784fd",
   "metadata": {},
   "outputs": [
    {
     "data": {
      "text/plain": [
       "5"
      ]
     },
     "execution_count": 8,
     "metadata": {},
     "output_type": "execute_result"
    }
   ],
   "source": [
    "inventory = {\"Shoes\": 10, \"Bags\": 5, \"Watches\": 0, \"Belts\": 3}\n",
    "inventory[\"Bags\"] # Extract value from the dict based on keys"
   ]
  },
  {
   "cell_type": "code",
   "execution_count": 10,
   "id": "57e0c1ce-83dd-4578-9826-bd72680a7c3f",
   "metadata": {},
   "outputs": [
    {
     "name": "stdout",
     "output_type": "stream",
     "text": [
      "Shoes  -  10\n",
      "Bags  -  5\n",
      "Watches  -  0\n",
      "Belts  -  3\n"
     ]
    }
   ],
   "source": [
    "# option 1 - to extract all the values\n",
    "for product in inventory:\n",
    "    print(product, \" - \", inventory[product])"
   ]
  },
  {
   "cell_type": "code",
   "execution_count": 12,
   "id": "3e9ee723-d618-45be-b134-8253be3645a9",
   "metadata": {},
   "outputs": [
    {
     "data": {
      "text/plain": [
       "dict_items([('Shoes', 10), ('Bags', 5), ('Watches', 0), ('Belts', 3)])"
      ]
     },
     "execution_count": 12,
     "metadata": {},
     "output_type": "execute_result"
    }
   ],
   "source": [
    "inventory.items() # Sequence of tuples of key value pairs"
   ]
  },
  {
   "cell_type": "code",
   "execution_count": 13,
   "id": "e6dcb87e-ad68-4134-90c8-44ef55ca9b34",
   "metadata": {},
   "outputs": [
    {
     "name": "stdout",
     "output_type": "stream",
     "text": [
      "Shoes  -  10\n",
      "Bags  -  5\n",
      "Watches  -  0\n",
      "Belts  -  3\n"
     ]
    }
   ],
   "source": [
    "# option 2 - to extract all the values\n",
    "for i, j in inventory.items():\n",
    "    print(i, \" - \", j)"
   ]
  },
  {
   "cell_type": "code",
   "execution_count": 16,
   "id": "7797d96a-f7be-4871-857d-45c59f7b4e09",
   "metadata": {},
   "outputs": [
    {
     "name": "stdout",
     "output_type": "stream",
     "text": [
      "Watches is out of stock\n",
      "Belts is low stock\n"
     ]
    }
   ],
   "source": [
    "for product, quantity in inventory.items():\n",
    "    if quantity == 0 :\n",
    "        print(f\"{product} is out of stock\")\n",
    "    elif quantity < 5 :\n",
    "        print(f\"{product} is low stock\")"
   ]
  },
  {
   "cell_type": "markdown",
   "id": "2d9ef43d-57f3-4c11-ac44-14b8fbf31d71",
   "metadata": {},
   "source": [
    "<hr><br>\n",
    "\n",
    "### Comprehensions in Python\n",
    "\n",
    "- A **`comprehension`** is a concise and readable way to create and manipulate collections such as lists, dictionaries, and sets.\n",
    "- Comprehensions provide a compact syntax to generate new sequences by applying an expression to each item in an existing sequence or iterable.\n",
    "- Syntax - `[<expression> for <var> in <sequence> if <condition>]`\n",
    "- The steps to work on a comprehension:\n",
    "    1. Identify the iterable or sequence.\n",
    "    2. Determine any conditions or filters.\n",
    "    3. Define the expression or operation to apply.\n",
    "    4. Specify the target mutable data structure.\n",
    "- Note - Do not work with while loop, break and continue statements"
   ]
  },
  {
   "cell_type": "markdown",
   "id": "8a49a66e-8d23-4cf3-a299-c59e2642382b",
   "metadata": {},
   "source": [
    "###### Ex. WAP to add 7% service tax to all the values in the \"sales\" list"
   ]
  },
  {
   "cell_type": "code",
   "execution_count": 18,
   "id": "8dc10ad1-c9d7-48e6-b24e-4ff241b9f27d",
   "metadata": {},
   "outputs": [
    {
     "name": "stdout",
     "output_type": "stream",
     "text": [
      "[310.3, 535.0, 856.0, 695.5]\n"
     ]
    }
   ],
   "source": [
    "sales = [290, 500, 800, 650]\n",
    "result = [i * 1.07 for i in sales]\n",
    "print(result)"
   ]
  },
  {
   "cell_type": "markdown",
   "id": "1cc66b4c-1a6a-4bf0-a5da-259467074087",
   "metadata": {},
   "source": [
    "###### Ex. WAP to create a list of squares of numbers from 1-5"
   ]
  },
  {
   "cell_type": "code",
   "execution_count": 19,
   "id": "04f20efb-0ae2-4f18-926a-d628b4b8a7d4",
   "metadata": {},
   "outputs": [
    {
     "name": "stdout",
     "output_type": "stream",
     "text": [
      "[1, 4, 9, 16, 25]\n"
     ]
    }
   ],
   "source": [
    "squares = [i**2 for i in range(1, 6)]\n",
    "print(squares)"
   ]
  },
  {
   "cell_type": "markdown",
   "id": "8ea723af-37e3-4331-bf6e-fffa53e6100c",
   "metadata": {},
   "source": [
    "###### Ex. WAP to create a list of squares of even numbers from 1-20"
   ]
  },
  {
   "cell_type": "code",
   "execution_count": 21,
   "id": "36c9949b-6feb-469d-be47-43acdc36c677",
   "metadata": {},
   "outputs": [
    {
     "name": "stdout",
     "output_type": "stream",
     "text": [
      "[4, 16, 36, 64, 100, 144, 196, 256, 324, 400]\n"
     ]
    }
   ],
   "source": [
    "squares = [i**2 for i in range(1, 21) if i % 2 == 0]\n",
    "print(squares)"
   ]
  },
  {
   "cell_type": "markdown",
   "id": "69f8754d-ef99-4bfd-a5b4-ab32142cfc98",
   "metadata": {},
   "source": [
    "###### Ex. WAP to create a dict with key as number and its square as its value for numbers from 1-5"
   ]
  },
  {
   "cell_type": "code",
   "execution_count": 22,
   "id": "986f1c1e-21b4-46ed-b085-f3bdd3db937d",
   "metadata": {},
   "outputs": [
    {
     "name": "stdout",
     "output_type": "stream",
     "text": [
      "{1: 1, 2: 4, 3: 9, 4: 16, 5: 25}\n"
     ]
    }
   ],
   "source": [
    "squares = {i : i**2 for i in range(1, 6)}\n",
    "print(squares)"
   ]
  },
  {
   "cell_type": "markdown",
   "id": "04d7715d-1271-41fa-bd08-1ebc494fbc30",
   "metadata": {},
   "source": [
    "###### Ex. Convert the list of sales value in thousands and concate k as suffix and store them in a new list"
   ]
  },
  {
   "cell_type": "code",
   "execution_count": 23,
   "id": "555e695a-564d-45aa-b5d1-d88d6d3c12f2",
   "metadata": {},
   "outputs": [
    {
     "data": {
      "text/plain": [
       "['53k', '20k', '55k', '85k']"
      ]
     },
     "execution_count": 23,
     "metadata": {},
     "output_type": "execute_result"
    }
   ],
   "source": [
    "sales = [53000, 20000, 55000, 85000]\n",
    "[f\"{i//1000}k\" for i in sales]"
   ]
  },
  {
   "cell_type": "markdown",
   "id": "f8aa9251-b202-4b73-badc-f8a98c9d4b23",
   "metadata": {},
   "source": [
    "###### Ex. Create a list of products with low stock levels."
   ]
  },
  {
   "cell_type": "code",
   "execution_count": 27,
   "id": "9538f601-3807-4327-af2c-c8d457ac2b54",
   "metadata": {},
   "outputs": [
    {
     "data": {
      "text/plain": [
       "['banana', 'date']"
      ]
     },
     "execution_count": 27,
     "metadata": {},
     "output_type": "execute_result"
    }
   ],
   "source": [
    "inventory = {\"apple\": 50, \"banana\": 10, \"cherry\": 75, \"date\": 5}\n",
    "[product for product, quantity in inventory.items() if quantity <= 10 ]"
   ]
  },
  {
   "cell_type": "markdown",
   "id": "a498cd97-0ebd-49b3-a23c-3cbb713e6e0b",
   "metadata": {},
   "source": [
    "<hr><br>\n",
    "\n",
    "### Functions in Python\n",
    "Function arguments in Python are the inputs passed to a function to enable it to perform its intended operation.\n",
    "\n",
    "#### **Types of Function Arguments**\n",
    "\n",
    "1. **Positional Arguments**  \n",
    "   - These are the most common type.\n",
    "   - Passed in order, matching the function's parameters.\n",
    "\n",
    "2. **Default Arguments**  \n",
    "   - Predefined values are set; they are optional while calling the function.\n",
    "\n",
    "3. **Keyword Arguments**  \n",
    "   - Arguments passed with the name of the parameter explicitly.\n",
    "   - Useful for clarity and flexibility in function calls.\n",
    "\n",
    "4. **Variable-Length Arguments**\n",
    "   - **`*args` (Non-Keyword Arguments):** Allows passing a variable number of arguments as a tuple.\n",
    "     ```\n",
    "   - **`**kwargs` (Keyword Arguments):** Allows passing variable keyword arguments as a dictionary.\n",
    "\n",
    "**Key Notes**\n",
    "- **Order Matters:** Positional arguments must precede keyword arguments.\n",
    "- **Packing/Unpacking:** `*` and `**` are used to pack or unpack arguments, making functions more versatile.\n",
    "- **Default vs Non-Default:** Non-default arguments must come first when defining functions."
   ]
  },
  {
   "cell_type": "code",
   "execution_count": 32,
   "id": "b3f4344a-c27c-4922-baaf-fe7b49ce2ef2",
   "metadata": {},
   "outputs": [
    {
     "name": "stdout",
     "output_type": "stream",
     "text": [
      "Name - Jane | Age - 30\n",
      "Name - 30 | Age - Jane\n"
     ]
    },
    {
     "ename": "TypeError",
     "evalue": "demo() missing 1 required positional argument: 'age'",
     "output_type": "error",
     "traceback": [
      "\u001b[1;31m---------------------------------------------------------------------------\u001b[0m",
      "\u001b[1;31mTypeError\u001b[0m                                 Traceback (most recent call last)",
      "Cell \u001b[1;32mIn[32], line 6\u001b[0m\n\u001b[0;32m      4\u001b[0m demo(\u001b[38;5;124m\"\u001b[39m\u001b[38;5;124mJane\u001b[39m\u001b[38;5;124m\"\u001b[39m, \u001b[38;5;241m30\u001b[39m)\n\u001b[0;32m      5\u001b[0m demo(\u001b[38;5;241m30\u001b[39m, \u001b[38;5;124m\"\u001b[39m\u001b[38;5;124mJane\u001b[39m\u001b[38;5;124m\"\u001b[39m)\n\u001b[1;32m----> 6\u001b[0m \u001b[43mdemo\u001b[49m\u001b[43m(\u001b[49m\u001b[38;5;124;43m\"\u001b[39;49m\u001b[38;5;124;43mJane\u001b[39;49m\u001b[38;5;124;43m\"\u001b[39;49m\u001b[43m)\u001b[49m\n",
      "\u001b[1;31mTypeError\u001b[0m: demo() missing 1 required positional argument: 'age'"
     ]
    }
   ],
   "source": [
    "# Required Positional Argument\n",
    "def demo(name, age) :\n",
    "    print(f\"Name - {name} | Age - {age}\")\n",
    "\n",
    "demo(\"Jane\", 30)\n",
    "demo(30, \"Jane\")\n",
    "demo(\"Jane\")"
   ]
  },
  {
   "cell_type": "code",
   "execution_count": 35,
   "id": "f0ae4e2c-cc1c-4645-9edc-5a1747edfc9d",
   "metadata": {},
   "outputs": [
    {
     "name": "stdout",
     "output_type": "stream",
     "text": [
      "Name - Jane | Age - 30\n",
      "Name - 30 | Age - Jane\n",
      "Name - Jane | Age - 25\n"
     ]
    }
   ],
   "source": [
    "# Default Argument\n",
    "def demo(name, age = 25) :\n",
    "    print(f\"Name - {name} | Age - {age}\")\n",
    "\n",
    "demo(\"Jane\", 30)\n",
    "demo(30, \"Jane\")\n",
    "demo(\"Jane\")"
   ]
  },
  {
   "cell_type": "markdown",
   "id": "863b2d14-aa50-481e-a3cd-7eb46cc82118",
   "metadata": {},
   "source": [
    "#### Examples"
   ]
  },
  {
   "cell_type": "code",
   "execution_count": 36,
   "id": "d10445b9-7f86-4a7a-8d40-fb3e5c4a7e9e",
   "metadata": {},
   "outputs": [
    {
     "data": {
      "text/plain": [
       "4"
      ]
     },
     "execution_count": 36,
     "metadata": {},
     "output_type": "execute_result"
    }
   ],
   "source": [
    "len(\"abcd\")"
   ]
  },
  {
   "cell_type": "code",
   "execution_count": 37,
   "id": "e6eb5ec0-c7cb-4bbc-9f1d-d398ea6b1c45",
   "metadata": {},
   "outputs": [
    {
     "ename": "TypeError",
     "evalue": "len() takes exactly one argument (0 given)",
     "output_type": "error",
     "traceback": [
      "\u001b[1;31m---------------------------------------------------------------------------\u001b[0m",
      "\u001b[1;31mTypeError\u001b[0m                                 Traceback (most recent call last)",
      "Cell \u001b[1;32mIn[37], line 1\u001b[0m\n\u001b[1;32m----> 1\u001b[0m \u001b[38;5;28;43mlen\u001b[39;49m\u001b[43m(\u001b[49m\u001b[43m)\u001b[49m\n",
      "\u001b[1;31mTypeError\u001b[0m: len() takes exactly one argument (0 given)"
     ]
    }
   ],
   "source": [
    "len()  # Required argument"
   ]
  },
  {
   "cell_type": "code",
   "execution_count": 38,
   "id": "ba22dac5-1c74-42b9-923c-7e82ed5e7dd6",
   "metadata": {},
   "outputs": [
    {
     "data": {
      "text/plain": [
       "'m*ss*ss*pp*'"
      ]
     },
     "execution_count": 38,
     "metadata": {},
     "output_type": "execute_result"
    }
   ],
   "source": [
    "string = \"mississippi\"\n",
    "string.replace(\"i\", \"*\") # Positional argument"
   ]
  },
  {
   "cell_type": "code",
   "execution_count": 39,
   "id": "0b7c1deb-01b5-424a-a0bb-b82b46db037f",
   "metadata": {},
   "outputs": [
    {
     "data": {
      "text/plain": [
       "'mississippi'"
      ]
     },
     "execution_count": 39,
     "metadata": {},
     "output_type": "execute_result"
    }
   ],
   "source": [
    "string = \"mississippi\"\n",
    "string.replace(\"*\", \"i\") # Positional argument"
   ]
  },
  {
   "cell_type": "code",
   "execution_count": 45,
   "id": "89c7f9ac-88b0-46ff-b6a9-3400cd0198dc",
   "metadata": {},
   "outputs": [
    {
     "data": {
      "text/plain": [
       "'m*ss*ssippi'"
      ]
     },
     "execution_count": 45,
     "metadata": {},
     "output_type": "execute_result"
    }
   ],
   "source": [
    "string = \"mississippi\"\n",
    "string.replace(\"i\", \"*\", 2) # default argument"
   ]
  },
  {
   "cell_type": "code",
   "execution_count": 40,
   "id": "1fbb8c18-b824-4751-90db-c01d7cf8ff00",
   "metadata": {},
   "outputs": [
    {
     "name": "stdout",
     "output_type": "stream",
     "text": [
      "Help on built-in function replace:\n",
      "\n",
      "replace(old, new, count=-1, /) method of builtins.str instance\n",
      "    Return a copy with all occurrences of substring old replaced by new.\n",
      "\n",
      "      count\n",
      "        Maximum number of occurrences to replace.\n",
      "        -1 (the default value) means replace all occurrences.\n",
      "\n",
      "    If the optional argument count is given, only the first count occurrences are\n",
      "    replaced.\n",
      "\n"
     ]
    }
   ],
   "source": [
    "help(string.replace)"
   ]
  },
  {
   "cell_type": "code",
   "execution_count": 48,
   "id": "88a3cc7b-ea36-4955-a7b1-82f632d318d4",
   "metadata": {},
   "outputs": [
    {
     "data": {
      "text/plain": [
       "'mississ*pp*'"
      ]
     },
     "execution_count": 48,
     "metadata": {},
     "output_type": "execute_result"
    }
   ],
   "source": [
    "string[::-1].replace(\"i\", \"*\", 2)[::-1]"
   ]
  },
  {
   "cell_type": "code",
   "execution_count": 52,
   "id": "caf6bbdf-7efc-4cf2-bd01-7e835df11ace",
   "metadata": {},
   "outputs": [
    {
     "data": {
      "text/plain": [
       "[0, 1, 2, 3, 4, 5]"
      ]
     },
     "execution_count": 52,
     "metadata": {},
     "output_type": "execute_result"
    }
   ],
   "source": [
    "list(range(6))  # default argument"
   ]
  },
  {
   "cell_type": "code",
   "execution_count": 53,
   "id": "875cc2d8-90ca-4267-817c-942a943e976c",
   "metadata": {},
   "outputs": [
    {
     "name": "stdout",
     "output_type": "stream",
     "text": [
      "Name - Jane | Age - 25 | Args - (10, 20, 30, 40, 50, 30)\n"
     ]
    }
   ],
   "source": [
    "# Variable length Argument\n",
    "def demo(name, *args, age = 25) :\n",
    "    print(f\"Name - {name} | Age - {age} | Args - {args}\")\n",
    "\n",
    "demo(\"Jane\", 10, 20, 30, 40, 50, 30)"
   ]
  },
  {
   "cell_type": "code",
   "execution_count": 54,
   "id": "7b5505ab-733e-474a-81b0-6ae9644b81e5",
   "metadata": {},
   "outputs": [
    {
     "name": "stdout",
     "output_type": "stream",
     "text": [
      "Name - Jane | Age - 30 | Args - (10, 20, 30, 40, 50)\n"
     ]
    }
   ],
   "source": [
    "# key-word Argument\n",
    "demo(\"Jane\", 10, 20, 30, 40, 50, age = 30)"
   ]
  },
  {
   "cell_type": "code",
   "execution_count": 58,
   "id": "c9b3434c-bab1-46c3-b8d8-4f25eb362a00",
   "metadata": {},
   "outputs": [
    {
     "name": "stdout",
     "output_type": "stream",
     "text": [
      "Name - Jane | Age - 30 | Args - (10, 20, 30, 40, 50) | kwargs - {'mob': 9876543, 'gender': 'F'}\n"
     ]
    }
   ],
   "source": [
    "# Variable length Key - Argument\n",
    "def demo(name, *args, age = 25, **kwargs) :\n",
    "    print(f\"Name - {name} | Age - {age} | Args - {args} | kwargs - {kwargs}\")\n",
    "\n",
    "demo(\"Jane\", 10, 20, 30, 40, 50, age = 30, mob = 9876543, gender = \"F\")"
   ]
  },
  {
   "cell_type": "markdown",
   "id": "96ef94df-3b09-4969-b7c6-6c0a2b3cb121",
   "metadata": {},
   "source": [
    "#### Significance of `/` and `*` in function definition\n",
    "\n",
    "- **`/`** - All the arguments before `/` must be position only\n",
    "- **`*`** - All the arguments after `*` must be key-word only"
   ]
  },
  {
   "cell_type": "code",
   "execution_count": 59,
   "id": "1f166f7d-4852-44d7-83c7-5664ff7cde75",
   "metadata": {},
   "outputs": [
    {
     "name": "stdout",
     "output_type": "stream",
     "text": [
      "Name - Jane | Age - 30\n",
      "Name - Jane | Age - 30\n",
      "Name - Jane | Age - 30\n"
     ]
    }
   ],
   "source": [
    "def demo(name, age) :\n",
    "    print(f\"Name - {name} | Age - {age}\")\n",
    "\n",
    "demo(\"Jane\", 30) # positional-only\n",
    "demo(\"Jane\", age = 30) # name - positional | age = key-word\n",
    "demo(name = \"Jane\", age = 30) # key-word only"
   ]
  },
  {
   "cell_type": "code",
   "execution_count": 61,
   "id": "ec509c66-ea4a-4364-9c07-a9692fd63915",
   "metadata": {},
   "outputs": [
    {
     "name": "stdout",
     "output_type": "stream",
     "text": [
      "Name - Jane | Age - 30\n",
      "Name - Jane | Age - 30\n"
     ]
    },
    {
     "ename": "TypeError",
     "evalue": "demo() got some positional-only arguments passed as keyword arguments: 'name'",
     "output_type": "error",
     "traceback": [
      "\u001b[1;31m---------------------------------------------------------------------------\u001b[0m",
      "\u001b[1;31mTypeError\u001b[0m                                 Traceback (most recent call last)",
      "Cell \u001b[1;32mIn[61], line 6\u001b[0m\n\u001b[0;32m      4\u001b[0m demo(\u001b[38;5;124m\"\u001b[39m\u001b[38;5;124mJane\u001b[39m\u001b[38;5;124m\"\u001b[39m, \u001b[38;5;241m30\u001b[39m) \n\u001b[0;32m      5\u001b[0m demo(\u001b[38;5;124m\"\u001b[39m\u001b[38;5;124mJane\u001b[39m\u001b[38;5;124m\"\u001b[39m, age \u001b[38;5;241m=\u001b[39m \u001b[38;5;241m30\u001b[39m) \n\u001b[1;32m----> 6\u001b[0m \u001b[43mdemo\u001b[49m\u001b[43m(\u001b[49m\u001b[43mname\u001b[49m\u001b[43m \u001b[49m\u001b[38;5;241;43m=\u001b[39;49m\u001b[43m \u001b[49m\u001b[38;5;124;43m\"\u001b[39;49m\u001b[38;5;124;43mJane\u001b[39;49m\u001b[38;5;124;43m\"\u001b[39;49m\u001b[43m,\u001b[49m\u001b[43m \u001b[49m\u001b[43mage\u001b[49m\u001b[43m \u001b[49m\u001b[38;5;241;43m=\u001b[39;49m\u001b[43m \u001b[49m\u001b[38;5;241;43m30\u001b[39;49m\u001b[43m)\u001b[49m \u001b[38;5;66;03m# Error\u001b[39;00m\n",
      "\u001b[1;31mTypeError\u001b[0m: demo() got some positional-only arguments passed as keyword arguments: 'name'"
     ]
    }
   ],
   "source": [
    "def demo(name, /, age) :\n",
    "    print(f\"Name - {name} | Age - {age}\")\n",
    "\n",
    "demo(\"Jane\", 30) \n",
    "demo(\"Jane\", age = 30) \n",
    "demo(name = \"Jane\", age = 30) # Error"
   ]
  },
  {
   "cell_type": "code",
   "execution_count": 63,
   "id": "4cef6403-7432-4650-978f-f973380ee1fe",
   "metadata": {},
   "outputs": [
    {
     "data": {
      "text/plain": [
       "'m*ss*ssippi'"
      ]
     },
     "execution_count": 63,
     "metadata": {},
     "output_type": "execute_result"
    }
   ],
   "source": [
    "string.replace(\"i\", \"*\", 2)"
   ]
  },
  {
   "cell_type": "code",
   "execution_count": 64,
   "id": "cf0f3356-7df8-43c9-bb66-31d3bbe39ac0",
   "metadata": {},
   "outputs": [
    {
     "ename": "TypeError",
     "evalue": "str.replace() takes no keyword arguments",
     "output_type": "error",
     "traceback": [
      "\u001b[1;31m---------------------------------------------------------------------------\u001b[0m",
      "\u001b[1;31mTypeError\u001b[0m                                 Traceback (most recent call last)",
      "Cell \u001b[1;32mIn[64], line 1\u001b[0m\n\u001b[1;32m----> 1\u001b[0m \u001b[43mstring\u001b[49m\u001b[38;5;241;43m.\u001b[39;49m\u001b[43mreplace\u001b[49m\u001b[43m(\u001b[49m\u001b[38;5;124;43m\"\u001b[39;49m\u001b[38;5;124;43mi\u001b[39;49m\u001b[38;5;124;43m\"\u001b[39;49m\u001b[43m,\u001b[49m\u001b[43m \u001b[49m\u001b[38;5;124;43m\"\u001b[39;49m\u001b[38;5;124;43m*\u001b[39;49m\u001b[38;5;124;43m\"\u001b[39;49m\u001b[43m,\u001b[49m\u001b[43m \u001b[49m\u001b[43mcount\u001b[49m\u001b[43m \u001b[49m\u001b[38;5;241;43m=\u001b[39;49m\u001b[43m \u001b[49m\u001b[38;5;241;43m2\u001b[39;49m\u001b[43m)\u001b[49m\n",
      "\u001b[1;31mTypeError\u001b[0m: str.replace() takes no keyword arguments"
     ]
    }
   ],
   "source": [
    "string.replace(\"i\", \"*\", count = 2) # / is present in the function definition"
   ]
  },
  {
   "cell_type": "code",
   "execution_count": 66,
   "id": "2da645d1-90b6-45d9-b38d-72b644bb74b0",
   "metadata": {},
   "outputs": [
    {
     "data": {
      "text/plain": [
       "[(101, 1), (102, 2), (103, 3), (104, 4)]"
      ]
     },
     "execution_count": 66,
     "metadata": {},
     "output_type": "execute_result"
    }
   ],
   "source": [
    "list(enumerate([1, 2, 3, 4], 101))"
   ]
  },
  {
   "cell_type": "code",
   "execution_count": 67,
   "id": "b653977a-77b7-4a59-be98-c41bac2e79e7",
   "metadata": {},
   "outputs": [
    {
     "data": {
      "text/plain": [
       "[(101, 1), (102, 2), (103, 3), (104, 4)]"
      ]
     },
     "execution_count": 67,
     "metadata": {},
     "output_type": "execute_result"
    }
   ],
   "source": [
    "list(enumerate([1, 2, 3, 4], start = 101))"
   ]
  },
  {
   "cell_type": "code",
   "execution_count": 65,
   "id": "9b35c778-af96-4999-8a51-e902b3834a52",
   "metadata": {},
   "outputs": [
    {
     "name": "stdout",
     "output_type": "stream",
     "text": [
      "Help on class enumerate in module builtins:\n",
      "\n",
      "class enumerate(object)\n",
      " |  enumerate(iterable, start=0)\n",
      " |\n",
      " |  Return an enumerate object.\n",
      " |\n",
      " |    iterable\n",
      " |      an object supporting iteration\n",
      " |\n",
      " |  The enumerate object yields pairs containing a count (from start, which\n",
      " |  defaults to zero) and a value yielded by the iterable argument.\n",
      " |\n",
      " |  enumerate is useful for obtaining an indexed list:\n",
      " |      (0, seq[0]), (1, seq[1]), (2, seq[2]), ...\n",
      " |\n",
      " |  Methods defined here:\n",
      " |\n",
      " |  __getattribute__(self, name, /)\n",
      " |      Return getattr(self, name).\n",
      " |\n",
      " |  __iter__(self, /)\n",
      " |      Implement iter(self).\n",
      " |\n",
      " |  __next__(self, /)\n",
      " |      Implement next(self).\n",
      " |\n",
      " |  __reduce__(...)\n",
      " |      Return state information for pickling.\n",
      " |\n",
      " |  ----------------------------------------------------------------------\n",
      " |  Class methods defined here:\n",
      " |\n",
      " |  __class_getitem__(...)\n",
      " |      See PEP 585\n",
      " |\n",
      " |  ----------------------------------------------------------------------\n",
      " |  Static methods defined here:\n",
      " |\n",
      " |  __new__(*args, **kwargs)\n",
      " |      Create and return a new object.  See help(type) for accurate signature.\n",
      "\n"
     ]
    }
   ],
   "source": [
    "help(enumerate)"
   ]
  },
  {
   "cell_type": "code",
   "execution_count": 68,
   "id": "f621c870-b854-4674-a9aa-afd77105af97",
   "metadata": {},
   "outputs": [
    {
     "name": "stdout",
     "output_type": "stream",
     "text": [
      "Name - Jane | Age - 30\n",
      "Name - Jane | Age - 30\n"
     ]
    },
    {
     "ename": "TypeError",
     "evalue": "demo() takes 1 positional argument but 2 were given",
     "output_type": "error",
     "traceback": [
      "\u001b[1;31m---------------------------------------------------------------------------\u001b[0m",
      "\u001b[1;31mTypeError\u001b[0m                                 Traceback (most recent call last)",
      "Cell \u001b[1;32mIn[68], line 6\u001b[0m\n\u001b[0;32m      4\u001b[0m demo(\u001b[38;5;124m\"\u001b[39m\u001b[38;5;124mJane\u001b[39m\u001b[38;5;124m\"\u001b[39m, age \u001b[38;5;241m=\u001b[39m \u001b[38;5;241m30\u001b[39m) \n\u001b[0;32m      5\u001b[0m demo(name \u001b[38;5;241m=\u001b[39m \u001b[38;5;124m\"\u001b[39m\u001b[38;5;124mJane\u001b[39m\u001b[38;5;124m\"\u001b[39m, age \u001b[38;5;241m=\u001b[39m \u001b[38;5;241m30\u001b[39m) \n\u001b[1;32m----> 6\u001b[0m \u001b[43mdemo\u001b[49m\u001b[43m(\u001b[49m\u001b[38;5;124;43m\"\u001b[39;49m\u001b[38;5;124;43mJane\u001b[39;49m\u001b[38;5;124;43m\"\u001b[39;49m\u001b[43m,\u001b[49m\u001b[43m \u001b[49m\u001b[38;5;241;43m30\u001b[39;49m\u001b[43m)\u001b[49m \n",
      "\u001b[1;31mTypeError\u001b[0m: demo() takes 1 positional argument but 2 were given"
     ]
    }
   ],
   "source": [
    "def demo(name, *, age) : # Arguments after * must be key-word only\n",
    "    print(f\"Name - {name} | Age - {age}\")\n",
    "\n",
    "demo(\"Jane\", age = 30) \n",
    "demo(name = \"Jane\", age = 30) \n",
    "demo(\"Jane\", 30) "
   ]
  },
  {
   "cell_type": "code",
   "execution_count": 69,
   "id": "a0072721-8857-4ba3-83be-5a1f5294da6f",
   "metadata": {},
   "outputs": [
    {
     "name": "stdout",
     "output_type": "stream",
     "text": [
      "Help on built-in function sorted in module builtins:\n",
      "\n",
      "sorted(iterable, /, *, key=None, reverse=False)\n",
      "    Return a new list containing all items from the iterable in ascending order.\n",
      "\n",
      "    A custom key function can be supplied to customize the sort order, and the\n",
      "    reverse flag can be set to request the result in descending order.\n",
      "\n"
     ]
    }
   ],
   "source": [
    "help(sorted)"
   ]
  },
  {
   "cell_type": "code",
   "execution_count": 72,
   "id": "1b2ae37f-10f4-4aed-8bd4-de7cd888851c",
   "metadata": {},
   "outputs": [
    {
     "data": {
      "text/plain": [
       "[1, 2, 3, 4, 5]"
      ]
     },
     "execution_count": 72,
     "metadata": {},
     "output_type": "execute_result"
    }
   ],
   "source": [
    "sorted([1, 3, 2, 5, 4])  # Returns a list in sorted order"
   ]
  },
  {
   "cell_type": "code",
   "execution_count": 74,
   "id": "5c24cdad-7418-46c3-a159-9c8f74075c47",
   "metadata": {},
   "outputs": [
    {
     "data": {
      "text/plain": [
       "[5, 4, 3, 2, 1]"
      ]
     },
     "execution_count": 74,
     "metadata": {},
     "output_type": "execute_result"
    }
   ],
   "source": [
    "sorted([1, 3, 2, 5, 4], reverse=True)  # Returns a list in sorted order DESC"
   ]
  },
  {
   "cell_type": "code",
   "execution_count": 80,
   "id": "5e0b2a65-bebb-4c9c-89aa-a2f4e2d58ff6",
   "metadata": {},
   "outputs": [
    {
     "data": {
      "image/png": "[encoded data removed]",
      "text/plain": [
       "<Figure size 400x200 with 1 Axes>"
      ]
     },
     "metadata": {},
     "output_type": "display_data"
    }
   ],
   "source": [
    "import matplotlib.pyplot as plt\n",
    "plt.figure(figsize=(4, 2))\n",
    "products = [\"Shoes\", \"Bags\", \"Watches\", \"Belts\"]\n",
    "quantity = [30, 40, 20, 35]\n",
    "\n",
    "# Create a bar chart\n",
    "plt.bar(products, quantity, color = \"Teal\", edgecolor = \"orange\")\n",
    "plt.show()"
   ]
  },
  {
   "cell_type": "markdown",
   "id": "f2655f29-6385-4b41-a583-a2e0bcf4e6ef",
   "metadata": {},
   "source": [
    "#### Packing/Unpacking of Tuples - \n",
    "\n",
    "- In Python, unpacking of tuples refers to the process of assigning the individual elements of a tuple to multiple variables in a single statement.\n",
    "- This feature allows you to extract values from a tuple and assign them to distinct variables in a convenient and readable way."
   ]
  },
  {
   "cell_type": "code",
   "execution_count": 81,
   "id": "ccb37ca3-a386-44c3-928a-f361a44419b1",
   "metadata": {},
   "outputs": [
    {
     "data": {
      "text/plain": [
       "(10, 20, 30)"
      ]
     },
     "execution_count": 81,
     "metadata": {},
     "output_type": "execute_result"
    }
   ],
   "source": [
    "# packing of tuples\n",
    "tup = 10, 20, 30\n",
    "tup"
   ]
  },
  {
   "cell_type": "code",
   "execution_count": 82,
   "id": "bf69bbb0-075f-4b62-b472-7aeb07389258",
   "metadata": {},
   "outputs": [
    {
     "name": "stdout",
     "output_type": "stream",
     "text": [
      "10\n"
     ]
    }
   ],
   "source": [
    "# unpacking of tuples\n",
    "a, b, c = tup\n",
    "print(a)"
   ]
  },
  {
   "cell_type": "markdown",
   "id": "03d29c54-9416-48ef-9c48-c75ee3c11441",
   "metadata": {},
   "source": [
    "#### Applications of packing and unpacking"
   ]
  },
  {
   "cell_type": "markdown",
   "id": "3f476165-b0b8-47d3-9806-f0c1cc224e24",
   "metadata": {},
   "source": [
    "###### 1. Defining multiple variables in a single line"
   ]
  },
  {
   "cell_type": "code",
   "execution_count": 83,
   "id": "b52f23b7-2c49-4161-ad30-1faf005dec4a",
   "metadata": {},
   "outputs": [
    {
     "name": "stdout",
     "output_type": "stream",
     "text": [
      "Jane 30\n"
     ]
    }
   ],
   "source": [
    "name, age = \"Jane\", 30\n",
    "print(name, age)"
   ]
  },
  {
   "cell_type": "markdown",
   "id": "382c6073-278e-4859-89c4-be83eb67fa95",
   "metadata": {},
   "source": [
    "###### 2. Function returing multiple values"
   ]
  },
  {
   "cell_type": "code",
   "execution_count": 87,
   "id": "df9c7c50-4a10-4b50-82ab-09cd42ed9857",
   "metadata": {},
   "outputs": [
    {
     "name": "stdout",
     "output_type": "stream",
     "text": [
      "(11, 30)\n"
     ]
    }
   ],
   "source": [
    "def add(num1, num2) :\n",
    "    total = num1 + num2\n",
    "    product = num1 * num2\n",
    "    return total, product  # packing of tuples\n",
    "\n",
    "print(add(5, 6))"
   ]
  },
  {
   "cell_type": "code",
   "execution_count": 90,
   "id": "6ed1997f-84b0-4fbb-ad37-71de2ab2fafc",
   "metadata": {},
   "outputs": [
    {
     "name": "stdout",
     "output_type": "stream",
     "text": [
      "Total - 11 | Product - 30\n"
     ]
    }
   ],
   "source": [
    "t, p = add(5, 6) # - unpacking of tuples\n",
    "print(f\"Total - {t} | Product - {p}\")"
   ]
  },
  {
   "cell_type": "code",
   "execution_count": 89,
   "id": "96e5d83e-bf5b-4b50-87e4-c9771e4a7192",
   "metadata": {},
   "outputs": [
    {
     "name": "stdout",
     "output_type": "stream",
     "text": [
      "[<Axes: > <Axes: >]\n"
     ]
    },
    {
     "data": {
      "image/png": "[encoded data removed]",
      "text/plain": [
       "<Figure size 500x200 with 2 Axes>"
      ]
     },
     "metadata": {},
     "output_type": "display_data"
    }
   ],
   "source": [
    "fig, ax = plt.subplots(ncols=2, figsize = (5, 2)) # Returns a tuple object - unpacking of tuples\n",
    "print(ax)"
   ]
  },
  {
   "cell_type": "markdown",
   "id": "70eaff98-e43f-415b-a991-279795a31cf6",
   "metadata": {},
   "source": [
    "###### 3. Function call"
   ]
  },
  {
   "cell_type": "code",
   "execution_count": 93,
   "id": "578a983b-dd8d-496b-af6c-734c99203e49",
   "metadata": {},
   "outputs": [
    {
     "name": "stdout",
     "output_type": "stream",
     "text": [
      "(1, 2, 3, 4, 5)\n"
     ]
    }
   ],
   "source": [
    "def demo(*args) :\n",
    "    print(args)\n",
    "demo(1, 2, 3, 4, 5)  # Packing of tuples as function call"
   ]
  },
  {
   "cell_type": "code",
   "execution_count": 96,
   "id": "e507d413-9b0c-46e5-9685-b7a9bf193032",
   "metadata": {},
   "outputs": [
    {
     "name": "stdout",
     "output_type": "stream",
     "text": [
      "Name - Jane | Age - 30 | Gender F\n",
      "Name - Jane | Age - 30 | Gender F\n"
     ]
    }
   ],
   "source": [
    "def demo(name, age, gender):\n",
    "    print(f\"Name - {name} | Age - {age} | Gender {gender}\")\n",
    "\n",
    "data = (\"Jane\", 30, \"F\")\n",
    "demo(data[0], data[1], data[2])\n",
    "demo(*data)  # unpacking of values in the tuple to arguments"
   ]
  },
  {
   "cell_type": "markdown",
   "id": "930aa809-84d0-41cc-9cfa-900ea734217c",
   "metadata": {},
   "source": [
    "#### Function Object\n",
    "- In Python, a function object refers to the fact that functions are first-class citizens—they are treated like any other object.\n",
    "- This means: A function object is an instance of the built-in function class created when a def statement or a lambda expression is executed.\n",
    "- A function object can be:\n",
    "    - Pass it to other functions,    \n",
    "    - Assign it to variables,    \n",
    "    - Store in data structures,    \n",
    "    - Return it from another function."
   ]
  },
  {
   "cell_type": "markdown",
   "id": "c71f2a4a-ff12-42fe-94f0-d046ca4d2f25",
   "metadata": {},
   "source": [
    "##### Note - Everything in python is an object. Function is also an object"
   ]
  },
  {
   "cell_type": "code",
   "execution_count": 97,
   "id": "5219422d-c9d7-43de-ba21-7616d52998f5",
   "metadata": {},
   "outputs": [],
   "source": [
    "def func(a, b):\n",
    "    if a < b :\n",
    "        return a\n",
    "    else:\n",
    "        return b"
   ]
  },
  {
   "cell_type": "code",
   "execution_count": 98,
   "id": "861ed6ad-e682-49d6-bbf4-9089b28a4b3a",
   "metadata": {},
   "outputs": [
    {
     "name": "stdout",
     "output_type": "stream",
     "text": [
      "2\n"
     ]
    }
   ],
   "source": [
    "var = func(2, 3)\n",
    "print(var)"
   ]
  },
  {
   "cell_type": "code",
   "execution_count": 99,
   "id": "9dfb4365-fcdd-4372-bf45-0f7d473a4b75",
   "metadata": {},
   "outputs": [
    {
     "name": "stdout",
     "output_type": "stream",
     "text": [
      "<function func at 0x000001B7874FFA60>\n"
     ]
    }
   ],
   "source": [
    "var = func  # stores the function object in the variable. var variable will get special power to call the func()\n",
    "print(var)"
   ]
  },
  {
   "cell_type": "code",
   "execution_count": 100,
   "id": "481e3b89-6f80-4d58-973d-df5c91ee3e9c",
   "metadata": {},
   "outputs": [
    {
     "data": {
      "text/plain": [
       "2"
      ]
     },
     "execution_count": 100,
     "metadata": {},
     "output_type": "execute_result"
    }
   ],
   "source": [
    "var(2, 3)"
   ]
  },
  {
   "cell_type": "markdown",
   "id": "f7649357-6c45-4c8c-95fb-fd4d83bfa3ad",
   "metadata": {},
   "source": [
    "##### Note - Any function, built-in or user-defined can be assigned to a variable"
   ]
  },
  {
   "cell_type": "code",
   "execution_count": 101,
   "id": "dce2211b-8976-4d56-8b7d-dde95cc8a518",
   "metadata": {},
   "outputs": [],
   "source": [
    "var = len"
   ]
  },
  {
   "cell_type": "code",
   "execution_count": 102,
   "id": "d92196ef-9ce3-4115-80b7-a6e50084c4b2",
   "metadata": {},
   "outputs": [
    {
     "data": {
      "text/plain": [
       "4"
      ]
     },
     "execution_count": 102,
     "metadata": {},
     "output_type": "execute_result"
    }
   ],
   "source": [
    "var(\"abcd\")"
   ]
  },
  {
   "cell_type": "markdown",
   "id": "bd5080dc-12a4-4db2-a8bd-451ede7ecafb",
   "metadata": {},
   "source": [
    "<hr>"
   ]
  },
  {
   "cell_type": "markdown",
   "id": "9cd28d42-ee07-4944-9999-19f2e5f66754",
   "metadata": {},
   "source": [
    "#### Categories of functions - \n",
    "- built-in function; eg - sum(), len(), math.sqrt(), random.randint(), plt.bar()\n",
    "- user-defined; defined using def keyword\n",
    "- user-defined; one-liner function; defined using keyword - `lambda`\n"
   ]
  },
  {
   "cell_type": "markdown",
   "id": "bf038a28-9571-4681-a123-4da9795f2438",
   "metadata": {},
   "source": [
    "###### Ex. define a lambda function to find square of number"
   ]
  },
  {
   "cell_type": "code",
   "execution_count": 103,
   "id": "613f5f00-cde9-47b5-923d-77e381c9fb47",
   "metadata": {},
   "outputs": [
    {
     "data": {
      "text/plain": [
       "<function __main__.<lambda>(num)>"
      ]
     },
     "execution_count": 103,
     "metadata": {},
     "output_type": "execute_result"
    }
   ],
   "source": [
    "lambda num : num**2  # lambda always generates a function object; it doesnot have any name"
   ]
  },
  {
   "cell_type": "code",
   "execution_count": 105,
   "id": "4e46f43a-f66f-43a0-a486-18f89d1f413e",
   "metadata": {},
   "outputs": [
    {
     "data": {
      "text/plain": [
       "16"
      ]
     },
     "execution_count": 105,
     "metadata": {},
     "output_type": "execute_result"
    }
   ],
   "source": [
    "sq = lambda num : num**2 # lambda function can be stored in a variable\n",
    "sq(4)"
   ]
  },
  {
   "cell_type": "markdown",
   "id": "9737dc6d-bea7-4f86-94e4-1ddcdfb0d161",
   "metadata": {},
   "source": [
    "<hr>"
   ]
  },
  {
   "cell_type": "markdown",
   "id": "cc359982-54e2-44f7-bf80-c69381ad8061",
   "metadata": {},
   "source": [
    "#### Applications of Function Object\n",
    "- function object can be -\n",
    "    - a built-in function\n",
    "    - a user-define; using def keyword\n",
    "    - a user-define; using lambda keyword"
   ]
  },
  {
   "cell_type": "markdown",
   "id": "6d13fc22-17b0-47a7-a068-206cc102f76f",
   "metadata": {},
   "source": [
    "###### Ex. WAP to sort a list of strings as per the last character."
   ]
  },
  {
   "cell_type": "code",
   "execution_count": 112,
   "id": "9aab20e7-77a7-45cf-9afb-0507af66a336",
   "metadata": {},
   "outputs": [
    {
     "data": {
      "text/plain": [
       "['bike', 'car', 'flight', 'train']"
      ]
     },
     "execution_count": 112,
     "metadata": {},
     "output_type": "execute_result"
    }
   ],
   "source": [
    "names = [\"flight\", \"bike\", \"car\",  \"train\"]\n",
    "sorted(names)  # sorts alphabetically"
   ]
  },
  {
   "cell_type": "code",
   "execution_count": 113,
   "id": "11fb0d5d-0a33-404c-865d-62ead121836b",
   "metadata": {},
   "outputs": [
    {
     "data": {
      "text/plain": [
       "['car', 'bike', 'train', 'flight']"
      ]
     },
     "execution_count": 113,
     "metadata": {},
     "output_type": "execute_result"
    }
   ],
   "source": [
    "# sort by number of chaarcters in each word\n",
    "sorted(names, key = len)  # key parameter take function object as an argument to sort the data in custom order"
   ]
  },
  {
   "cell_type": "code",
   "execution_count": 115,
   "id": "9a266cbc-47d9-4f4a-a33d-a2d91859c265",
   "metadata": {},
   "outputs": [
    {
     "data": {
      "text/plain": [
       "['bike', 'train', 'car', 'flight']"
      ]
     },
     "execution_count": 115,
     "metadata": {},
     "output_type": "execute_result"
    }
   ],
   "source": [
    "# sort by last character of each word\n",
    "sorted(names, key = lambda word : word[-1])"
   ]
  },
  {
   "cell_type": "code",
   "execution_count": 116,
   "id": "1b3d062c-f532-4f57-a934-3f01cb13d2cf",
   "metadata": {},
   "outputs": [
    {
     "data": {
      "text/plain": [
       "'bike'"
      ]
     },
     "execution_count": 116,
     "metadata": {},
     "output_type": "execute_result"
    }
   ],
   "source": [
    "min(names)"
   ]
  },
  {
   "cell_type": "code",
   "execution_count": 117,
   "id": "3fc3ff69-baea-4aec-935e-95d31a01c14d",
   "metadata": {},
   "outputs": [
    {
     "data": {
      "text/plain": [
       "'car'"
      ]
     },
     "execution_count": 117,
     "metadata": {},
     "output_type": "execute_result"
    }
   ],
   "source": [
    "min(names, key = len)"
   ]
  },
  {
   "cell_type": "code",
   "execution_count": 118,
   "id": "9d63a8de-6606-433b-880d-615ea6e9cff0",
   "metadata": {},
   "outputs": [
    {
     "data": {
      "text/plain": [
       "'bike'"
      ]
     },
     "execution_count": 118,
     "metadata": {},
     "output_type": "execute_result"
    }
   ],
   "source": [
    "min(names, key = max)"
   ]
  },
  {
   "cell_type": "code",
   "execution_count": 119,
   "id": "212d2998-d05d-4adb-9392-2f74a708b6b2",
   "metadata": {},
   "outputs": [
    {
     "data": {
      "text/plain": [
       "'flight'"
      ]
     },
     "execution_count": 119,
     "metadata": {},
     "output_type": "execute_result"
    }
   ],
   "source": [
    "max(names, key = max)"
   ]
  },
  {
   "cell_type": "markdown",
   "id": "dbf6bab1-9210-499f-a496-fc844d24b172",
   "metadata": {},
   "source": [
    "###### Ex. WAP to create a new list of values calculate as average of each tuple using comprehension "
   ]
  },
  {
   "cell_type": "code",
   "execution_count": 121,
   "id": "68bc5af6-861c-48d5-b676-8d6c2202fee8",
   "metadata": {},
   "outputs": [
    {
     "data": {
      "text/plain": [
       "[67.0, 56.67, 56.0, 64.0]"
      ]
     },
     "execution_count": 121,
     "metadata": {},
     "output_type": "execute_result"
    }
   ],
   "source": [
    "marks = [(51, 67, 83), (41, 93, 36), (50, 31, 87), (94, 46, 52)]\n",
    "[round(sum(tup)/len(tup), 2) for tup in marks]"
   ]
  },
  {
   "cell_type": "code",
   "execution_count": 123,
   "id": "ca26fa4a-a6d2-4d9a-a9b7-dd6086a120e5",
   "metadata": {},
   "outputs": [
    {
     "data": {
      "text/plain": [
       "[201, 170, 168, 192]"
      ]
     },
     "execution_count": 123,
     "metadata": {},
     "output_type": "execute_result"
    }
   ],
   "source": [
    "[sum(tup) for tup in marks]"
   ]
  },
  {
   "cell_type": "markdown",
   "id": "bb9e3f49-2a83-4875-9cbb-c6ee0ee2a68c",
   "metadata": {},
   "source": [
    "###### Ex. WAP to sort the given list of tuples by sum of the values in each tuple"
   ]
  },
  {
   "cell_type": "code",
   "execution_count": 122,
   "id": "1f0de1ec-8dd8-43e1-902d-e19fb81999c7",
   "metadata": {},
   "outputs": [
    {
     "data": {
      "text/plain": [
       "[(50, 31, 87), (41, 93, 36), (94, 46, 52), (51, 67, 83)]"
      ]
     },
     "execution_count": 122,
     "metadata": {},
     "output_type": "execute_result"
    }
   ],
   "source": [
    "sorted(marks, key = sum)"
   ]
  },
  {
   "cell_type": "markdown",
   "id": "7505d64b-c555-482a-9d42-7df2b03c2edb",
   "metadata": {},
   "source": [
    "###### Ex. WAP to sort the given list of tuples by avg of the values in each tuple"
   ]
  },
  {
   "cell_type": "code",
   "execution_count": 124,
   "id": "30cc7968-d2d1-4514-971e-78f5f0fc572d",
   "metadata": {},
   "outputs": [
    {
     "data": {
      "text/plain": [
       "[(50, 31, 87), (41, 93, 36), (94, 46, 52), (51, 67, 83)]"
      ]
     },
     "execution_count": 124,
     "metadata": {},
     "output_type": "execute_result"
    }
   ],
   "source": [
    "sorted(marks, key = lambda tup : sum(tup)/len(tup))"
   ]
  },
  {
   "cell_type": "markdown",
   "id": "347d07c2-5d61-46de-90bc-2e092740e4f2",
   "metadata": {},
   "source": [
    "###### Ex. Write a program to sort the given dictionary by values\n",
    "\n",
    "HINT - use sorted(), dict.items()"
   ]
  },
  {
   "cell_type": "code",
   "execution_count": 130,
   "id": "69c24f24-d0b9-49c5-ae41-da13c992e9b5",
   "metadata": {},
   "outputs": [
    {
     "data": {
      "text/plain": [
       "[('Jane', 30000), ('Rosie', 40000), ('George', 45000), ('Jack', 50000)]"
      ]
     },
     "execution_count": 130,
     "metadata": {},
     "output_type": "execute_result"
    }
   ],
   "source": [
    "employee = {\"Rosie\" : 40000, \"Jane\" : 30000, \"Jack\" :50000, \"George\" : 45000}\n",
    "sorted(employee.items(), key = lambda tup : tup[1])"
   ]
  },
  {
   "cell_type": "code",
   "execution_count": 131,
   "id": "8fa8c855-37bd-48da-bd8b-3edf84eb9a8d",
   "metadata": {},
   "outputs": [
    {
     "data": {
      "text/plain": [
       "{'Jane': 30000, 'Rosie': 40000, 'George': 45000, 'Jack': 50000}"
      ]
     },
     "execution_count": 131,
     "metadata": {},
     "output_type": "execute_result"
    }
   ],
   "source": [
    "dict(sorted(employee.items(), key = lambda tup : tup[1]))"
   ]
  },
  {
   "cell_type": "code",
   "execution_count": 132,
   "id": "d80ec026-7f84-46be-b774-9749903c9496",
   "metadata": {},
   "outputs": [
    {
     "name": "stdout",
     "output_type": "stream",
     "text": [
      "Success\n"
     ]
    }
   ],
   "source": [
    "import numpy as np\n",
    "import matplotlib.pyplot as plt\n",
    "import pandas as pd\n",
    "import seaborn as sns\n",
    "print(\"Success\")"
   ]
  },
  {
   "cell_type": "markdown",
   "id": "1a78c105-909c-4c7c-8d48-cfb8d186a3fb",
   "metadata": {},
   "source": [
    "<hr><hr>"
   ]
  },
  {
   "cell_type": "code",
   "execution_count": 2,
   "id": "3c0aecd4-c515-4809-a7cb-edc7812b17f6",
   "metadata": {},
   "outputs": [
    {
     "name": "stdout",
     "output_type": "stream",
     "text": [
      "['__add__', '__class__', '__contains__', '__delattr__', '__dir__', '__doc__', '__eq__', '__format__', '__ge__', '__getattribute__', '__getitem__', '__getnewargs__', '__getstate__', '__gt__', '__hash__', '__init__', '__init_subclass__', '__iter__', '__le__', '__len__', '__lt__', '__mod__', '__mul__', '__ne__', '__new__', '__reduce__', '__reduce_ex__', '__repr__', '__rmod__', '__rmul__', '__setattr__', '__sizeof__', '__str__', '__subclasshook__', 'capitalize', 'casefold', 'center', 'count', 'encode', 'endswith', 'expandtabs', 'find', 'format', 'format_map', 'index', 'isalnum', 'isalpha', 'isascii', 'isdecimal', 'isdigit', 'isidentifier', 'islower', 'isnumeric', 'isprintable', 'isspace', 'istitle', 'isupper', 'join', 'ljust', 'lower', 'lstrip', 'maketrans', 'partition', 'removeprefix', 'removesuffix', 'replace', 'rfind', 'rindex', 'rjust', 'rpartition', 'rsplit', 'rstrip', 'split', 'splitlines', 'startswith', 'strip', 'swapcase', 'title', 'translate', 'upper', 'zfill']\n"
     ]
    }
   ],
   "source": [
    "print(dir(str))"
   ]
  },
  {
   "cell_type": "code",
   "execution_count": 3,
   "id": "5d401bca-5a88-44e4-9f31-9c4d2f472256",
   "metadata": {},
   "outputs": [
    {
     "name": "stdout",
     "output_type": "stream",
     "text": [
      "Help on method_descriptor:\n",
      "\n",
      "title(self, /) unbound builtins.str method\n",
      "    Return a version of the string where each word is titlecased.\n",
      "\n",
      "    More specifically, words start with uppercased characters and all remaining\n",
      "    cased characters have lower case.\n",
      "\n"
     ]
    }
   ],
   "source": [
    "help(str.title)"
   ]
  },
  {
   "cell_type": "code",
   "execution_count": 4,
   "id": "2e660554-d811-4c75-b7d2-ce6d2e62b25d",
   "metadata": {},
   "outputs": [
    {
     "name": "stdout",
     "output_type": "stream",
     "text": [
      "Help on built-in function len in module builtins:\n",
      "\n",
      "len(obj, /)\n",
      "    Return the number of items in a container.\n",
      "\n"
     ]
    }
   ],
   "source": [
    "help(len)"
   ]
  }
 ],
 "metadata": {
  "kernelspec": {
   "display_name": "Python 3 (ipykernel)",
   "language": "python",
   "name": "python3"
  },
  "language_info": {
   "codemirror_mode": {
    "name": "ipython",
    "version": 3
   },
   "file_extension": ".py",
   "mimetype": "text/x-python",
   "name": "python",
   "nbconvert_exporter": "python",
   "pygments_lexer": "ipython3",
   "version": "3.12.4"
  }
 },
 "nbformat": 4,
 "nbformat_minor": 5
}
