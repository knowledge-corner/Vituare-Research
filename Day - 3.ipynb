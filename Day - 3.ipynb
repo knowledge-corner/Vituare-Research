{
 "cells": [
  {
   "cell_type": "markdown",
   "metadata": {
    "id": "xOzcD8n0SL0i"
   },
   "source": [
    "# Basics of NumPy\n",
    "- NumPy - Introduction and Installation\n",
    "- NumPy - Arrays Data Structure ( 1D, 2D, ND arrays)\n",
    "- Creating Arrays\n",
    "- NumPy - Data Types\n",
    "- Array Attributes\n",
    "- Creating Arrays – Alternative Ways\n",
    "- Sub-setting, Slicing and Indexing Arrays\n",
    "- Operations on Arrays\n",
    "- Array Manipulation\n"
   ]
  },
  {
   "cell_type": "markdown",
   "metadata": {
    "id": "LJ7zOREKSL0i"
   },
   "source": [
    "### NumPy – Introduction and Installation\n",
    "\n",
    "- NumPy stands for ‘Numeric Python’\n",
    "- Used for mathematical and scientific computations\n",
    "- NumPy array is the most widely used object of the NumPy library"
   ]
  },
  {
   "cell_type": "markdown",
   "metadata": {
    "id": "fSezra2YSL0i"
   },
   "source": [
    "#### Installing numpy\n",
    "\n",
    "!pip install numpy"
   ]
  },
  {
   "cell_type": "markdown",
   "metadata": {
    "id": "NcOwNJMxSL0j"
   },
   "source": [
    "#### Importing numpy"
   ]
  },
  {
   "cell_type": "code",
   "execution_count": 2,
   "metadata": {
    "id": "jbeQqcTmSL0j"
   },
   "outputs": [],
   "source": [
    "import numpy as np"
   ]
  },
  {
   "cell_type": "markdown",
   "metadata": {
    "id": "ROKFWY3TSL0j"
   },
   "source": [
    "### Arrays Data Structure\n",
    "\n",
    "An `Array` is combination of homogenous data objects and can be indexed across multiple dimensions\n",
    "\n",
    "#### Arrays are –\n",
    "- ordered sequence/collection of Homogenous data\n",
    "- multidimensional\n",
    "- mutable\n"
   ]
  },
  {
   "cell_type": "markdown",
   "metadata": {
    "id": "vJdSsW-BSL0j"
   },
   "source": [
    "#### Creating Arrays – From list/tuple\n",
    "\n",
    "- `np.array()` is used to create a numpy array from a list\n"
   ]
  },
  {
   "cell_type": "markdown",
   "metadata": {
    "id": "KFMx5EjWSL0j"
   },
   "source": [
    "#### Example on 1-D Array"
   ]
  },
  {
   "cell_type": "code",
   "execution_count": 3,
   "metadata": {
    "id": "oU0mEtv2SL0k"
   },
   "outputs": [
    {
     "data": {
      "text/plain": [
       "array([1, 2, 3, 4, 5])"
      ]
     },
     "execution_count": 3,
     "metadata": {},
     "output_type": "execute_result"
    }
   ],
   "source": [
    "arr = np.array([1, 2, 3, 4, 5])\n",
    "arr"
   ]
  },
  {
   "cell_type": "markdown",
   "metadata": {
    "id": "69nYrHhdSL0k"
   },
   "source": [
    "#### Example on 2-D Array"
   ]
  },
  {
   "cell_type": "code",
   "execution_count": 4,
   "metadata": {
    "id": "bFqhOlvKSL0k"
   },
   "outputs": [
    {
     "data": {
      "text/plain": [
       "array([[ 1,  2,  3,  4,  5],\n",
       "       [ 6,  7,  8,  9, 10]])"
      ]
     },
     "execution_count": 4,
     "metadata": {},
     "output_type": "execute_result"
    }
   ],
   "source": [
    "arr = np.array([[1, 2, 3, 4, 5], [6, 7, 8, 9, 10]])\n",
    "arr"
   ]
  },
  {
   "cell_type": "markdown",
   "metadata": {
    "id": "SyU2wAzwSL0o"
   },
   "source": [
    "### Array Attributes\n",
    "\n",
    "- Attributes are the features/characteristics of an object that describes the object\n",
    "\n",
    "- Some of the attributes of the numpy array are:\n",
    "    - **shape** - Array dimensions\n",
    "    - **size** - Number of array elements\n",
    "    - **dtype** - Data type of array elements\n",
    "    - **ndim** - Number of array dimensions\n",
    "    - **dtype.name** - Name of data type\n",
    "    - **astype** - Convert an array to a different type\n"
   ]
  },
  {
   "cell_type": "code",
   "execution_count": 5,
   "metadata": {
    "id": "s9MiADM0SL0p"
   },
   "outputs": [
    {
     "data": {
      "text/plain": [
       "array([[ 1,  2,  3,  4],\n",
       "       [ 5,  6,  7,  8],\n",
       "       [ 9, 10, 11, 12]])"
      ]
     },
     "execution_count": 5,
     "metadata": {},
     "output_type": "execute_result"
    }
   ],
   "source": [
    "arr = np.array([[1,2,3,4],[5,6,7,8],[9,10,11,12]])\n",
    "arr"
   ]
  },
  {
   "cell_type": "code",
   "execution_count": 6,
   "metadata": {
    "id": "tsamJYYFSL0p"
   },
   "outputs": [
    {
     "data": {
      "text/plain": [
       "(3, 4)"
      ]
     },
     "execution_count": 6,
     "metadata": {},
     "output_type": "execute_result"
    }
   ],
   "source": [
    "arr.shape"
   ]
  },
  {
   "cell_type": "code",
   "execution_count": 7,
   "metadata": {
    "id": "vCvDRDdESL0q"
   },
   "outputs": [
    {
     "data": {
      "text/plain": [
       "12"
      ]
     },
     "execution_count": 7,
     "metadata": {},
     "output_type": "execute_result"
    }
   ],
   "source": [
    "arr.size"
   ]
  },
  {
   "cell_type": "code",
   "execution_count": 8,
   "metadata": {
    "id": "jf04b9bMSL0q"
   },
   "outputs": [
    {
     "data": {
      "text/plain": [
       "2"
      ]
     },
     "execution_count": 8,
     "metadata": {},
     "output_type": "execute_result"
    }
   ],
   "source": [
    "arr.ndim"
   ]
  },
  {
   "cell_type": "code",
   "execution_count": 9,
   "metadata": {
    "id": "T39NHKUfSL0q"
   },
   "outputs": [
    {
     "data": {
      "text/plain": [
       "dtype('int64')"
      ]
     },
     "execution_count": 9,
     "metadata": {},
     "output_type": "execute_result"
    }
   ],
   "source": [
    "arr.dtype"
   ]
  },
  {
   "cell_type": "code",
   "execution_count": 10,
   "metadata": {
    "id": "2_Lpf6lISL0r"
   },
   "outputs": [
    {
     "data": {
      "text/plain": [
       "array([[ 1.,  2.,  3.,  4.],\n",
       "       [ 5.,  6.,  7.,  8.],\n",
       "       [ 9., 10., 11., 12.]])"
      ]
     },
     "execution_count": 10,
     "metadata": {},
     "output_type": "execute_result"
    }
   ],
   "source": [
    "arr.astype(float)"
   ]
  },
  {
   "cell_type": "markdown",
   "metadata": {
    "id": "JF39DOA2SL0r"
   },
   "source": [
    "### Indexing, Slicing and Boolen Indexing"
   ]
  },
  {
   "cell_type": "code",
   "execution_count": 11,
   "metadata": {
    "id": "w0wK9_kOSL0r"
   },
   "outputs": [
    {
     "data": {
      "text/plain": [
       "array([35, 18, 43, 47, 11, 18, 25, 10, 40, 32], dtype=int32)"
      ]
     },
     "execution_count": 11,
     "metadata": {},
     "output_type": "execute_result"
    }
   ],
   "source": [
    "arr = np.random.randint(5, 50, size = 10)\n",
    "arr"
   ]
  },
  {
   "cell_type": "markdown",
   "metadata": {
    "id": "yODYAc7iSL0u"
   },
   "source": [
    "#### 1-D Arrays"
   ]
  },
  {
   "cell_type": "markdown",
   "metadata": {},
   "source": [
    "**Indexing**\n",
    "\n",
    "- this concept is same for str, list, tuples, arrays"
   ]
  },
  {
   "cell_type": "code",
   "execution_count": 12,
   "metadata": {},
   "outputs": [
    {
     "data": {
      "text/plain": [
       "np.int32(35)"
      ]
     },
     "execution_count": 12,
     "metadata": {},
     "output_type": "execute_result"
    }
   ],
   "source": [
    "arr[0]  # - first element"
   ]
  },
  {
   "cell_type": "code",
   "execution_count": 14,
   "metadata": {},
   "outputs": [
    {
     "data": {
      "text/plain": [
       "np.int32(47)"
      ]
     },
     "execution_count": 14,
     "metadata": {},
     "output_type": "execute_result"
    }
   ],
   "source": [
    "arr[3]  # - fourth element"
   ]
  },
  {
   "cell_type": "code",
   "execution_count": 15,
   "metadata": {},
   "outputs": [
    {
     "data": {
      "text/plain": [
       "numpy.int32"
      ]
     },
     "execution_count": 15,
     "metadata": {},
     "output_type": "execute_result"
    }
   ],
   "source": [
    "type(arr[3])"
   ]
  },
  {
   "cell_type": "code",
   "execution_count": 16,
   "metadata": {},
   "outputs": [
    {
     "data": {
      "text/plain": [
       "int"
      ]
     },
     "execution_count": 16,
     "metadata": {},
     "output_type": "execute_result"
    }
   ],
   "source": [
    "type(32)"
   ]
  },
  {
   "cell_type": "code",
   "execution_count": 17,
   "metadata": {},
   "outputs": [
    {
     "data": {
      "text/plain": [
       "47"
      ]
     },
     "execution_count": 17,
     "metadata": {},
     "output_type": "execute_result"
    }
   ],
   "source": [
    "int(arr[3])"
   ]
  },
  {
   "cell_type": "code",
   "execution_count": 19,
   "metadata": {},
   "outputs": [
    {
     "data": {
      "text/plain": [
       "np.int32(32)"
      ]
     },
     "execution_count": 19,
     "metadata": {},
     "output_type": "execute_result"
    }
   ],
   "source": [
    "arr[-1]  # last element"
   ]
  },
  {
   "cell_type": "markdown",
   "metadata": {},
   "source": [
    "**Slicing**\n",
    "\n",
    "- this concept is same for str, list, tuples, arrays"
   ]
  },
  {
   "cell_type": "markdown",
   "metadata": {
    "id": "dAJTxG88SL0u"
   },
   "source": [
    "###### Ex. Extract first 3 elements"
   ]
  },
  {
   "cell_type": "code",
   "execution_count": 21,
   "metadata": {
    "id": "DutZE2c9SL0v"
   },
   "outputs": [
    {
     "data": {
      "text/plain": [
       "array([35, 18, 43], dtype=int32)"
      ]
     },
     "execution_count": 21,
     "metadata": {},
     "output_type": "execute_result"
    }
   ],
   "source": [
    "arr[0:3]"
   ]
  },
  {
   "cell_type": "markdown",
   "metadata": {},
   "source": [
    "###### Ex. Extract elements from postion 3 to the end if the array"
   ]
  },
  {
   "cell_type": "code",
   "execution_count": 22,
   "metadata": {},
   "outputs": [
    {
     "data": {
      "text/plain": [
       "array([47, 11, 18, 25, 10, 40, 32], dtype=int32)"
      ]
     },
     "execution_count": 22,
     "metadata": {},
     "output_type": "execute_result"
    }
   ],
   "source": [
    "arr[3 : ]  # Keep end point as empty if you want to extract till the last element"
   ]
  },
  {
   "cell_type": "markdown",
   "metadata": {
    "id": "Uhah9JyBSL0v"
   },
   "source": [
    "###### Ex. Extract last 5 elements"
   ]
  },
  {
   "cell_type": "code",
   "execution_count": 23,
   "metadata": {
    "id": "1PNWHks3SL0v"
   },
   "outputs": [
    {
     "data": {
      "text/plain": [
       "array([18, 25, 10, 40, 32], dtype=int32)"
      ]
     },
     "execution_count": 23,
     "metadata": {},
     "output_type": "execute_result"
    }
   ],
   "source": [
    "arr[-5 : ]"
   ]
  },
  {
   "cell_type": "markdown",
   "metadata": {},
   "source": [
    "**Conditional or boolean slicing/indexing - Filtering the arrays**\n",
    "- applicable only to arrays"
   ]
  },
  {
   "cell_type": "markdown",
   "metadata": {
    "id": "nGjuAzZHSL0v"
   },
   "source": [
    "###### Ex. Extract elements at index position 2, 5, 9."
   ]
  },
  {
   "cell_type": "code",
   "execution_count": 25,
   "metadata": {
    "id": "lDjyIKdJSL0v"
   },
   "outputs": [
    {
     "data": {
      "text/plain": [
       "array([32, 43, 18], dtype=int32)"
      ]
     },
     "execution_count": 25,
     "metadata": {},
     "output_type": "execute_result"
    }
   ],
   "source": [
    "arr[[9, 2, 5, ]]"
   ]
  },
  {
   "cell_type": "markdown",
   "metadata": {
    "id": "IuRLmBMNSL0w"
   },
   "source": [
    "###### Ex. Extract elements less than 20"
   ]
  },
  {
   "cell_type": "code",
   "execution_count": 27,
   "metadata": {
    "id": "VoOlfr4zSL0w"
   },
   "outputs": [
    {
     "data": {
      "text/plain": [
       "array([False,  True, False, False,  True,  True, False,  True, False,\n",
       "       False])"
      ]
     },
     "execution_count": 27,
     "metadata": {},
     "output_type": "execute_result"
    }
   ],
   "source": [
    "arr < 20  # returns a boolean array"
   ]
  },
  {
   "cell_type": "code",
   "execution_count": 29,
   "metadata": {},
   "outputs": [
    {
     "data": {
      "text/plain": [
       "array([18, 11, 18, 10], dtype=int32)"
      ]
     },
     "execution_count": 29,
     "metadata": {},
     "output_type": "execute_result"
    }
   ],
   "source": [
    "arr[arr < 20] # Extracts the values where condition is True"
   ]
  },
  {
   "cell_type": "code",
   "execution_count": 33,
   "metadata": {},
   "outputs": [
    {
     "data": {
      "text/plain": [
       "np.int64(279)"
      ]
     },
     "execution_count": 33,
     "metadata": {},
     "output_type": "execute_result"
    }
   ],
   "source": [
    "# Sum of numbers in the array\n",
    "np.sum(arr)"
   ]
  },
  {
   "cell_type": "code",
   "execution_count": 34,
   "metadata": {},
   "outputs": [
    {
     "data": {
      "text/plain": [
       "np.int64(4)"
      ]
     },
     "execution_count": 34,
     "metadata": {},
     "output_type": "execute_result"
    }
   ],
   "source": [
    "# Count the number of values greater than 20 - \n",
    "np.sum(arr < 20) # arr < 20 generate a bool array, where True - 1 and False - 0 - sum of all the True values "
   ]
  },
  {
   "cell_type": "code",
   "execution_count": 35,
   "metadata": {},
   "outputs": [
    {
     "data": {
      "text/plain": [
       "np.True_"
      ]
     },
     "execution_count": 35,
     "metadata": {},
     "output_type": "execute_result"
    }
   ],
   "source": [
    "# Are there any numbers less than 20\n",
    "np.sum(arr < 20) >= 1"
   ]
  },
  {
   "cell_type": "code",
   "execution_count": 37,
   "metadata": {},
   "outputs": [
    {
     "data": {
      "text/plain": [
       "np.True_"
      ]
     },
     "execution_count": 37,
     "metadata": {},
     "output_type": "execute_result"
    }
   ],
   "source": [
    "# Are there any numbers less than 20\n",
    "np.any(arr < 20) # checks if any 1 value in the bool array is True"
   ]
  },
  {
   "cell_type": "markdown",
   "metadata": {
    "id": "mLixUpi0SL0w"
   },
   "source": [
    "### 2-D Arrays"
   ]
  },
  {
   "cell_type": "code",
   "execution_count": 38,
   "metadata": {
    "id": "HtpgnYXSSL0w"
   },
   "outputs": [
    {
     "data": {
      "text/plain": [
       "array([[28, 19, 24, 14],\n",
       "       [28, 43, 37, 20],\n",
       "       [40, 37, 33, 17],\n",
       "       [19, 11,  5, 20],\n",
       "       [11, 11, 16, 13],\n",
       "       [11, 47,  9,  9]], dtype=int32)"
      ]
     },
     "execution_count": 38,
     "metadata": {},
     "output_type": "execute_result"
    }
   ],
   "source": [
    "arr = np.random.randint(5, 50, size = (6,4))\n",
    "arr"
   ]
  },
  {
   "cell_type": "markdown",
   "metadata": {
    "id": "m_vUEuzbSL0x"
   },
   "source": [
    "###### Ex. Extract first 3 rows"
   ]
  },
  {
   "cell_type": "code",
   "execution_count": 39,
   "metadata": {
    "id": "9fOmVOtdSL0x"
   },
   "outputs": [
    {
     "data": {
      "text/plain": [
       "array([[28, 19, 24, 14],\n",
       "       [28, 43, 37, 20],\n",
       "       [40, 37, 33, 17]], dtype=int32)"
      ]
     },
     "execution_count": 39,
     "metadata": {},
     "output_type": "execute_result"
    }
   ],
   "source": [
    "arr[0:3]"
   ]
  },
  {
   "cell_type": "markdown",
   "metadata": {
    "id": "Ea2Yy2HDSL0x"
   },
   "source": [
    "###### Ex. Extract last 2 rows"
   ]
  },
  {
   "cell_type": "code",
   "execution_count": 40,
   "metadata": {
    "id": "Xs_Cwn-ZSL0x"
   },
   "outputs": [
    {
     "data": {
      "text/plain": [
       "array([[11, 11, 16, 13],\n",
       "       [11, 47,  9,  9]], dtype=int32)"
      ]
     },
     "execution_count": 40,
     "metadata": {},
     "output_type": "execute_result"
    }
   ],
   "source": [
    "arr[-2:]"
   ]
  },
  {
   "cell_type": "markdown",
   "metadata": {
    "id": "lgo1AB3ESL0x"
   },
   "source": [
    "###### Ex. Extract second column - count wise"
   ]
  },
  {
   "cell_type": "code",
   "execution_count": 42,
   "metadata": {
    "id": "p8au-IOpSL0y"
   },
   "outputs": [
    {
     "data": {
      "text/plain": [
       "array([19, 43, 37, 11, 11, 47], dtype=int32)"
      ]
     },
     "execution_count": 42,
     "metadata": {},
     "output_type": "execute_result"
    }
   ],
   "source": [
    "arr[:, 1]  # Extracting single row or col from 2-D arrays will always return output in 1-D"
   ]
  },
  {
   "cell_type": "markdown",
   "metadata": {
    "id": "rFF5yf_VSL0y"
   },
   "source": [
    "###### Ex. Extract row 2 and 3 and column 2 and 3"
   ]
  },
  {
   "cell_type": "code",
   "execution_count": 44,
   "metadata": {
    "id": "CsnE4pTDSL0y"
   },
   "outputs": [
    {
     "data": {
      "text/plain": [
       "array([[43, 37],\n",
       "       [37, 33]], dtype=int32)"
      ]
     },
     "execution_count": 44,
     "metadata": {},
     "output_type": "execute_result"
    }
   ],
   "source": [
    "arr[1:3, 1:3]"
   ]
  },
  {
   "cell_type": "markdown",
   "metadata": {
    "id": "zKiuKqHrSL0z"
   },
   "source": [
    "###### Ex. Extract values less than 25"
   ]
  },
  {
   "cell_type": "code",
   "execution_count": 46,
   "metadata": {
    "id": "9E1oeOkISL0z"
   },
   "outputs": [
    {
     "data": {
      "text/plain": [
       "array([19, 24, 14, 20, 17, 19, 11,  5, 20, 11, 11, 16, 13, 11,  9,  9],\n",
       "      dtype=int32)"
      ]
     },
     "execution_count": 46,
     "metadata": {},
     "output_type": "execute_result"
    }
   ],
   "source": [
    "arr[arr < 25]"
   ]
  },
  {
   "cell_type": "markdown",
   "metadata": {
    "id": "sXaOomI2SL0z"
   },
   "source": [
    "###### Ex. Identify largest value. Extract values less than half of largest values"
   ]
  },
  {
   "cell_type": "code",
   "execution_count": 47,
   "metadata": {
    "id": "XXpP7USOSL01"
   },
   "outputs": [
    {
     "data": {
      "text/plain": [
       "array([19, 14, 20, 17, 19, 11,  5, 20, 11, 11, 16, 13, 11,  9,  9],\n",
       "      dtype=int32)"
      ]
     },
     "execution_count": 47,
     "metadata": {},
     "output_type": "execute_result"
    }
   ],
   "source": [
    "arr[arr < np.max(arr)/2]"
   ]
  },
  {
   "cell_type": "markdown",
   "metadata": {
    "id": "fL2XoRrBSL07"
   },
   "source": [
    "### Array Operations"
   ]
  },
  {
   "cell_type": "markdown",
   "metadata": {
    "id": "g8EECkQKSL08"
   },
   "source": [
    "#### Arithmetic operations on Arrays -\n",
    " - Addition, Substraction, Multiplication, Division, etc.\n",
    " - Operations on array and a scalar value\n",
    " - Operations between two arrays\n",
    " - Matrix Operations - Multiplication(np.dot()), Transpose(np.transpose())\n"
   ]
  },
  {
   "cell_type": "markdown",
   "metadata": {
    "id": "R4EU3ag3SL09"
   },
   "source": [
    "#### Array and Scalar"
   ]
  },
  {
   "cell_type": "code",
   "execution_count": 48,
   "metadata": {
    "id": "1iA_t7hFSL09"
   },
   "outputs": [
    {
     "data": {
      "text/plain": [
       "array([7, 6, 5, 3, 3], dtype=int32)"
      ]
     },
     "execution_count": 48,
     "metadata": {},
     "output_type": "execute_result"
    }
   ],
   "source": [
    "arr1 = np.random.randint(1,10,size = 5)\n",
    "arr1 "
   ]
  },
  {
   "cell_type": "code",
   "execution_count": 49,
   "metadata": {
    "id": "2qrteupNSL09"
   },
   "outputs": [
    {
     "data": {
      "text/plain": [
       "array([12, 11, 10,  8,  8], dtype=int32)"
      ]
     },
     "execution_count": 49,
     "metadata": {},
     "output_type": "execute_result"
    }
   ],
   "source": [
    "arr1 + 5 # Addition"
   ]
  },
  {
   "cell_type": "code",
   "execution_count": 50,
   "metadata": {
    "id": "7m2YLJDwSL09"
   },
   "outputs": [
    {
     "data": {
      "text/plain": [
       "array([ 2,  1,  0, -2, -2], dtype=int32)"
      ]
     },
     "execution_count": 50,
     "metadata": {},
     "output_type": "execute_result"
    }
   ],
   "source": [
    "arr1 - 5 # Substraction"
   ]
  },
  {
   "cell_type": "code",
   "execution_count": 51,
   "metadata": {
    "id": "WZdyCcBaSL0-"
   },
   "outputs": [
    {
     "data": {
      "text/plain": [
       "array([35, 30, 25, 15, 15], dtype=int32)"
      ]
     },
     "execution_count": 51,
     "metadata": {},
     "output_type": "execute_result"
    }
   ],
   "source": [
    "arr1 * 5 # Multiplication"
   ]
  },
  {
   "cell_type": "code",
   "execution_count": 52,
   "metadata": {
    "id": "mAY1w9a4SL0-"
   },
   "outputs": [
    {
     "data": {
      "text/plain": [
       "array([1.4, 1.2, 1. , 0.6, 0.6])"
      ]
     },
     "execution_count": 52,
     "metadata": {},
     "output_type": "execute_result"
    }
   ],
   "source": [
    "arr1 / 5 # Division"
   ]
  },
  {
   "cell_type": "code",
   "execution_count": 53,
   "metadata": {
    "id": "GpOMqLWaSL0-"
   },
   "outputs": [
    {
     "data": {
      "text/plain": [
       "array([1, 1, 1, 0, 0], dtype=int32)"
      ]
     },
     "execution_count": 53,
     "metadata": {},
     "output_type": "execute_result"
    }
   ],
   "source": [
    "arr1 // 5 # Floor Division"
   ]
  },
  {
   "cell_type": "code",
   "execution_count": 54,
   "metadata": {
    "id": "wFbDqcnxSL0-"
   },
   "outputs": [
    {
     "data": {
      "text/plain": [
       "array([2, 1, 0, 3, 3], dtype=int32)"
      ]
     },
     "execution_count": 54,
     "metadata": {},
     "output_type": "execute_result"
    }
   ],
   "source": [
    "arr1 % 5 # Modulus"
   ]
  },
  {
   "cell_type": "markdown",
   "metadata": {
    "id": "sRLJ1oBhSL0-"
   },
   "source": [
    "#### Two Arrays"
   ]
  },
  {
   "cell_type": "code",
   "execution_count": 55,
   "metadata": {
    "id": "APmPJ9P4SL0_"
   },
   "outputs": [
    {
     "data": {
      "text/plain": [
       "array([1, 5, 6, 9, 8], dtype=int32)"
      ]
     },
     "execution_count": 55,
     "metadata": {},
     "output_type": "execute_result"
    }
   ],
   "source": [
    "arr1 = np.random.randint(1,10,size = 5)\n",
    "arr1"
   ]
  },
  {
   "cell_type": "code",
   "execution_count": 56,
   "metadata": {
    "id": "lqqwcLVNSL1A"
   },
   "outputs": [
    {
     "data": {
      "text/plain": [
       "array([2, 8, 8, 4, 3], dtype=int32)"
      ]
     },
     "execution_count": 56,
     "metadata": {},
     "output_type": "execute_result"
    }
   ],
   "source": [
    "arr2 = np.random.randint(1,10,size = 5)\n",
    "arr2"
   ]
  },
  {
   "cell_type": "code",
   "execution_count": 57,
   "metadata": {
    "id": "Icrg6invSL1A"
   },
   "outputs": [
    {
     "data": {
      "text/plain": [
       "array([ 3, 13, 14, 13, 11], dtype=int32)"
      ]
     },
     "execution_count": 57,
     "metadata": {},
     "output_type": "execute_result"
    }
   ],
   "source": [
    "arr1 + arr2 # Addition"
   ]
  },
  {
   "cell_type": "code",
   "execution_count": 58,
   "metadata": {
    "id": "gCG2nLndSL1B"
   },
   "outputs": [
    {
     "data": {
      "text/plain": [
       "array([-1, -3, -2,  5,  5], dtype=int32)"
      ]
     },
     "execution_count": 58,
     "metadata": {},
     "output_type": "execute_result"
    }
   ],
   "source": [
    "arr1 - arr2 # Substraction"
   ]
  },
  {
   "cell_type": "code",
   "execution_count": 59,
   "metadata": {
    "id": "uqcUDPGjSL1C"
   },
   "outputs": [
    {
     "data": {
      "text/plain": [
       "array([ 2, 40, 48, 36, 24], dtype=int32)"
      ]
     },
     "execution_count": 59,
     "metadata": {},
     "output_type": "execute_result"
    }
   ],
   "source": [
    "arr1 * arr2 # Multiplication"
   ]
  },
  {
   "cell_type": "code",
   "execution_count": 60,
   "metadata": {
    "id": "eGRzXiMUSL1C"
   },
   "outputs": [
    {
     "data": {
      "text/plain": [
       "array([0.5       , 0.625     , 0.75      , 2.25      , 2.66666667])"
      ]
     },
     "execution_count": 60,
     "metadata": {},
     "output_type": "execute_result"
    }
   ],
   "source": [
    "arr1 / arr2 # Division"
   ]
  },
  {
   "cell_type": "code",
   "execution_count": 61,
   "metadata": {
    "id": "xv1ue7W3SL1D"
   },
   "outputs": [
    {
     "data": {
      "text/plain": [
       "array([0, 0, 0, 2, 2], dtype=int32)"
      ]
     },
     "execution_count": 61,
     "metadata": {},
     "output_type": "execute_result"
    }
   ],
   "source": [
    "arr1 // arr2 # Floor Division"
   ]
  },
  {
   "cell_type": "code",
   "execution_count": 62,
   "metadata": {
    "id": "QEVSfPoHSL1D"
   },
   "outputs": [
    {
     "data": {
      "text/plain": [
       "array([1, 5, 6, 1, 2], dtype=int32)"
      ]
     },
     "execution_count": 62,
     "metadata": {},
     "output_type": "execute_result"
    }
   ],
   "source": [
    "arr1 % arr2 # Modulus"
   ]
  },
  {
   "cell_type": "markdown",
   "metadata": {
    "id": "I7MMbiDUSL1D"
   },
   "source": [
    "#### Relational operations on Arrays -\n",
    " - ==, !=, <, >, <=, >=\n",
    " - Operations on array and a scalar value\n",
    " - Operations between two arrays"
   ]
  },
  {
   "cell_type": "markdown",
   "metadata": {
    "id": "risXX05xSL1E"
   },
   "source": [
    "#### Array and Scalar"
   ]
  },
  {
   "cell_type": "code",
   "execution_count": 63,
   "metadata": {
    "id": "RG6UknSxSL1E"
   },
   "outputs": [
    {
     "data": {
      "text/plain": [
       "array([7, 5, 4, 3, 6], dtype=int32)"
      ]
     },
     "execution_count": 63,
     "metadata": {},
     "output_type": "execute_result"
    }
   ],
   "source": [
    "arr1 = np.random.randint(1,10,size = 5)\n",
    "arr1"
   ]
  },
  {
   "cell_type": "code",
   "execution_count": 64,
   "metadata": {
    "id": "CMv1sBdxSL1E"
   },
   "outputs": [
    {
     "data": {
      "text/plain": [
       "array([False,  True, False, False, False])"
      ]
     },
     "execution_count": 64,
     "metadata": {},
     "output_type": "execute_result"
    }
   ],
   "source": [
    "arr1 == 5"
   ]
  },
  {
   "cell_type": "code",
   "execution_count": 65,
   "metadata": {
    "id": "MFce5HMESL1M"
   },
   "outputs": [
    {
     "data": {
      "text/plain": [
       "array([ True, False,  True,  True,  True])"
      ]
     },
     "execution_count": 65,
     "metadata": {},
     "output_type": "execute_result"
    }
   ],
   "source": [
    "arr1 != 5"
   ]
  },
  {
   "cell_type": "code",
   "execution_count": 66,
   "metadata": {
    "id": "r884EP-vSL1M"
   },
   "outputs": [
    {
     "data": {
      "text/plain": [
       "array([False, False,  True,  True, False])"
      ]
     },
     "execution_count": 66,
     "metadata": {},
     "output_type": "execute_result"
    }
   ],
   "source": [
    "arr1 < 5"
   ]
  },
  {
   "cell_type": "code",
   "execution_count": 67,
   "metadata": {
    "id": "zP_0B3XXSL1M"
   },
   "outputs": [
    {
     "data": {
      "text/plain": [
       "array([ True, False, False, False,  True])"
      ]
     },
     "execution_count": 67,
     "metadata": {},
     "output_type": "execute_result"
    }
   ],
   "source": [
    "arr1 > 5"
   ]
  },
  {
   "cell_type": "code",
   "execution_count": 68,
   "metadata": {
    "id": "UuR2SeMaSL1M"
   },
   "outputs": [
    {
     "data": {
      "text/plain": [
       "array([False,  True,  True,  True, False])"
      ]
     },
     "execution_count": 68,
     "metadata": {},
     "output_type": "execute_result"
    }
   ],
   "source": [
    "arr1 <= 5"
   ]
  },
  {
   "cell_type": "code",
   "execution_count": 69,
   "metadata": {
    "id": "2CCAoZQRSL1M"
   },
   "outputs": [
    {
     "data": {
      "text/plain": [
       "array([ True,  True, False, False,  True])"
      ]
     },
     "execution_count": 69,
     "metadata": {},
     "output_type": "execute_result"
    }
   ],
   "source": [
    "arr1 >= 5"
   ]
  },
  {
   "cell_type": "markdown",
   "metadata": {
    "id": "w3NB0RylSL1N"
   },
   "source": [
    "#### Two Arrays"
   ]
  },
  {
   "cell_type": "code",
   "execution_count": 70,
   "metadata": {
    "id": "er1RGQtbSL1N"
   },
   "outputs": [
    {
     "data": {
      "text/plain": [
       "array([5, 1, 8, 8, 2], dtype=int32)"
      ]
     },
     "execution_count": 70,
     "metadata": {},
     "output_type": "execute_result"
    }
   ],
   "source": [
    "arr1 = np.random.randint(1,10,size = 5)\n",
    "arr1"
   ]
  },
  {
   "cell_type": "code",
   "execution_count": 71,
   "metadata": {
    "id": "e1IoaYKPSL1N"
   },
   "outputs": [
    {
     "data": {
      "text/plain": [
       "array([6, 6, 6, 8, 4], dtype=int32)"
      ]
     },
     "execution_count": 71,
     "metadata": {},
     "output_type": "execute_result"
    }
   ],
   "source": [
    "arr2 = np.random.randint(1,10,size = 5)\n",
    "arr2"
   ]
  },
  {
   "cell_type": "code",
   "execution_count": 72,
   "metadata": {
    "id": "BxafJwk4SL1O"
   },
   "outputs": [
    {
     "data": {
      "text/plain": [
       "array([False, False, False,  True, False])"
      ]
     },
     "execution_count": 72,
     "metadata": {},
     "output_type": "execute_result"
    }
   ],
   "source": [
    "arr1 == arr2"
   ]
  },
  {
   "cell_type": "code",
   "execution_count": 73,
   "metadata": {
    "id": "tFH3rjbGSL1O"
   },
   "outputs": [
    {
     "data": {
      "text/plain": [
       "array([ True,  True,  True, False,  True])"
      ]
     },
     "execution_count": 73,
     "metadata": {},
     "output_type": "execute_result"
    }
   ],
   "source": [
    "arr1 != arr2"
   ]
  },
  {
   "cell_type": "code",
   "execution_count": 74,
   "metadata": {
    "id": "20PlGh-3SL1O"
   },
   "outputs": [
    {
     "data": {
      "text/plain": [
       "array([ True,  True, False, False,  True])"
      ]
     },
     "execution_count": 74,
     "metadata": {},
     "output_type": "execute_result"
    }
   ],
   "source": [
    "arr1 < arr2"
   ]
  },
  {
   "cell_type": "code",
   "execution_count": 75,
   "metadata": {
    "id": "w_286kkxSL1O"
   },
   "outputs": [
    {
     "data": {
      "text/plain": [
       "array([False, False,  True, False, False])"
      ]
     },
     "execution_count": 75,
     "metadata": {},
     "output_type": "execute_result"
    }
   ],
   "source": [
    "arr1 > arr2"
   ]
  },
  {
   "cell_type": "code",
   "execution_count": 76,
   "metadata": {
    "id": "GYgNtmYoSL1O"
   },
   "outputs": [
    {
     "data": {
      "text/plain": [
       "array([ True,  True, False,  True,  True])"
      ]
     },
     "execution_count": 76,
     "metadata": {},
     "output_type": "execute_result"
    }
   ],
   "source": [
    "arr1 <= arr2"
   ]
  },
  {
   "cell_type": "code",
   "execution_count": 77,
   "metadata": {
    "id": "1VHrwXl1SL1O"
   },
   "outputs": [
    {
     "data": {
      "text/plain": [
       "array([False, False,  True,  True, False])"
      ]
     },
     "execution_count": 77,
     "metadata": {},
     "output_type": "execute_result"
    }
   ],
   "source": [
    "arr1 >= arr2"
   ]
  },
  {
   "cell_type": "markdown",
   "metadata": {
    "id": "Y55RGzk3SL1P"
   },
   "source": [
    "#### Logical operations on Arrays -\n",
    " - np.logical_or()\n",
    " - np.logical_and()\n",
    " - np.logical_not()\n",
    " - np.logical_xor()"
   ]
  },
  {
   "cell_type": "code",
   "execution_count": 78,
   "metadata": {
    "id": "r6tvDGICSL1P"
   },
   "outputs": [
    {
     "data": {
      "text/plain": [
       "array([6, 6, 6, 9, 8], dtype=int32)"
      ]
     },
     "execution_count": 78,
     "metadata": {},
     "output_type": "execute_result"
    }
   ],
   "source": [
    "arr1 = np.random.randint(1,10,size = 5)\n",
    "arr1"
   ]
  },
  {
   "cell_type": "code",
   "execution_count": 79,
   "metadata": {
    "id": "8-nIMvyRSL1P"
   },
   "outputs": [
    {
     "data": {
      "text/plain": [
       "array([3, 2, 7, 3, 5], dtype=int32)"
      ]
     },
     "execution_count": 79,
     "metadata": {},
     "output_type": "execute_result"
    }
   ],
   "source": [
    "arr2 = np.random.randint(1,10,size = 5)\n",
    "arr2"
   ]
  },
  {
   "cell_type": "code",
   "execution_count": 82,
   "metadata": {
    "id": "BLIWNGK_SL1Q"
   },
   "outputs": [
    {
     "data": {
      "text/plain": [
       "array([False, False,  True, False, False])"
      ]
     },
     "execution_count": 82,
     "metadata": {},
     "output_type": "execute_result"
    }
   ],
   "source": [
    "np.logical_and(arr1 > 5, arr2 > 5)"
   ]
  },
  {
   "cell_type": "code",
   "execution_count": 83,
   "metadata": {
    "id": "K_NhIUWpSL1Q"
   },
   "outputs": [
    {
     "data": {
      "text/plain": [
       "array([ True,  True,  True,  True,  True])"
      ]
     },
     "execution_count": 83,
     "metadata": {},
     "output_type": "execute_result"
    }
   ],
   "source": [
    "np.logical_or(arr1 > 5, arr2 > 5)"
   ]
  },
  {
   "cell_type": "code",
   "execution_count": 84,
   "metadata": {
    "id": "wrdhpg4xSL1Q"
   },
   "outputs": [
    {
     "data": {
      "text/plain": [
       "array([False, False, False, False, False])"
      ]
     },
     "execution_count": 84,
     "metadata": {},
     "output_type": "execute_result"
    }
   ],
   "source": [
    "np.logical_not(arr1 > 5)"
   ]
  },
  {
   "cell_type": "code",
   "execution_count": 85,
   "metadata": {
    "id": "l7EPY8FISL1Q"
   },
   "outputs": [
    {
     "data": {
      "text/plain": [
       "array([ True,  True, False,  True,  True])"
      ]
     },
     "execution_count": 85,
     "metadata": {},
     "output_type": "execute_result"
    }
   ],
   "source": [
    "np.logical_xor(arr1 > 5, arr2 > 5)"
   ]
  },
  {
   "cell_type": "markdown",
   "metadata": {
    "id": "kAETb-iDSL1Q"
   },
   "source": [
    "#### Set Operations on Arrays\n",
    "\n",
    "Applicable to 1-D Ararys only\n",
    "\n",
    "- np.unique() - Find the unique elements of an array.\n",
    "- np.in1d() - Test whether each element of a 1-D array is also present in a second array.\n",
    "- np.intersect1d() - Find the intersection of two arrays.\n",
    "- np.setdiff1d() - Find the set difference of two arrays.\n",
    "- np.union1d() - Find the union of two arrays."
   ]
  },
  {
   "cell_type": "code",
   "execution_count": 87,
   "metadata": {
    "id": "30d56VmZSL1Q"
   },
   "outputs": [
    {
     "data": {
      "text/plain": [
       "array([8, 7, 2, 3, 7, 4, 7, 7, 3, 4], dtype=int32)"
      ]
     },
     "execution_count": 87,
     "metadata": {},
     "output_type": "execute_result"
    }
   ],
   "source": [
    "arr1 = np.random.randint(1,10,size = 10)\n",
    "arr1"
   ]
  },
  {
   "cell_type": "code",
   "execution_count": 89,
   "metadata": {
    "id": "WXBvGbEQSL1R"
   },
   "outputs": [
    {
     "data": {
      "text/plain": [
       "array([2, 3, 4, 7, 8], dtype=int32)"
      ]
     },
     "execution_count": 89,
     "metadata": {},
     "output_type": "execute_result"
    }
   ],
   "source": [
    "np.unique(arr1)"
   ]
  },
  {
   "cell_type": "code",
   "execution_count": 91,
   "metadata": {
    "id": "HmGg3OnYSL1R"
   },
   "outputs": [
    {
     "data": {
      "text/plain": [
       "(array([2, 3, 4, 7, 8], dtype=int32),\n",
       " array([2, 3, 5, 1, 0]),\n",
       " array([1, 2, 2, 4, 1]))"
      ]
     },
     "execution_count": 91,
     "metadata": {},
     "output_type": "execute_result"
    }
   ],
   "source": [
    "np.unique(arr1, return_counts=True, return_index=True)"
   ]
  },
  {
   "cell_type": "code",
   "execution_count": 92,
   "metadata": {},
   "outputs": [
    {
     "data": {
      "text/plain": [
       "array([1, 3, 6, 3, 2, 8, 4, 1, 5, 6], dtype=int32)"
      ]
     },
     "execution_count": 92,
     "metadata": {},
     "output_type": "execute_result"
    }
   ],
   "source": [
    "arr1 = np.random.randint(1,10,size = 10)\n",
    "arr1"
   ]
  },
  {
   "cell_type": "code",
   "execution_count": 93,
   "metadata": {},
   "outputs": [
    {
     "data": {
      "text/plain": [
       "array([5, 3, 3, 2, 3, 4, 5, 3, 7, 2], dtype=int32)"
      ]
     },
     "execution_count": 93,
     "metadata": {},
     "output_type": "execute_result"
    }
   ],
   "source": [
    "arr2 = np.random.randint(1,10,size = 10)\n",
    "arr2"
   ]
  },
  {
   "cell_type": "code",
   "execution_count": 94,
   "metadata": {},
   "outputs": [
    {
     "data": {
      "text/plain": [
       "array([2, 3, 4, 5], dtype=int32)"
      ]
     },
     "execution_count": 94,
     "metadata": {},
     "output_type": "execute_result"
    }
   ],
   "source": [
    "np.intersect1d(arr1, arr2) # common elements in 2 arrays"
   ]
  },
  {
   "cell_type": "code",
   "execution_count": 96,
   "metadata": {},
   "outputs": [
    {
     "data": {
      "text/plain": [
       "array([1, 2, 3, 4, 5, 6, 7, 8], dtype=int32)"
      ]
     },
     "execution_count": 96,
     "metadata": {},
     "output_type": "execute_result"
    }
   ],
   "source": [
    "np.union1d(arr1, arr2)"
   ]
  },
  {
   "cell_type": "code",
   "execution_count": 98,
   "metadata": {},
   "outputs": [
    {
     "data": {
      "text/plain": [
       "array([1, 6, 8], dtype=int32)"
      ]
     },
     "execution_count": 98,
     "metadata": {},
     "output_type": "execute_result"
    }
   ],
   "source": [
    "np.setdiff1d(arr1, arr2) # elements of only arr1 removing common"
   ]
  },
  {
   "cell_type": "code",
   "execution_count": 99,
   "metadata": {},
   "outputs": [
    {
     "name": "stderr",
     "output_type": "stream",
     "text": [
      "C:\\Users\\vaide\\AppData\\Local\\Temp\\ipykernel_18052\\2558066030.py:5: DeprecationWarning: `in1d` is deprecated. Use `np.isin` instead.\n",
      "  np.in1d(arr1, arr2)\n"
     ]
    },
    {
     "data": {
      "text/plain": [
       "array([ True, False,  True, False,  True])"
      ]
     },
     "execution_count": 99,
     "metadata": {},
     "output_type": "execute_result"
    }
   ],
   "source": [
    "arr1 = np.array([1, 2, 3, 4, 5])\n",
    "arr2 = np.array([1, 3, 5, 7, 9])\n",
    "\n",
    "# Checks if elements of array1 are present in array 2\n",
    "np.in1d(arr1, arr2)"
   ]
  },
  {
   "cell_type": "code",
   "execution_count": 100,
   "metadata": {},
   "outputs": [
    {
     "data": {
      "text/plain": [
       "array([ True, False,  True, False,  True])"
      ]
     },
     "execution_count": 100,
     "metadata": {},
     "output_type": "execute_result"
    }
   ],
   "source": [
    "np.isin(arr1, arr2)"
   ]
  },
  {
   "cell_type": "code",
   "execution_count": 101,
   "metadata": {},
   "outputs": [
    {
     "data": {
      "text/plain": [
       "{np.int64(1): np.True_,\n",
       " np.int64(2): np.False_,\n",
       " np.int64(3): np.True_,\n",
       " np.int64(4): np.False_,\n",
       " np.int64(5): np.True_}"
      ]
     },
     "execution_count": 101,
     "metadata": {},
     "output_type": "execute_result"
    }
   ],
   "source": [
    "dict(zip(arr1, np.isin(arr1, arr2)))"
   ]
  },
  {
   "cell_type": "markdown",
   "metadata": {
    "id": "GtcdxsPeSL1R"
   },
   "source": [
    "### Array Functions/Methods\n",
    "\n",
    "- np.all(), np.any()\n",
    "- arr.sum()\n",
    "- arr.min(), arr.max(), arr.argmin(), arr.agrmax()\n",
    "- np.round()\n",
    "- np.mean(), np.median(), np.average(), np.percentile()\n"
   ]
  },
  {
   "cell_type": "code",
   "execution_count": 102,
   "metadata": {
    "id": "9FVuOgKwSL1R"
   },
   "outputs": [],
   "source": [
    "arr2 = np.array([1, 3, 5, 7, 9])"
   ]
  },
  {
   "cell_type": "code",
   "execution_count": 103,
   "metadata": {
    "id": "ByeUJWTKSL1R"
   },
   "outputs": [
    {
     "data": {
      "text/plain": [
       "np.int64(9)"
      ]
     },
     "execution_count": 103,
     "metadata": {},
     "output_type": "execute_result"
    }
   ],
   "source": [
    "np.max(arr2)"
   ]
  },
  {
   "cell_type": "code",
   "execution_count": 104,
   "metadata": {
    "id": "Nylx9gcXSL1R"
   },
   "outputs": [
    {
     "data": {
      "text/plain": [
       "np.int64(9)"
      ]
     },
     "execution_count": 104,
     "metadata": {},
     "output_type": "execute_result"
    }
   ],
   "source": [
    "arr2.max()"
   ]
  },
  {
   "cell_type": "code",
   "execution_count": 107,
   "metadata": {
    "id": "nnStDwpSSL1S"
   },
   "outputs": [
    {
     "data": {
      "text/plain": [
       "np.int64(4)"
      ]
     },
     "execution_count": 107,
     "metadata": {},
     "output_type": "execute_result"
    }
   ],
   "source": [
    "arr2.argmax() # the index position of largest element"
   ]
  },
  {
   "cell_type": "markdown",
   "metadata": {
    "id": "0fMLMsHCSL1U"
   },
   "source": [
    "### Array Manipulations\n",
    "\n",
    "- **Changing Shape** – np.reshape()\n",
    "- **Adding/Removing Elements** – np.append(), np.insert(), np.delete()\n",
    "- **Splitting Arrays** – np.hsplit(), np.vsplit(), arr_obj.flatten()\n",
    "- **Sorting Arrays** - arr_obj.sort(), arr_obj.argsort()"
   ]
  },
  {
   "cell_type": "code",
   "execution_count": 109,
   "metadata": {
    "id": "W3Lx8bLQSL1V"
   },
   "outputs": [
    {
     "data": {
      "text/plain": [
       "array([ 1,  2,  3,  4,  5,  6,  7,  8,  9, 10, 11, 12])"
      ]
     },
     "execution_count": 109,
     "metadata": {},
     "output_type": "execute_result"
    }
   ],
   "source": [
    "arr = np.arange(1, 13)  # generates sequence of numbers\n",
    "arr"
   ]
  },
  {
   "cell_type": "markdown",
   "metadata": {
    "id": "76JffXiQSL1V"
   },
   "source": [
    "#### np.reshape()"
   ]
  },
  {
   "cell_type": "code",
   "execution_count": 110,
   "metadata": {
    "id": "lszpvd0QSL1V"
   },
   "outputs": [
    {
     "data": {
      "text/plain": [
       "array([[ 1,  2,  3],\n",
       "       [ 4,  5,  6],\n",
       "       [ 7,  8,  9],\n",
       "       [10, 11, 12]])"
      ]
     },
     "execution_count": 110,
     "metadata": {},
     "output_type": "execute_result"
    }
   ],
   "source": [
    "arr = np.reshape(arr, (4, 3))\n",
    "arr"
   ]
  },
  {
   "cell_type": "markdown",
   "metadata": {
    "id": "oRl19_P8SL1V"
   },
   "source": [
    "#### np.append()"
   ]
  },
  {
   "cell_type": "code",
   "execution_count": 111,
   "metadata": {
    "id": "eD-xawjvSL1V"
   },
   "outputs": [
    {
     "data": {
      "text/plain": [
       "array([ 1,  2,  3,  4,  5,  6,  7,  8,  9, 10, 11, 12, 10])"
      ]
     },
     "execution_count": 111,
     "metadata": {},
     "output_type": "execute_result"
    }
   ],
   "source": [
    "np.append(arr, 10) # Flattens the array"
   ]
  },
  {
   "cell_type": "code",
   "execution_count": 112,
   "metadata": {
    "id": "eD-xawjvSL1V"
   },
   "outputs": [
    {
     "data": {
      "text/plain": [
       "array([ 1,  2,  3,  4,  5,  6,  7,  8,  9, 10, 11, 12, 13, 14, 15])"
      ]
     },
     "execution_count": 112,
     "metadata": {},
     "output_type": "execute_result"
    }
   ],
   "source": [
    "np.append(arr, [13, 14, 15]) # Flattens the array"
   ]
  },
  {
   "cell_type": "code",
   "execution_count": 113,
   "metadata": {
    "id": "s7ZGoT0VSL1V"
   },
   "outputs": [
    {
     "data": {
      "text/plain": [
       "array([[ 1,  2,  3],\n",
       "       [ 4,  5,  6],\n",
       "       [ 7,  8,  9],\n",
       "       [10, 11, 12],\n",
       "       [13, 14, 15]])"
      ]
     },
     "execution_count": 113,
     "metadata": {},
     "output_type": "execute_result"
    }
   ],
   "source": [
    "np.append(arr, np.reshape(np.array([13, 14, 15]), (1, 3)), axis=0) # axis = 0 adds a 2-D array row-wise"
   ]
  },
  {
   "cell_type": "code",
   "execution_count": 114,
   "metadata": {
    "id": "1_cxJ-WmSL1W"
   },
   "outputs": [
    {
     "data": {
      "text/plain": [
       "array([[ 1,  2,  3, 10],\n",
       "       [ 4,  5,  6, 20],\n",
       "       [ 7,  8,  9, 30],\n",
       "       [10, 11, 12, 40]])"
      ]
     },
     "execution_count": 114,
     "metadata": {},
     "output_type": "execute_result"
    }
   ],
   "source": [
    "np.append(arr, [[10],[20],[30],[40]], axis=1) # axis = 1 adds a 2-D array column-wise"
   ]
  },
  {
   "cell_type": "markdown",
   "metadata": {
    "id": "FmxAPLupSL1W"
   },
   "source": [
    "#### np.insert()"
   ]
  },
  {
   "cell_type": "code",
   "execution_count": 116,
   "metadata": {
    "id": "-348fjyjSL1W"
   },
   "outputs": [
    {
     "data": {
      "text/plain": [
       "array([[ 1,  2,  3],\n",
       "       [ 4,  5,  6],\n",
       "       [ 7,  8,  9],\n",
       "       [10, 11, 12]])"
      ]
     },
     "execution_count": 116,
     "metadata": {},
     "output_type": "execute_result"
    }
   ],
   "source": [
    "arr = np.reshape(np.arange(1,13), (4,3))\n",
    "arr"
   ]
  },
  {
   "cell_type": "code",
   "execution_count": 117,
   "metadata": {
    "id": "7790frJvSL1X"
   },
   "outputs": [
    {
     "data": {
      "text/plain": [
       "array([ 1,  5,  2,  3,  4,  5,  6,  7,  8,  9, 10, 11, 12])"
      ]
     },
     "execution_count": 117,
     "metadata": {},
     "output_type": "execute_result"
    }
   ],
   "source": [
    "np.insert(arr, 1, 5) # Flattens the arr and inserts 5 at index 1"
   ]
  },
  {
   "cell_type": "code",
   "execution_count": 118,
   "metadata": {
    "id": "zlobpnLuSL1Z"
   },
   "outputs": [
    {
     "data": {
      "text/plain": [
       "array([[ 1,  2,  3],\n",
       "       [ 5,  5,  5],\n",
       "       [ 4,  5,  6],\n",
       "       [ 7,  8,  9],\n",
       "       [10, 11, 12]])"
      ]
     },
     "execution_count": 118,
     "metadata": {},
     "output_type": "execute_result"
    }
   ],
   "source": [
    "np.insert(arr, 1, 5, axis=0) # Inserts [5, 5, 5] as row 1"
   ]
  },
  {
   "cell_type": "code",
   "execution_count": 119,
   "metadata": {
    "id": "vu59b1XbSL1a"
   },
   "outputs": [
    {
     "data": {
      "text/plain": [
       "array([[ 1,  5,  2,  3],\n",
       "       [ 4,  5,  5,  6],\n",
       "       [ 7,  5,  8,  9],\n",
       "       [10,  5, 11, 12]])"
      ]
     },
     "execution_count": 119,
     "metadata": {},
     "output_type": "execute_result"
    }
   ],
   "source": [
    "np.insert(arr, 1, 5, axis=1) # Inserts [5, 5, 5, 5] as column 1"
   ]
  },
  {
   "cell_type": "code",
   "execution_count": 120,
   "metadata": {
    "id": "IshmcWfLSL1a"
   },
   "outputs": [
    {
     "data": {
      "text/plain": [
       "array([[ 1, 10,  2,  3],\n",
       "       [ 4, 20,  5,  6],\n",
       "       [ 7, 30,  8,  9],\n",
       "       [10, 40, 11, 12]])"
      ]
     },
     "execution_count": 120,
     "metadata": {},
     "output_type": "execute_result"
    }
   ],
   "source": [
    "np.insert(arr, 1, [10, 20, 30, 40], axis=1)"
   ]
  },
  {
   "cell_type": "code",
   "execution_count": 121,
   "metadata": {
    "id": "SjY7Zk99SL1a"
   },
   "outputs": [
    {
     "data": {
      "text/plain": [
       "array([[ 1,  2,  3],\n",
       "       [10, 20, 30],\n",
       "       [ 4,  5,  6],\n",
       "       [ 7,  8,  9],\n",
       "       [10, 11, 12]])"
      ]
     },
     "execution_count": 121,
     "metadata": {},
     "output_type": "execute_result"
    }
   ],
   "source": [
    "np.insert(arr, 1, [10, 20, 30], axis=0)"
   ]
  },
  {
   "cell_type": "markdown",
   "metadata": {
    "id": "Rkb1mtVlSL1a"
   },
   "source": [
    "#### np.delete()"
   ]
  },
  {
   "cell_type": "code",
   "execution_count": 122,
   "metadata": {
    "id": "1LshS_7-SL1a"
   },
   "outputs": [
    {
     "data": {
      "text/plain": [
       "array([[ 1,  2,  3],\n",
       "       [ 4,  5,  6],\n",
       "       [ 7,  8,  9],\n",
       "       [10, 11, 12]])"
      ]
     },
     "execution_count": 122,
     "metadata": {},
     "output_type": "execute_result"
    }
   ],
   "source": [
    "arr = np.reshape(np.arange(1,13), (4,3))\n",
    "arr"
   ]
  },
  {
   "cell_type": "code",
   "execution_count": 123,
   "metadata": {
    "id": "2npy2ILdSL1b"
   },
   "outputs": [
    {
     "data": {
      "text/plain": [
       "array([ 1,  3,  4,  5,  6,  7,  8,  9, 10, 11, 12])"
      ]
     },
     "execution_count": 123,
     "metadata": {},
     "output_type": "execute_result"
    }
   ],
   "source": [
    "np.delete(arr, 1) # Flattens the arr and deletes element at index 1"
   ]
  },
  {
   "cell_type": "code",
   "execution_count": 125,
   "metadata": {
    "id": "lzZICc76SL1b"
   },
   "outputs": [
    {
     "data": {
      "text/plain": [
       "array([[ 1,  2,  3],\n",
       "       [ 7,  8,  9],\n",
       "       [10, 11, 12]])"
      ]
     },
     "execution_count": 125,
     "metadata": {},
     "output_type": "execute_result"
    }
   ],
   "source": [
    "np.delete(arr, 1, axis=0) # deletes row 1"
   ]
  },
  {
   "cell_type": "code",
   "execution_count": 126,
   "metadata": {
    "id": "7gzPkIY2SL1b"
   },
   "outputs": [
    {
     "data": {
      "text/plain": [
       "array([[ 1,  3],\n",
       "       [ 4,  6],\n",
       "       [ 7,  9],\n",
       "       [10, 12]])"
      ]
     },
     "execution_count": 126,
     "metadata": {},
     "output_type": "execute_result"
    }
   ],
   "source": [
    "np.delete(arr, 1, axis=1) # deletes column 1"
   ]
  },
  {
   "cell_type": "code",
   "execution_count": 127,
   "metadata": {
    "id": "QSKdbkWWSL1c"
   },
   "outputs": [
    {
     "data": {
      "text/plain": [
       "array([[ 4,  5,  6],\n",
       "       [10, 11, 12]])"
      ]
     },
     "execution_count": 127,
     "metadata": {},
     "output_type": "execute_result"
    }
   ],
   "source": [
    "np.delete(arr,[0,2], axis=0) # deletes selected rows"
   ]
  },
  {
   "cell_type": "code",
   "execution_count": 128,
   "metadata": {
    "id": "Br8pH50ZSL1c"
   },
   "outputs": [
    {
     "data": {
      "text/plain": [
       "array([[ 2],\n",
       "       [ 5],\n",
       "       [ 8],\n",
       "       [11]])"
      ]
     },
     "execution_count": 128,
     "metadata": {},
     "output_type": "execute_result"
    }
   ],
   "source": [
    "np.delete(arr,[0,2], axis=1) # deletes selected columns"
   ]
  },
  {
   "cell_type": "markdown",
   "metadata": {},
   "source": [
    "##### Note - All the 3 functions generate a new array"
   ]
  },
  {
   "cell_type": "markdown",
   "metadata": {
    "id": "qKuII5G5SL1d"
   },
   "source": [
    "#### np.hsplit(), np.vsplit()"
   ]
  },
  {
   "cell_type": "code",
   "execution_count": 129,
   "metadata": {
    "id": "G9Vgyyu4SL1d"
   },
   "outputs": [
    {
     "data": {
      "text/plain": [
       "array([[ 1,  2,  3,  4],\n",
       "       [ 5,  6,  7,  8],\n",
       "       [ 9, 10, 11, 12],\n",
       "       [13, 14, 15, 16],\n",
       "       [17, 18, 19, 20],\n",
       "       [21, 22, 23, 24]])"
      ]
     },
     "execution_count": 129,
     "metadata": {},
     "output_type": "execute_result"
    }
   ],
   "source": [
    "arr = np.reshape(np.arange(1, 25), (6,4))\n",
    "arr"
   ]
  },
  {
   "cell_type": "code",
   "execution_count": 130,
   "metadata": {
    "id": "D0aZdlUYSL1d"
   },
   "outputs": [
    {
     "data": {
      "text/plain": [
       "[array([[ 1,  2,  3,  4],\n",
       "        [ 5,  6,  7,  8],\n",
       "        [ 9, 10, 11, 12]]),\n",
       " array([[13, 14, 15, 16],\n",
       "        [17, 18, 19, 20],\n",
       "        [21, 22, 23, 24]])]"
      ]
     },
     "execution_count": 130,
     "metadata": {},
     "output_type": "execute_result"
    }
   ],
   "source": [
    "np.vsplit(arr, 2)"
   ]
  },
  {
   "cell_type": "code",
   "execution_count": 131,
   "metadata": {
    "id": "o85kXgOySL1d"
   },
   "outputs": [
    {
     "data": {
      "text/plain": [
       "[array([[ 1,  2],\n",
       "        [ 5,  6],\n",
       "        [ 9, 10],\n",
       "        [13, 14],\n",
       "        [17, 18],\n",
       "        [21, 22]]),\n",
       " array([[ 3,  4],\n",
       "        [ 7,  8],\n",
       "        [11, 12],\n",
       "        [15, 16],\n",
       "        [19, 20],\n",
       "        [23, 24]])]"
      ]
     },
     "execution_count": 131,
     "metadata": {},
     "output_type": "execute_result"
    }
   ],
   "source": [
    "np.hsplit(arr, 2)"
   ]
  },
  {
   "cell_type": "markdown",
   "metadata": {
    "id": "HUuAK26fSL1d"
   },
   "source": [
    "#### flatten()"
   ]
  },
  {
   "cell_type": "code",
   "execution_count": 132,
   "metadata": {
    "id": "pZOR76k6SL1e"
   },
   "outputs": [
    {
     "data": {
      "text/plain": [
       "array([[ 1,  2,  3,  4],\n",
       "       [ 5,  6,  7,  8],\n",
       "       [ 9, 10, 11, 12],\n",
       "       [13, 14, 15, 16],\n",
       "       [17, 18, 19, 20],\n",
       "       [21, 22, 23, 24]])"
      ]
     },
     "execution_count": 132,
     "metadata": {},
     "output_type": "execute_result"
    }
   ],
   "source": [
    "arr"
   ]
  },
  {
   "cell_type": "code",
   "execution_count": 134,
   "metadata": {},
   "outputs": [
    {
     "data": {
      "text/plain": [
       "array([ 1,  2,  3,  4,  5,  6,  7,  8,  9, 10, 11, 12, 13, 14, 15, 16, 17,\n",
       "       18, 19, 20, 21, 22, 23, 24])"
      ]
     },
     "execution_count": 134,
     "metadata": {},
     "output_type": "execute_result"
    }
   ],
   "source": [
    "arr.flatten()"
   ]
  },
  {
   "cell_type": "code",
   "execution_count": 133,
   "metadata": {
    "id": "agJMSAfnSL1e"
   },
   "outputs": [
    {
     "data": {
      "text/plain": [
       "array([ 1,  5,  9, 13, 17, 21,  2,  6, 10, 14, 18, 22,  3,  7, 11, 15, 19,\n",
       "       23,  4,  8, 12, 16, 20, 24])"
      ]
     },
     "execution_count": 133,
     "metadata": {},
     "output_type": "execute_result"
    }
   ],
   "source": [
    "arr.flatten(order = \"F\") # returns a 1-D array"
   ]
  },
  {
   "cell_type": "code",
   "execution_count": null,
   "metadata": {
    "id": "TCVZAK-hSL1e"
   },
   "outputs": [],
   "source": [
    "help(arr.flatten)"
   ]
  },
  {
   "cell_type": "markdown",
   "metadata": {
    "id": "DluS4kgaSL1U"
   },
   "source": [
    "#### Sorting Arrays"
   ]
  },
  {
   "cell_type": "code",
   "execution_count": 146,
   "metadata": {},
   "outputs": [
    {
     "data": {
      "text/plain": [
       "array([100, 200, 300, 400])"
      ]
     },
     "execution_count": 146,
     "metadata": {},
     "output_type": "execute_result"
    }
   ],
   "source": [
    "products = np.array([\"p1\", \"p2\", \"p3\", \"p4\"])\n",
    "prices = np.array([200, 400, 300, 100])\n",
    "\n",
    "np.sort(prices) # Generates a new array"
   ]
  },
  {
   "cell_type": "code",
   "execution_count": 138,
   "metadata": {},
   "outputs": [
    {
     "data": {
      "text/plain": [
       "array([400, 300, 200, 100])"
      ]
     },
     "execution_count": 138,
     "metadata": {},
     "output_type": "execute_result"
    }
   ],
   "source": [
    "np.sort(prices)[::-1]  # DESC Sort"
   ]
  },
  {
   "cell_type": "code",
   "execution_count": 149,
   "metadata": {},
   "outputs": [
    {
     "data": {
      "text/plain": [
       "array([3, 0, 2, 1])"
      ]
     },
     "execution_count": 149,
     "metadata": {},
     "output_type": "execute_result"
    }
   ],
   "source": [
    "np.argsort(prices)  # returns the index position of the elements in sorted order of values"
   ]
  },
  {
   "cell_type": "code",
   "execution_count": 147,
   "metadata": {},
   "outputs": [
    {
     "data": {
      "text/plain": [
       "array([100, 200, 300, 400])"
      ]
     },
     "execution_count": 147,
     "metadata": {},
     "output_type": "execute_result"
    }
   ],
   "source": [
    "prices[np.argsort(prices)]"
   ]
  },
  {
   "cell_type": "code",
   "execution_count": 150,
   "metadata": {},
   "outputs": [
    {
     "data": {
      "text/plain": [
       "array(['p4', 'p1', 'p3', 'p2'], dtype='<U2')"
      ]
     },
     "execution_count": 150,
     "metadata": {},
     "output_type": "execute_result"
    }
   ],
   "source": [
    "products[np.argsort(prices)] # Sort the products by prices"
   ]
  },
  {
   "cell_type": "markdown",
   "metadata": {
    "id": "6hnOmvBUSL02"
   },
   "source": [
    "### Examples on Coffee Shop Data Set"
   ]
  },
  {
   "cell_type": "code",
   "execution_count": null,
   "metadata": {
    "id": "6iL0ny6ZSL04"
   },
   "outputs": [],
   "source": [
    "import numpy as np\n",
    "products = np.array(['Caffe Latte', 'Cappuccino', 'Colombian', 'Darjeeling', 'Decaf Irish Cream', 'Earl Grey', 'Green Tea', 'Lemon', 'Mint', 'Regular Espresso'])\n",
    "sales = np.array([52248.0, 14068.0, 71060.0, 60014.0, 69925.0, 27711.0, 19231.0, 24873.0, 32825.0, 44109.0])\n",
    "profits = np.array([17444.0, 5041.0, 28390.0, 20459.0, 23432.0, 7691.0, -2954.0, 7159.0, 10722.0, 14902.0])\n",
    "target_profits = np.array([15934.0, 4924.0, 31814.0, 19649.0, 24934.0, 8461.0, 7090.0, 7084.0, 10135.0, 16306.0])\n",
    "target_sales = np.array([48909.0, 13070.0, 80916.0, 57368.0, 66906.0, 30402.0, 18212.0, 21628.0, 27336.0, 42102.0])"
   ]
  },
  {
   "cell_type": "markdown",
   "metadata": {
    "id": "j1h8L0jJSL05"
   },
   "source": [
    "###### Ex. How many products are there in the dataset?"
   ]
  },
  {
   "cell_type": "code",
   "execution_count": null,
   "metadata": {
    "id": "98ihS30uSL05"
   },
   "outputs": [],
   "source": []
  },
  {
   "cell_type": "markdown",
   "metadata": {},
   "source": [
    "###### Ex. Which product had the highest sales?"
   ]
  },
  {
   "cell_type": "code",
   "execution_count": null,
   "metadata": {},
   "outputs": [],
   "source": []
  },
  {
   "cell_type": "markdown",
   "metadata": {
    "id": "cTpzhm0HSL07"
   },
   "source": [
    "###### Ex. Which product had a loss?"
   ]
  },
  {
   "cell_type": "code",
   "execution_count": null,
   "metadata": {
    "id": "bOtCGXSOSL05"
   },
   "outputs": [],
   "source": []
  },
  {
   "cell_type": "markdown",
   "metadata": {},
   "source": [
    "###### Ex. Which products had profit margins (profit/sales) greater than 30%?"
   ]
  },
  {
   "cell_type": "code",
   "execution_count": null,
   "metadata": {},
   "outputs": [],
   "source": []
  },
  {
   "cell_type": "markdown",
   "metadata": {},
   "source": [
    "###### Ex. Find products with low sales but high profits (sales < median, profit > median)"
   ]
  },
  {
   "cell_type": "code",
   "execution_count": null,
   "metadata": {},
   "outputs": [],
   "source": []
  },
  {
   "cell_type": "markdown",
   "metadata": {
    "id": "UW9madYjSL05"
   },
   "source": [
    "###### Ex. Generate new values of Sales after applying 18% Tax"
   ]
  },
  {
   "cell_type": "code",
   "execution_count": null,
   "metadata": {
    "id": "it6cc5HqSL07"
   },
   "outputs": [],
   "source": []
  },
  {
   "cell_type": "markdown",
   "metadata": {},
   "source": [
    "###### Ex. Top 3 most profitable products?"
   ]
  },
  {
   "cell_type": "code",
   "execution_count": null,
   "metadata": {},
   "outputs": [],
   "source": []
  },
  {
   "cell_type": "markdown",
   "metadata": {},
   "source": [
    "###### Ex. Which products exceeded their sales targets?"
   ]
  },
  {
   "cell_type": "code",
   "execution_count": null,
   "metadata": {},
   "outputs": [],
   "source": []
  },
  {
   "cell_type": "markdown",
   "metadata": {},
   "source": [
    "###### Ex. How many products met or exceeded profit targets?"
   ]
  },
  {
   "cell_type": "code",
   "execution_count": null,
   "metadata": {},
   "outputs": [],
   "source": []
  },
  {
   "cell_type": "markdown",
   "metadata": {},
   "source": [
    "###### Ex. What is the average sales target achievement rate?"
   ]
  },
  {
   "cell_type": "code",
   "execution_count": null,
   "metadata": {},
   "outputs": [],
   "source": []
  },
  {
   "attachments": {},
   "cell_type": "markdown",
   "metadata": {
    "id": "iaFBp_9SSL1e"
   },
   "source": [
    "###### Ex. Find Products Falling Short of Profit Targets and Sort by Achievement Percentage\n",
    "1. Filter products that did not meet their profit targets\n",
    "2. Calculate the percentage of target profit achieved for each\n",
    "3. Display these products in descending order based on their achievement percentage"
   ]
  },
  {
   "cell_type": "code",
   "execution_count": null,
   "metadata": {
    "id": "mFBOih7USL1e"
   },
   "outputs": [],
   "source": []
  }
 ],
 "metadata": {
  "colab": {
   "provenance": []
  },
  "kernelspec": {
   "display_name": "Python 3 (ipykernel)",
   "language": "python",
   "name": "python3"
  },
  "language_info": {
   "codemirror_mode": {
    "name": "ipython",
    "version": 3
   },
   "file_extension": ".py",
   "mimetype": "text/x-python",
   "name": "python",
   "nbconvert_exporter": "python",
   "pygments_lexer": "ipython3",
   "version": "3.12.4"
  }
 },
 "nbformat": 4,
 "nbformat_minor": 4
}
