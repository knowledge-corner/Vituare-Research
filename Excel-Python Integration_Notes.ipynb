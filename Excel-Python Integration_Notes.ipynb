{
 "cells": [
  {
   "cell_type": "markdown",
   "id": "de8ada2c-2d95-41fc-9aaa-e263c2c1588d",
   "metadata": {},
   "source": [
    "## Excel Automation with Python"
   ]
  },
  {
   "cell_type": "markdown",
   "id": "9ee20b17-6f56-49de-957a-e84666fdd480",
   "metadata": {},
   "source": [
    "#### Agenda \n",
    "\n",
    "- Automating Excel with openpyxl\n",
    "- Automating Excel with xlwings\n",
    "- Converting VBA Code to Python Scripts\n",
    "- Creating Python-based Excel Plugins/Add-ins\n",
    "- Creating a macro-enabled Excel file using xlwings\n",
    "- Creating Custom Excel Plugins to Execute Python Scripts"
   ]
  },
  {
   "cell_type": "markdown",
   "id": "aa92edb7-719b-4d00-9b10-0f2b7750a030",
   "metadata": {},
   "source": [
    "#### Comparison between `openpyxl` and `xlwings`\n",
    "\n",
    "|    Feature                         | `openpyxl`                                   | `xlwings`                                        |\n",
    "| ---------------------------------- | -------------------------------------------- | ------------------------------------------------ |\n",
    "| **1. Excel Installation Required** |  No (pure Python)                            |  Yes (requires Excel installed)                  |\n",
    "| **2. Real-time Excel Interaction** |  File-based only                             |  Controls open Excel app (like VBA)              |\n",
    "| **3. Macro & UDF Support**         |  Cannot run macros or define UDFs            |  Can run macros and define Python-based UDFs     |\n",
    "| **4. Performance**                 |  Faster for large-scale, headless automation |  Slower due to Excel COM interface               |\n",
    "| **5. Charting & Visual Updates**   |  Supports static chart creation              |  Live chart creation, UI updates, event handling |\n",
    "\n",
    "* Use **`openpyxl`** for lightweight, cross-platform, headless tasks like report generation or formatting.\n",
    "* Use **`xlwings`** when you need **live Excel control**, **macros**, or **tight Excel-Python integration** like VBA replacements."
   ]
  },
  {
   "cell_type": "markdown",
   "id": "7d7414ce-3edc-4ccc-931a-28181db7abcd",
   "metadata": {},
   "source": [
    "### Automating Excel with openpyxl"
   ]
  },
  {
   "cell_type": "markdown",
   "id": "3ad50834-88a2-41aa-aca7-85c9901eccea",
   "metadata": {},
   "source": [
    "#### What is openpyxl?\n",
    "openpyxl is a powerful Python library that allows you to read, write, and modify Excel files (.xlsx, not .xls) without needing Microsoft Excel installed.\n",
    "\n",
    "**It's especially useful for:**\n",
    "\n",
    "- Automating reports\n",
    "- Modifying templates\n",
    "- Reading structured data\n",
    "- Applying formatting, formulas, charts, etc."
   ]
  },
  {
   "cell_type": "code",
   "execution_count": null,
   "id": "509165d0-40d1-40a7-8798-f4736c3aba1f",
   "metadata": {},
   "outputs": [],
   "source": [
    "pip install openpyxl"
   ]
  },
  {
   "cell_type": "code",
   "execution_count": 18,
   "id": "fa911519-8431-4252-8947-75bafba8af7d",
   "metadata": {},
   "outputs": [],
   "source": [
    "import os \n",
    "os.chdir(r\"C:\\Users\\vaide\\OneDrive - knowledgecorner.in\\Course Material\\Clients\\Virtua Search\\Excel Python Integration\\Files\")"
   ]
  },
  {
   "cell_type": "markdown",
   "id": "2a827ff1-18b2-47ce-b183-0d785ed130ee",
   "metadata": {},
   "source": [
    "###### Ex. Create a New Workbook"
   ]
  },
  {
   "cell_type": "code",
   "execution_count": 1,
   "id": "ff1d394b-849c-420a-80e5-971295411ae9",
   "metadata": {},
   "outputs": [],
   "source": [
    "from openpyxl import Workbook\n",
    "\n",
    "wb = Workbook()\n",
    "ws = wb.active  # Get the default sheet\n",
    "ws.title = \"MySheet\"\n",
    "\n",
    "ws['A1'] = \"Hello\"\n",
    "ws['B1'] = 123\n",
    "\n",
    "wb.save(\"myfile.xlsx\")"
   ]
  },
  {
   "cell_type": "markdown",
   "id": "dbdc4074-4bcb-4276-a702-c38e2e8b744d",
   "metadata": {},
   "source": [
    "###### Ex. Load Existing Workbook"
   ]
  },
  {
   "cell_type": "code",
   "execution_count": 2,
   "id": "eadc5b3e-a3bb-4ea3-920b-62dcf882ed10",
   "metadata": {},
   "outputs": [],
   "source": [
    "from openpyxl import load_workbook\n",
    "\n",
    "wb = load_workbook(\"myfile.xlsx\")\n",
    "ws = wb.active  # Or wb['SheetName']"
   ]
  },
  {
   "cell_type": "markdown",
   "id": "33cf3483-056b-4734-a78c-546b9d7bc369",
   "metadata": {},
   "source": [
    "###### Ex. Read/Write Cell Values"
   ]
  },
  {
   "cell_type": "code",
   "execution_count": null,
   "id": "ccef595e-ace0-48ca-bd97-61ee4f830b3c",
   "metadata": {},
   "outputs": [],
   "source": [
    "# Reading\n",
    "value = ws['A1'].value\n",
    "print(value)\n",
    "\n",
    "# Writing\n",
    "ws['A2'] = \"New Value\"\n"
   ]
  },
  {
   "cell_type": "markdown",
   "id": "6ed5229b-7ee8-49de-9a74-6e5ef81380d9",
   "metadata": {},
   "source": [
    "###### Ex. Loop Through Rows/Columns"
   ]
  },
  {
   "cell_type": "code",
   "execution_count": 5,
   "id": "5249d34f-c815-4764-976c-669073e2e497",
   "metadata": {},
   "outputs": [
    {
     "data": {
      "text/plain": [
       "2"
      ]
     },
     "execution_count": 5,
     "metadata": {},
     "output_type": "execute_result"
    }
   ],
   "source": [
    "ws.max_column"
   ]
  },
  {
   "cell_type": "code",
   "execution_count": 6,
   "id": "beb7fe08-6bcc-46b3-9165-ea70627d1d31",
   "metadata": {},
   "outputs": [
    {
     "data": {
      "text/plain": [
       "1"
      ]
     },
     "execution_count": 6,
     "metadata": {},
     "output_type": "execute_result"
    }
   ],
   "source": [
    "ws.max_row"
   ]
  },
  {
   "cell_type": "code",
   "execution_count": 4,
   "id": "3469f0b3-e648-449a-b3c2-d9ed0161b102",
   "metadata": {},
   "outputs": [
    {
     "data": {
      "text/plain": [
       "[(<Cell 'MySheet'.A1>,), (<Cell 'MySheet'.B1>,)]"
      ]
     },
     "execution_count": 4,
     "metadata": {},
     "output_type": "execute_result"
    }
   ],
   "source": [
    "list(ws.columns)"
   ]
  },
  {
   "cell_type": "code",
   "execution_count": 10,
   "id": "23b4fb4b-97ba-4b7e-8e7b-1361a844a24e",
   "metadata": {},
   "outputs": [
    {
     "data": {
      "text/plain": [
       "'Hello'"
      ]
     },
     "execution_count": 10,
     "metadata": {},
     "output_type": "execute_result"
    }
   ],
   "source": [
    "list(ws.columns)[0][0].value"
   ]
  },
  {
   "cell_type": "code",
   "execution_count": 13,
   "id": "a305a917-cfa3-4239-83fd-b0273969d9b8",
   "metadata": {},
   "outputs": [],
   "source": [
    "# Writing\n",
    "ws['A2'] = \"World\"\n",
    "ws['B2'] = \"456\""
   ]
  },
  {
   "cell_type": "code",
   "execution_count": 14,
   "id": "43253742-bfb2-4e9a-90b9-07be142b696f",
   "metadata": {},
   "outputs": [
    {
     "name": "stdout",
     "output_type": "stream",
     "text": [
      "Hello\n",
      "World\n",
      "123\n",
      "456\n"
     ]
    }
   ],
   "source": [
    "# Iterate through column and rows\n",
    "for column in ws.columns:\n",
    "    for row in column:\n",
    "        print(row.value)"
   ]
  },
  {
   "cell_type": "code",
   "execution_count": 15,
   "id": "deb3beb0-35e6-4c2b-819d-d394feff8c22",
   "metadata": {},
   "outputs": [
    {
     "name": "stdout",
     "output_type": "stream",
     "text": [
      "Hello\n",
      "123\n",
      "World\n",
      "456\n"
     ]
    }
   ],
   "source": [
    "# Iterate through rows and columns\n",
    "for row in ws.rows:\n",
    "    for col in row:\n",
    "        print(col.value)"
   ]
  },
  {
   "cell_type": "markdown",
   "id": "e32b8d2f-461b-4d5d-bb6c-1010f548fb80",
   "metadata": {},
   "source": [
    "###### Ex. Add New Sheet or Access Existing Sheet"
   ]
  },
  {
   "cell_type": "code",
   "execution_count": null,
   "id": "9bd909a0-ce58-403d-a8e3-4a1f49aca0da",
   "metadata": {},
   "outputs": [],
   "source": [
    "# Create new sheet\n",
    "ws2 = wb.create_sheet(title=\"Summary\")\n",
    "\n",
    "# Access existing\n",
    "ws_existing = wb[\"MySheet\"]\n",
    "\n",
    "wb.save(\"myfile.xlsx\")"
   ]
  },
  {
   "cell_type": "markdown",
   "id": "866c7119-ab50-44c3-8e25-85d52a0b021c",
   "metadata": {},
   "source": [
    "### Automating Excel with xlwings"
   ]
  },
  {
   "cell_type": "markdown",
   "id": "063832ba-4236-46af-a009-ed09f0905adb",
   "metadata": {},
   "source": [
    "#### What is xlwings?\n",
    "\n",
    "xlwings is a Python library that enables automated interaction with Excel using the Excel COM API. Unlike openpyxl, it requires Microsoft Excel installed and allows live interaction with open workbooks, making it great for:\n",
    "\n",
    "- Excel automation\n",
    "- User-defined functions (UDFs)\n",
    "- Integration with Excel macros\n",
    "- Interactive dashboards or calculators\n",
    "\n",
    "#### Quick tools - \n",
    "\n",
    "Here's a handy **`xlwings` Cheatsheet** for quick reference — covering the **most commonly used operations** with examples.\n",
    "\n",
    "**Open or Create Workbook**\n",
    "\n",
    "```python\n",
    "import xlwings as xw\n",
    "\n",
    "wb = xw.Book(\"file.xlsx\")      # Open existing\n",
    "wb = xw.Book()                 # New workbook\n",
    "wb.save(\"file.xlsx\")          # Save as\n",
    "wb.close()                    # Close workbook\n",
    "```\n",
    "---\n",
    "**Access Sheets**\n",
    "\n",
    "```python\n",
    "ws = wb.sheets[0]             # By index\n",
    "ws = wb.sheets['Sheet1']      # By name\n",
    "ws = wb.sheets.add(\"New\")     # Add new sheet\n",
    "ws.delete()                   # Delete sheet\n",
    "```\n",
    "\n",
    "---\n",
    "\n",
    "**Read/Write Data**\n",
    "\n",
    "```python\n",
    "ws.range(\"A1\").value = \"Hello\"             # Write single value\n",
    "value = ws.range(\"A1\").value               # Read value\n",
    "\n",
    "ws.range(\"A1:C3\").value = [[1,2,3],[4,5,6]]  # Write 2D list\n",
    "data = ws.range(\"A1\").expand().value        # Read table\n",
    "```\n",
    "\n",
    "---\n",
    "\n",
    "**Charts**\n",
    "\n",
    "```python\n",
    "chart = ws.charts.add()\n",
    "chart.chart_type = 'line'\n",
    "chart.set_source_data(ws.range(\"A1:B10\"))\n",
    "chart.api[1].ChartTitle.Text = \"Sales Trend\"\n",
    "```\n",
    "\n",
    "---\n",
    "\n",
    "**Formatting**\n",
    "\n",
    "```python\n",
    "cell = ws.range(\"A1\")\n",
    "cell.color = (255, 255, 0)              # Background color\n",
    "cell.api.Font.Bold = True              # Bold\n",
    "cell.api.Font.Color = 0xFF0000         # Red font\n",
    "cell.api.NumberFormat = \"$#,##0.00\"    # Currency format\n",
    "```\n",
    "\n",
    "---\n",
    "\n",
    "**Looping Ranges**\n",
    "\n",
    "```python\n",
    "for cell in ws.range(\"A1:A5\"):\n",
    "    print(cell.value)\n",
    "```\n",
    "\n",
    "---\n",
    "\n",
    "**Data Validation**\n",
    "\n",
    "```python\n",
    "ws.range(\"A1\").api.Validation.Add(\n",
    "    Type=3,  # List\n",
    "    Formula1=\"Option1,Option2,Option3\"\n",
    ")\n",
    "```\n",
    "\n",
    "---\n",
    "\n",
    "**Sheet & Cell Protection**\n",
    "\n",
    "```python\n",
    "ws.api.Protect(Password=\"mypassword\")\n",
    "\n",
    "cell = ws.range(\"A2\")\n",
    "cell.api.Locked = False\n",
    "cell.api.FormulaHidden = True\n",
    "```\n",
    "\n",
    "---\n",
    "\n",
    "**PasteSpecial (formats only)**\n",
    "\n",
    "```python\n",
    "ws.range(\"A1:D1\").api.Copy()\n",
    "ws.range(\"A2:D2\").api.PasteSpecial(Paste=-4122)  # Formats only\n",
    "```\n",
    "\n",
    "---\n",
    "\n",
    "**Used Range, Last Row/Col**\n",
    "\n",
    "```python\n",
    "ws.used_range.rows.count\n",
    "ws.used_range.columns.count\n",
    "\n",
    "last_row = ws.range(\"A1\").end(\"down\").row\n",
    "last_col = ws.range(\"A1\").end(\"right\").column\n",
    "```\n",
    "\n",
    "---\n",
    "\n",
    "**Tips**\n",
    "\n",
    "* `xw.Book().app.visible = False` to run Excel in background\n",
    "* `.formula` vs `.value`: to write Excel formulas like `=SUM(A1:A5)`\n",
    "* Always `save()` before closing to persist changes\n",
    "\n",
    "---"
   ]
  },
  {
   "cell_type": "code",
   "execution_count": null,
   "id": "12db68e7-5a30-4dfc-8415-4cb8c8c780aa",
   "metadata": {},
   "outputs": [],
   "source": [
    "pip install xlwings"
   ]
  },
  {
   "cell_type": "markdown",
   "id": "6f633075-54e2-45c0-a25e-68ee7cffc464",
   "metadata": {},
   "source": [
    "###### Ex. Open or Connect to Excel Workbook"
   ]
  },
  {
   "cell_type": "code",
   "execution_count": 19,
   "id": "4c11331f-3b0e-4ae1-b83c-506d40367932",
   "metadata": {},
   "outputs": [],
   "source": [
    "import xlwings as xw\n",
    "\n",
    "# Start a new instance of Excel and open a workbook\n",
    "wb = xw.Book(\"input.xlsx\")  # Opens existing file\n",
    "# wb = xw.Book()  # Opens a new workbook"
   ]
  },
  {
   "cell_type": "markdown",
   "id": "93fa5819-0a28-4563-b8ee-5003b138ac10",
   "metadata": {},
   "source": [
    "###### Ex. Access Sheets and Cells"
   ]
  },
  {
   "cell_type": "code",
   "execution_count": null,
   "id": "44c76da1-6345-46e8-9b02-713b7de8b8b6",
   "metadata": {},
   "outputs": [],
   "source": [
    "sheet = wb.sheets[\"Sheet1\"]\n",
    "\n",
    "# Read and write values\n",
    "# sheet[\"A1\"].value = \"Hello, Excel\"\n",
    "# print(sheet[\"A1\"].value)"
   ]
  },
  {
   "cell_type": "markdown",
   "id": "03f9bcd2-10cc-43b8-9c1a-cc84038328ad",
   "metadata": {},
   "source": [
    "###### Ex. Count number of rows and columns"
   ]
  },
  {
   "cell_type": "code",
   "execution_count": 20,
   "id": "1db3c8b5-bb1e-4c0b-80d3-f67f1fe99c29",
   "metadata": {},
   "outputs": [
    {
     "data": {
      "text/plain": [
       "(3, 7)"
      ]
     },
     "execution_count": 20,
     "metadata": {},
     "output_type": "execute_result"
    }
   ],
   "source": [
    "ws = xw.Book(\"input.xlsx\").sheets[0]\n",
    "rows = ws.used_range.rows.count\n",
    "cols = ws.used_range.columns.count\n",
    "rows, cols"
   ]
  },
  {
   "cell_type": "code",
   "execution_count": 21,
   "id": "59143fdc-6469-44dd-bb9b-7b731f1d431c",
   "metadata": {},
   "outputs": [
    {
     "name": "stdout",
     "output_type": "stream",
     "text": [
      "['Name', 'Age', 'Salary', 'Rating', 'Bonus', 'Tax', 'Net Salary']\n",
      "['Jane', 33.0, 50000.0, 'Good', 5000.0, 5500.0, 49500.0]\n",
      "['Jack', 45.0, 150000.0, 'Average', 10500.000000000002, 16050.0, 144450.0]\n"
     ]
    }
   ],
   "source": [
    "for i in ws.used_range.rows :\n",
    "    print(i.value)"
   ]
  },
  {
   "cell_type": "code",
   "execution_count": 22,
   "id": "423c36d1-73a1-4b3e-81c0-3ac4bfb40372",
   "metadata": {},
   "outputs": [
    {
     "name": "stdout",
     "output_type": "stream",
     "text": [
      "['Name', 'Jane', 'Jack']\n",
      "['Age', 33.0, 45.0]\n",
      "['Salary', 50000.0, 150000.0]\n",
      "['Rating', 'Good', 'Average']\n",
      "['Bonus', 5000.0, 10500.000000000002]\n",
      "['Tax', 5500.0, 16050.0]\n",
      "['Net Salary', 49500.0, 144450.0]\n"
     ]
    }
   ],
   "source": [
    "for i in ws.used_range.columns :\n",
    "    print(i.value)"
   ]
  },
  {
   "cell_type": "markdown",
   "id": "fa6e5a8a-d9c9-49f8-97c4-a21f3f1f51ca",
   "metadata": {},
   "source": [
    "###### Ex. Read/Write Ranges"
   ]
  },
  {
   "cell_type": "code",
   "execution_count": null,
   "id": "350b141e-a7c0-41af-87d1-c90a5cc18514",
   "metadata": {},
   "outputs": [],
   "source": [
    "# Writing a list to Excel\n",
    "sheet.range(\"A2:A5\").value = [\"One\", \"Two\", \"Three\", \"Four\"]\n",
    "\n",
    "# Reading back a range\n",
    "data = sheet.range(\"A2:A5\").value\n",
    "print(data)"
   ]
  },
  {
   "cell_type": "markdown",
   "id": "de82fc85-b153-4be6-883a-b390f9bfb70f",
   "metadata": {},
   "source": [
    "###### Ex. Loop and Update Multiple Cells"
   ]
  },
  {
   "cell_type": "code",
   "execution_count": null,
   "id": "50997330-fe6a-4ee4-86d4-b77eb961fcac",
   "metadata": {},
   "outputs": [],
   "source": [
    "for i in range(1, 6):\n",
    "    sheet.range(f\"B{i}\").value = i * 10"
   ]
  },
  {
   "cell_type": "markdown",
   "id": "d4654e4c-a6ad-4d7f-80e1-5009fb3ccad1",
   "metadata": {},
   "source": [
    "###### Ex. Save and Close Workbook"
   ]
  },
  {
   "cell_type": "code",
   "execution_count": null,
   "id": "fd063c8f-77b0-4aee-a650-d74da96b5dbe",
   "metadata": {},
   "outputs": [],
   "source": [
    "wb.save(\"updated_example.xlsx\")\n",
    "wb.close()"
   ]
  }
 ],
 "metadata": {
  "kernelspec": {
   "display_name": "Python 3 (ipykernel)",
   "language": "python",
   "name": "python3"
  },
  "language_info": {
   "codemirror_mode": {
    "name": "ipython",
    "version": 3
   },
   "file_extension": ".py",
   "mimetype": "text/x-python",
   "name": "python",
   "nbconvert_exporter": "python",
   "pygments_lexer": "ipython3",
   "version": "3.12.0"
  }
 },
 "nbformat": 4,
 "nbformat_minor": 5
}
