{
 "cells": [
  {
   "cell_type": "markdown",
   "id": "d14b1d16-855d-41c3-a780-3b8b46d78d6e",
   "metadata": {},
   "source": [
    "### Python Training Program\n",
    "\n",
    "- Programming Basics\n",
    "- Introduction to Python Programming\n",
    "- Python Data Types and Operators\n",
    "- Conditional Statements and Loops\n",
    "- Python Functions\n",
    "- Fundamentals of NumPy Library\n",
    "- Working With Pandas\n",
    "- Statistics Fundamentals\n",
    "- Transition from Excel VBA to Python\n",
    "- Overview of Python Libraries for Excel Automation(openpyxl, pandas)\n",
    "- Creating Python-based Excel Plugins/Add-ins\n",
    "- Advanced Excel Integration\t\n",
    "- Creating Custom Excel Plugins to Execute Python Scripts:\n",
    "- Integrating Dashboards and Advanced Visualizations with Python & Excel\n",
    "- Automating Data Fetching with APIs\t\n",
    "- Parsing and Processing JSON/XML Data: \n",
    "- Integrating API Data with Excel\n",
    "- Optical character recognition\t\n",
    "- Data Extraction from PDFs\t\n",
    "- Version Control with Git\t\n",
    "\n"
   ]
  },
  {
   "cell_type": "markdown",
   "id": "6678b456-3aaa-411d-b2e3-df1901b757a6",
   "metadata": {},
   "source": [
    "# Python Refresher - Day 1 & 2"
   ]
  },
  {
   "cell_type": "markdown",
   "id": "4ac62826-e9ca-4947-88cb-e3fab9480d6a",
   "metadata": {},
   "source": [
    "<hr>"
   ]
  },
  {
   "cell_type": "markdown",
   "id": "38dc10c9-309a-4a35-9849-335bfb89f1a3",
   "metadata": {},
   "source": [
    "### Python Interface\n",
    "\n",
    "A Python interface refers to the means through which you can interact with Python programs, libraries, or external systems. Here are a few different ways you can interface with Python:\n",
    "\n",
    "#### **1. Interactive Python Shell (REPL)**\n",
    "- **Description**: The Python Shell, also known as the Read-Eval-Print Loop (REPL), is an interactive command-line interface where you can type and execute Python commands one at a time. This is useful for quick experiments and debugging.\n",
    "- **Example**: You can start the Python Shell by simply typing `python` or `python3` in your terminal or command prompt.\n",
    "\n",
    "#### **2. Integrated Development Environments (IDEs)**\n",
    "- **Popular IDEs**: PyCharm, Visual Studio Code, Spyder, Jupyter Notebook.\n",
    "- **Description**: IDEs provide a comprehensive environment for writing, testing, and debugging Python code. They come with features like syntax highlighting, code completion, version control integration, and more.\n",
    "- **Example**: PyCharm offers an advanced interface with debugging tools, refactoring support, and integration with version control systems like Git.\n",
    "\n",
    "#### **3. Jupyter Notebooks**\n",
    "- **Description**: Jupyter Notebooks are an interactive web-based environment where you can combine code execution, text, and visualizations in a single document. This is particularly useful for data analysis, machine learning, and teaching.\n",
    "- **Example**: You can run Jupyter Notebooks by installing the Jupyter package and starting a notebook server with the command `jupyter notebook`.\n",
    "\n",
    "#### **4. Command-Line Interface (CLI)**\n",
    "- **Description**: Python scripts can be executed directly from the command line. You can write Python programs that take command-line arguments and perform tasks based on those arguments.\n",
    "- **Example**: A Python script named `myscript.py` can be run using `python myscript.py` in the terminal.\n",
    "\n",
    "#### **5. Google Colab Notebook**\n",
    "- Can be access using - https://colab.research.google.com/\n",
    "- Requires google sign-in\n",
    "\n",
    "Each of these interfaces serves different purposes and can be chosen based on the specific requirements of your project or task.\n",
    "<hr><br>\n",
    "\n",
    "### Features of Python Programming Language-\n",
    "Python is a versatile and powerful programming language that is widely used in various fields. Here are some of its key features:\n",
    "\n",
    "#### **1. Easy to Learn and Use**\n",
    "- **Readability**: Python has a clear and easy-to-read syntax which makes it accessible for beginners.\n",
    "- **Minimal Syntax**: Python code is concise and easy to write, reducing the need for complex boilerplate code.\n",
    "\n",
    "#### **2. Interpreted Language**\n",
    "- **No Compilation**: Python is an interpreted language, meaning you can run the code directly without needing to compile it first.\n",
    "- **Interactive Mode**: Python provides an interactive mode, allowing you to execute code line by line and test small snippets quickly.\n",
    "\n",
    "#### **3. High-Level Language**\n",
    "- **Abstracted Details**: Python abstracts many low-level details such as memory management, making it easier to focus on the logic of the code.\n",
    "- **Built-in Data Types**: Python includes powerful built-in data types such as lists, tuples, sets, and dictionaries.\n",
    "\n",
    "#### **4. Dynamically Typed**\n",
    "- **No Explicit Declarations**: Variable types are determined at runtime, eliminating the need for explicit type declarations.\n",
    "- **Flexibility**: This dynamic typing provides flexibility in coding and faster prototyping.\n",
    "\n",
    "#### **5. Extensive Standard Library**\n",
    "- **Wide Range of Modules**: Python's standard library includes modules for various tasks such as file I/O, system calls, web development, and data manipulation.\n",
    "- **Out-of-the-Box Functionality**: Many common programming tasks can be accomplished without the need for external libraries.\n",
    "\n",
    "#### **6. Cross-Platform Compatibility**\n",
    "- **Portable**: Python code can run on various operating systems such as Windows, macOS, and Linux without modification.\n",
    "- **Platform Independence**: Python's platform independence makes it ideal for developing cross-platform applications.\n",
    "\n",
    "#### **7. Object-Oriented Programming**\n",
    "- **Class Support**: Python supports object-oriented programming with classes and inheritance, allowing for modular and reusable code.\n",
    "- **Encapsulation and Polymorphism**: Python supports encapsulation and polymorphism, essential features for building complex applications.\n",
    "\n",
    "#### **8. Large Community and Ecosystem**\n",
    "- **Active Community**: Python has a large and active community that contributes to its continuous improvement.\n",
    "- **Rich Ecosystem**: There are numerous third-party libraries and frameworks available, such as NumPy for numerical computing, Pandas for data manipulation, Flask and Django for web development, and TensorFlow and PyTorch for machine learning.\n",
    "\n",
    "#### **9. Integration Capabilities**\n",
    "- **Interoperability**: Python can easily integrate with other languages and technologies, such as C, C++, Java, and .NET.\n",
    "- **Scripting**: It can be used as a scripting language to automate tasks and enhance the functionality of existing applications.\n",
    "\n",
    "#### **10. Strong Support for Data Science and Machine Learning**\n",
    "- **Data Analysis**: Python is extensively used in data analysis with libraries like Pandas, Matplotlib, and Seaborn.\n",
    "- **Machine Learning**: Python is a popular choice for machine learning and artificial intelligence with libraries like TensorFlow, Keras, and Scikit-Learn.\n",
    "  \n",
    "\n",
    "Python's combination of readability, flexibility, and an extensive ecosystem makes it an excellent choice for both beginners and experienced developers. Whether you're building web applications, data analysis tools, or machine learning models, Python provides the tools and features you need to succeed. \n",
    "<hr><br>\n",
    "\n",
    "### Python Data Types\n",
    "\n",
    "Python has several built-in data types that allow you to store and manipulate different kinds of data. Here are the primary data types in Python:\n",
    "\n",
    "<table style=\"width: 60%; border-collapse: collapse; border: 1px solid #ccc; text-align: center;margin-left: 0;\">\n",
    "  <thead>\n",
    "    <tr style=\"background-color: #050A30; color: white;\">\n",
    "      <th>Data Type</th>\n",
    "      <th>Description</th>\n",
    "      <th>Examples</th>\n",
    "    </tr>\n",
    "  </thead>\n",
    "  <tbody>\n",
    "    <tr>\n",
    "      <td>int</td>\n",
    "      <td>Integer numbers</td>\n",
    "      <td>42, -7</td>\n",
    "    </tr>\n",
    "    <tr>\n",
    "      <td>float</td>\n",
    "      <td>Floating-point numbers (decimal)</td>\n",
    "      <td>3.14, -0.001</td>\n",
    "    </tr>\n",
    "    <tr>\n",
    "      <td>complex</td>\n",
    "      <td>Complex numbers</td>\n",
    "      <td>1+2j, -3+4j</td>\n",
    "    </tr>\n",
    "    <tr>\n",
    "      <td>bool</td>\n",
    "      <td>Boolean values</td>\n",
    "      <td>True, False</td>\n",
    "    </tr>\n",
    "    <tr>\n",
    "      <td>str</td>\n",
    "      <td>String, a sequence of characters</td>\n",
    "      <td>\"hello\", 'world'</td>\n",
    "    </tr>\n",
    "    <tr>\n",
    "      <td>bytes</td>\n",
    "      <td>Immutable sequence of bytes</td>\n",
    "      <td>b'hello'</td>\n",
    "    </tr>\n",
    "  </tbody>\n",
    "</table>\n",
    "<hr><br>\n",
    "\n",
    "### Operators in Python\n",
    "Operators are special symbols in Python that carry out computations. The value that the operator operates on is called as operand.\n",
    "\n",
    "#### 1. Arithmetic Operators\n",
    "These operators perform arithmetic operations on numeric values.\n",
    "\n",
    "- `+` : Addition\n",
    "- `-` : Subtraction\n",
    "- `*` : Multiplication\n",
    "- `/` : Division\n",
    "- `%` : Modulus (remainder of division)\n",
    "- `**` : Exponentiation (power)\n",
    "- `//` : Floor division (division that results in the largest integer less than or equal to the quotient)\n",
    "\n",
    "#### 2. Comparison Operators\n",
    "These operators compare two values and return a boolean result (True or False).\n",
    "\n",
    "- `==` : Equal to\n",
    "- `!=` : Not equal to\n",
    "- `>` : Greater than\n",
    "- `<` : Less than\n",
    "- `>=` : Greater than or equal to\n",
    "- `<=` : Less than or equal to\n",
    "\n",
    "#### 3. Logical Operators\n",
    "These operators are used to combine conditional statements.\n",
    "\n",
    "- `and` : Returns True if both statements are true\n",
    "- `or` : Returns True if at least one of the statements is true\n",
    "- `not` : Reverses the result, returns False if the result is true\n",
    "\n",
    "#### 4. Basic Assignment Operator\n",
    "`=` : Assigns the value on the right to the variable on the left.\n",
    "\n",
    "#### Compound Assignment Operators\n",
    "These operators perform an operation on a variable and then assign the result back to that variable.\n",
    "\n",
    "- `+=` : Adds the right operand to the left operand and assigns the result to the left operand.\n",
    "- `-=` : Subtracts the right operand from the left operand and assigns the result to the left operand.\n",
    "- `*=` : Multiplies the left operand by the right operand and assigns the result to the left operand.\n",
    "- `/=` : Divides the left operand by the right operand and assigns the result to the left operand.\n",
    "- `%=` : Takes the modulus of the left operand by the right operand and assigns the result to the left operand.\n",
    "- `//=` : Performs floor division on the left operand by the right operand and assigns the result to the left operand.\n",
    "- `**=` : Raises the left operand to the power of the right operand and assigns the result to the left operand.\n",
    "\n",
    "### Membership Operators\n",
    "\n",
    "Membership operators are used to test whether a value or variable is found in a sequence (such as a string, list, tuple, set, or dictionary). There are two membership operators in Python:\n",
    "\n",
    "- `in` - The in operator checks if a value is present in a sequence.\n",
    "- `not in` - The not in operator checks if a value is not present in a sequence."
   ]
  },
  {
   "cell_type": "markdown",
   "id": "cf4fb522-2f2a-40df-aa7a-3bce32a3db94",
   "metadata": {},
   "source": [
    "#### Examples - "
   ]
  },
  {
   "cell_type": "markdown",
   "id": "8461aee5-285d-46e0-9aeb-f226297f091c",
   "metadata": {},
   "source": [
    "###### Ex. Calculate Gross Pay\n",
    "- Example 1 - WAP to accept hours and rate per hour from user and compute gross pay."
   ]
  },
  {
   "cell_type": "code",
   "execution_count": null,
   "id": "41bec3d4-cb5f-4488-8075-b9a7ff326da9",
   "metadata": {},
   "outputs": [],
   "source": []
  },
  {
   "cell_type": "markdown",
   "id": "9aecc9be-eedc-4a0e-ab47-20223a3a678e",
   "metadata": {},
   "source": [
    "###### Ex. Convert the sales value in thousands and concate k as suffix"
   ]
  },
  {
   "cell_type": "code",
   "execution_count": null,
   "id": "adc4d47f-c29b-443d-b85e-cb253f55223a",
   "metadata": {},
   "outputs": [],
   "source": []
  },
  {
   "attachments": {},
   "cell_type": "markdown",
   "id": "ba1da32e-267a-4d4a-9b21-a47b10e8fcfd",
   "metadata": {},
   "source": [
    "<hr><br>\n",
    "\n",
    "## Decision Making\n",
    "\n",
    "Decision-making statements in Python allow you to control the flow of execution based on certain conditions. These statements include if, elif, and else and can be used to execute different blocks of code depending on whether conditions are True or False.\n",
    "\n",
    "- #### Basic if Statement\n",
    "    - The if statement evaluates a condition and executes a block of code if the condition is True.\n",
    "    - Syntax:<br>\n",
    "      `if condition:`<br>\n",
    "          &emsp;&emsp;`# block of code`\n",
    "\n",
    "- #### if-else Statement\n",
    "    - The if-else statement evaluates a condition and executes one block of code if the condition is True, and another block if the condition is False.\n",
    "    - Syntax:<br>\n",
    "    `if condition:`<br>\n",
    "    &emsp;&emsp;`# block of code if condition is True`<br>\n",
    "       `else:`<br>\n",
    "    &emsp;&emsp;`# block of code if condition is False`\n",
    "- #### if-elif-else Statement\n",
    "    - The if-elif-else statement allows you to check multiple expressions for True and execute a block of code as soon as one of the conditions evaluates to True.\n",
    "    - If none of the conditions are True, the else block is executed.\n",
    "    - Syntax:<br>\n",
    "    `if condition1:`<br>\n",
    "    &emsp;&emsp;`# block of code if condition1 is True`<br>\n",
    "    `elif condition2:`<br>\n",
    "        &emsp;&emsp;`# block of code if condition2 is True`<br>\n",
    "    `elif condition3:`<br>\n",
    "        &emsp;&emsp;`# block of code if condition3 is True`<br>\n",
    "    `else:`<br>\n",
    "    &emsp;&emsp;`# block of code if none of the conditions are True`\n",
    "\n",
    "- #### Nested if Statements\n",
    "    - You can nest if statements within other if statements to check multiple conditions in a hierarchical manner.\n",
    "    - Syntax:<br>\n",
    "    `if condition1:`<br>\n",
    "    &emsp;&emsp;`# block of code if condition1 is True`<br>\n",
    "    &emsp;&emsp;`if condition2:`<br>\n",
    "        &emsp;&emsp;&emsp;&emsp;`# block of code if condition2 is True`<br>\n",
    "    &emsp;&emsp;`else condition3:`<br>\n",
    "        &emsp;&emsp;&emsp;&emsp;`# block of code if condition2 is False`<br>\n",
    "    `else:`<br>\n",
    "    &emsp;&emsp;`# block of code if condition1 is False`\n",
    "\n",
    "- #### One-Line if-else\n",
    "\n",
    "    - Syntax: <br>\n",
    "  `value_if_true if condition else value_if_false`\n"
   ]
  },
  {
   "cell_type": "markdown",
   "id": "ce965e70-bab0-493a-9061-2bd75ec3b1b5",
   "metadata": {},
   "source": [
    "#### Examples - "
   ]
  },
  {
   "cell_type": "markdown",
   "id": "2c98c466-2be1-4856-b9fd-ad9785814acf",
   "metadata": {},
   "source": [
    "###### Ex. Calculate Gross Pay\n",
    "\n",
    "- Example 2 - Compute gross pay based on a condition\n",
    "    - Take hours worked and rate per hour as input from the user.\n",
    "    - If the hours worked are 40 or less, apply the given rate.\n",
    "    - If the hours worked exceed 40, apply the given rate for the first 40 hours and 1.5 times the rate for the additional hours as overtime pay."
   ]
  },
  {
   "cell_type": "code",
   "execution_count": null,
   "id": "a7c8b7b6-b2c4-43cf-845c-9b665e97ae0e",
   "metadata": {},
   "outputs": [],
   "source": []
  },
  {
   "cell_type": "markdown",
   "id": "98e01329-8e95-48a0-ad9f-6b0ffc46b10f",
   "metadata": {},
   "source": [
    "<hr><br>\n",
    "\n",
    "## Loops/Iteration\n",
    "\n",
    "Loops are used to execute of a specific block of code in repetitively\n",
    "\n",
    "### while loop\n",
    "- The ‘while loop’ in Python is used to iterate over a block of code as long as the test expression holds true\n",
    "- Event based loop\n",
    "- Event occurring inside the loop determines the number of iterations\n",
    "- This loop is used when the number of times to iterate is not known to us beforehand\n",
    "\n",
    "\n",
    "### for loop\n",
    "- The ‘for loop’ in Python is used to iterate over the items of a sequence object like list, tuple, string and other iterable objects\n",
    "- The iteration continues until we reach the last item in the sequence object\n",
    "- Counter driven loop\n",
    "- This loop is used when the number of times to iterate is predefined\n",
    "\n",
    "#### break statement\n",
    "- The ‘break’ statement ends the loop and resumes execution at the next statement\n",
    "- The break statement can be used in both ‘while’ loop and ‘for’ loop\n",
    "- It is always used with conditional statements\n",
    "\n",
    "#### continue statement\n",
    "- The ‘continue’ statement in Python ignores all the remaining statements in the iteration of the current loop and moves the control back to the beginning of the loop\n",
    "- The continue statement can be used in both ‘while’ loop and ‘for’ loop\n",
    "- It is always used with conditional statements"
   ]
  },
  {
   "cell_type": "markdown",
   "id": "e95622ff-e1dc-4f2a-8d70-801db78abfc2",
   "metadata": {},
   "source": [
    "#### Examples - "
   ]
  },
  {
   "cell_type": "markdown",
   "id": "9df29583-78fb-4446-9990-0eccff5be2e4",
   "metadata": {},
   "source": [
    "###### Ex. WAP to print square of numbers in the given list"
   ]
  },
  {
   "cell_type": "code",
   "execution_count": null,
   "id": "9a8ebdcf-37cd-49cf-ae30-1001e02e6549",
   "metadata": {},
   "outputs": [],
   "source": []
  },
  {
   "cell_type": "markdown",
   "id": "56f3ee2b-b33c-48a1-ae5c-d2f8f044191b",
   "metadata": {},
   "source": [
    "###### Ex. WAP to perform summation and product of first 10 natural numbers"
   ]
  },
  {
   "cell_type": "code",
   "execution_count": null,
   "id": "853363cd-8712-4ffb-855c-3608e37d639b",
   "metadata": {},
   "outputs": [],
   "source": []
  },
  {
   "cell_type": "markdown",
   "id": "15fc325e-5df8-4f6d-9e6f-d0518cb4a657",
   "metadata": {},
   "source": [
    "#### Ex. Seven-up Seven-down \n",
    "\n",
    "###### Game Rules\n",
    "\n",
    "1. **Initial Setup:**\n",
    "    - The player starts with an initial amount of Rs. 1000.\n",
    "    - The balance amount from the previous game will be carried forward to the next round.\n",
    "\n",
    "2. **Game Mechanics:**\n",
    "\n",
    "    - An outcome is generated as a random number in the range of 1-17, which is displayed as \"Score\".\n",
    "    - Depending on the outcome:\n",
    "        - If the outcome is exactly 7, the player hits the jackpot and wins Rs. 1,00,000.\n",
    "        - If the outcome is less than 7, the player loses an amount equal to (outcome * 100).\n",
    "        - If the outcome is greater than 7, the player wins an amount equal to (outcome * 100).\n",
    "\n",
    "3. **Game Continuation:**\n",
    "    - After each round, the player can choose to continue playing or to \"quit\" the game.\n",
    "    - If the player hits the jackpot (outcome = 7), the game automatically stops.\n",
    "\n",
    "4. **Financial Management:**\n",
    "    - If the player's balance falls below Rs. 600 after a round, they have the option to top-up their balance by Rs. 1,000 to continue playing.\n",
    "    - If the player chooses not to top-up and their balance is insufficient to continue (less than Rs. 600), the game ends.\n",
    "\n",
    "5. **Outcome Display:**\n",
    "    - For each round, the outcome (score) and the resulting financial changes (win, lose, jackpot) are clearly displayed to the player.\n",
    "\n",
    "6. **Game Termination:**\n",
    "    - The game ends either when the player decides to quit or when they hit the jackpot (outcome = 7)."
   ]
  },
  {
   "cell_type": "code",
   "execution_count": null,
   "id": "3a862299-194d-4443-aca1-fce781f2d380",
   "metadata": {},
   "outputs": [],
   "source": []
  },
  {
   "cell_type": "markdown",
   "id": "ace2ee17-da3f-4a88-b45f-eaee7002f559",
   "metadata": {},
   "source": [
    "<hr><br>\n",
    "\n",
    "## Sequence objects or Iterables\n",
    "- collection of elements - str, range(), enumerate(), zip(), map(), filter()\n",
    "- Container sequences/Objects  - list, tuple, dict, set\n",
    "- Note -  range(), enumerate(), zip(), map(), filter() - these are generating non-readable output when printed.\n",
    "- Note - Any sequence can be converted to list/tuple\n",
    " \n",
    "#### `Operations on Generic Sequences`\n",
    "    - Membership - in | not in\n",
    "    - Iteration - for-loop`\n",
    "\n",
    "#### `Operations on Ordered/Indexed Sequences`\n",
    "    - Indexing - obj[index_pos]\n",
    "    - Slicing - obj[start : stop]\n",
    "    - Concatenation - `+` operator\n",
    "    - Repeatition - `*` operator\n",
    "\n",
    "#### `Functions on Generic Sequences`\n",
    "     - len() - gives the number of elements in the sequence\n",
    "     - max() - gives the largest element in the sequence\n",
    "     - min() - gives the smallest element in the sequence\n",
    "     - sum() - applicable to numeric sequences, returns the sum of all elements in the sequence\n",
    "     - math.prod() - applicable to numeric sequences, returns the product of all elements in the sequence\n",
    "     - sorted() - sorts the elements in the sequence in ASC order and returns a list object\n",
    "<hr><br>\n",
    "\n",
    "### Python Sequences and Containers\n",
    "   \n",
    "<table style=\"width: 100%; border-collapse: collapse; border: 1px solid #ccc; text-align: center;\">\n",
    "  <thead>\n",
    "    <tr style=\"background-color: #050A30; color: white;\">\n",
    "      <th style=\"border: 1px solid #ccc; padding: 8px;\">Object</th>\n",
    "      <th style=\"border: 1px solid #ccc; padding: 8px;\">Container Object</th>\n",
    "      <th style=\"border: 1px solid #ccc; padding: 8px;\">Sequence Type</th>\n",
    "      <th style=\"border: 1px solid #ccc; padding: 8px;\">Element Type</th>\n",
    "      <th style=\"border: 1px solid #ccc; padding: 8px;\">Enclosed in</th>\n",
    "      <th style=\"border: 1px solid #ccc; padding: 8px;\">Immutability</th>\n",
    "      <th style=\"border: 1px solid #ccc; padding: 8px;\">Duplicates</th>\n",
    "    </tr>\n",
    "  </thead>\n",
    "  <tbody>\n",
    "    <tr>\n",
    "      <td style=\"border: 1px solid #ccc; padding: 8px;\">str()</td>\n",
    "      <td style=\"border: 1px solid #ccc; padding: 8px;\">No</td>\n",
    "      <td style=\"border: 1px solid #ccc; padding: 8px;\">ordered/indexed</td>\n",
    "      <td style=\"border: 1px solid #ccc; padding: 8px;\">characters</td>\n",
    "      <td style=\"border: 1px solid #ccc; padding: 8px;\">\"\" or ''</td>\n",
    "      <td style=\"border: 1px solid #ccc; padding: 8px;\">Yes</td>\n",
    "      <td style=\"border: 1px solid #ccc; padding: 8px;\">Yes</td>\n",
    "    </tr>\n",
    "    <tr>\n",
    "      <td style=\"border: 1px solid #ccc; padding: 8px;\">tuple()</td>\n",
    "      <td style=\"border: 1px solid #ccc; padding: 8px;\">Yes</td>\n",
    "      <td style=\"border: 1px solid #ccc; padding: 8px;\">ordered/indexed</td>\n",
    "      <td style=\"border: 1px solid #ccc; padding: 8px;\">mixed data (heterogeneous)</td>\n",
    "      <td style=\"border: 1px solid #ccc; padding: 8px;\">()</td>\n",
    "      <td style=\"border: 1px solid #ccc; padding: 8px;\">Yes</td>\n",
    "      <td style=\"border: 1px solid #ccc; padding: 8px;\">Yes</td>\n",
    "    </tr>\n",
    "    <tr>\n",
    "      <td style=\"border: 1px solid #ccc; padding: 8px;\">list()</td>\n",
    "      <td style=\"border: 1px solid #ccc; padding: 8px;\">Yes</td>\n",
    "      <td style=\"border: 1px solid #ccc; padding: 8px;\">ordered/indexed</td>\n",
    "      <td style=\"border: 1px solid #ccc; padding: 8px;\">mixed data (heterogeneous)</td>\n",
    "      <td style=\"border: 1px solid #ccc; padding: 8px;\">[]</td>\n",
    "      <td style=\"border: 1px solid #ccc; padding: 8px;\">No</td>\n",
    "      <td style=\"border: 1px solid #ccc; padding: 8px;\">Yes</td>\n",
    "    </tr>\n",
    "    <tr>\n",
    "      <td style=\"border: 1px solid #ccc; padding: 8px;\">set()</td>\n",
    "      <td style=\"border: 1px solid #ccc; padding: 8px;\">Yes</td>\n",
    "      <td style=\"border: 1px solid #ccc; padding: 8px;\">unordered</td>\n",
    "      <td style=\"border: 1px solid #ccc; padding: 8px;\">heterogeneous (immutable objects)</td>\n",
    "      <td style=\"border: 1px solid #ccc; padding: 8px;\">{}</td>\n",
    "      <td style=\"border: 1px solid #ccc; padding: 8px;\">No</td>\n",
    "      <td style=\"border: 1px solid #ccc; padding: 8px;\">No</td>\n",
    "    </tr>\n",
    "    <tr>\n",
    "      <td style=\"border: 1px solid #ccc; padding: 8px;\">dict()</td>\n",
    "      <td style=\"border: 1px solid #ccc; padding: 8px;\">Yes</td>\n",
    "      <td style=\"border: 1px solid #ccc; padding: 8px;\">unordered</td>\n",
    "      <td style=\"border: 1px solid #ccc; padding: 8px;\">Key - immutable<br>Value - any type</td>\n",
    "      <td style=\"border: 1px solid #ccc; padding: 8px;\">{}</td>\n",
    "      <td style=\"border: 1px solid #ccc; padding: 8px;\">No</td>\n",
    "      <td style=\"border: 1px solid #ccc; padding: 8px;\">Key - No<br>Value - Yes</td>\n",
    "    </tr>\n"
   ]
  },
  {
   "cell_type": "markdown",
   "id": "05d045f7-76f8-497c-98ec-8db3a51820e0",
   "metadata": {},
   "source": [
    "#### Examples - "
   ]
  },
  {
   "cell_type": "markdown",
   "id": "20593cdc-efc5-4b87-b2b4-26d2e6d26fde",
   "metadata": {},
   "source": [
    "###### Ex. Vowels in a String\n",
    "WAP to extract and replace all the vowels in a string"
   ]
  },
  {
   "cell_type": "code",
   "execution_count": null,
   "id": "28a98f31-cffd-416b-b7b6-bcc642033a09",
   "metadata": {},
   "outputs": [],
   "source": []
  },
  {
   "cell_type": "markdown",
   "id": "9cb8c69b-d820-48f8-84ca-98d859d62efc",
   "metadata": {},
   "source": [
    "###### Ex. Working on currency values\n",
    "\n",
    "WAP to convert the given sales value to int. sales = ($1,200)"
   ]
  },
  {
   "cell_type": "code",
   "execution_count": null,
   "id": "c3b869cf-bcd8-40ff-9daa-9d42caa4904e",
   "metadata": {},
   "outputs": [],
   "source": []
  },
  {
   "cell_type": "markdown",
   "id": "f574d4fa-0f75-4bdf-9630-1e22c54e664f",
   "metadata": {},
   "source": [
    "###### Ex. Calculate Percentage\n",
    "Write a program to compute the percentages of 10 students from the provided list. Display the results in a tabular format showing each student's ID and percentage. The student IDs should be generated sequentially starting from 101."
   ]
  },
  {
   "cell_type": "code",
   "execution_count": null,
   "id": "60b380d0-d280-40a9-9081-7b7d4c332719",
   "metadata": {},
   "outputs": [],
   "source": [
    "marks = [(51, 67, 83), (41, 93, 36), (50, 31, 87), (94, 46, 52), (80, 61, 69), (72, 77, 40), (54, 64, 54), (84, 33, 40), (56, 56, 90), (45, 75, 61)]\n"
   ]
  },
  {
   "cell_type": "markdown",
   "id": "2d9ef43d-57f3-4c11-ac44-14b8fbf31d71",
   "metadata": {},
   "source": [
    "<hr><br>\n",
    "\n",
    "### Comprehensions in Python\n",
    "\n",
    "- A **`comprehension`** is a concise and readable way to create and manipulate collections such as lists, dictionaries, and sets.\n",
    "- Comprehensions provide a compact syntax to generate new sequences by applying an expression to each item in an existing sequence or iterable.\n",
    "- Syntax - `[<expression> for <var> in <sequence> if <condition>]`\n",
    "- The steps to work on a comprehension:\n",
    "    1. Identify the iterable or sequence.\n",
    "    2. Determine any conditions or filters.\n",
    "    3. Define the expression or operation to apply.\n",
    "    4. Specify the target mutable data structure.\n",
    "- Note - Do not work with while loop, break and continue statements"
   ]
  },
  {
   "cell_type": "markdown",
   "id": "8a49a66e-8d23-4cf3-a299-c59e2642382b",
   "metadata": {},
   "source": [
    "###### Ex. WAP to add 7% service tax to all the values in the \"sales\" list"
   ]
  },
  {
   "cell_type": "code",
   "execution_count": null,
   "id": "8dc10ad1-c9d7-48e6-b24e-4ff241b9f27d",
   "metadata": {},
   "outputs": [],
   "source": [
    "sales = [290, 500, 800, 650]"
   ]
  },
  {
   "cell_type": "markdown",
   "id": "f8aa9251-b202-4b73-badc-f8a98c9d4b23",
   "metadata": {},
   "source": [
    "###### Ex. Identify products with low stock levels."
   ]
  },
  {
   "cell_type": "code",
   "execution_count": null,
   "id": "9538f601-3807-4327-af2c-c8d457ac2b54",
   "metadata": {},
   "outputs": [],
   "source": [
    "inventory = {\"apple\": 50, \"banana\": 10, \"cherry\": 75, \"date\": 5}"
   ]
  },
  {
   "cell_type": "code",
   "execution_count": null,
   "id": "95750119-9d9d-410c-afd0-c2de81e37e43",
   "metadata": {},
   "outputs": [],
   "source": []
  },
  {
   "cell_type": "markdown",
   "id": "a498cd97-0ebd-49b3-a23c-3cbb713e6e0b",
   "metadata": {},
   "source": [
    "<hr><br>\n",
    "\n",
    "### Functions in Python\n",
    "Function arguments in Python are the inputs passed to a function to enable it to perform its intended operation.\n",
    "\n",
    "#### **Types of Function Arguments**\n",
    "\n",
    "1. **Positional Arguments**  \n",
    "   - These are the most common type.\n",
    "   - Passed in order, matching the function's parameters.\n",
    "\n",
    "2. **Default Arguments**  \n",
    "   - Predefined values are set; they are optional while calling the function.\n",
    "\n",
    "3. **Keyword Arguments**  \n",
    "   - Arguments passed with the name of the parameter explicitly.\n",
    "   - Useful for clarity and flexibility in function calls.\n",
    "\n",
    "4. **Variable-Length Arguments**\n",
    "   - **`*args` (Non-Keyword Arguments):** Allows passing a variable number of arguments as a tuple.\n",
    "     ```\n",
    "   - **`**kwargs` (Keyword Arguments):** Allows passing variable keyword arguments as a dictionary.\n",
    "\n",
    "**Key Notes**\n",
    "- **Order Matters:** Positional arguments must precede keyword arguments.\n",
    "- **Packing/Unpacking:** `*` and `**` are used to pack or unpack arguments, making functions more versatile.\n",
    "- **Default vs Non-Default:** Non-default arguments must come first when defining functions."
   ]
  },
  {
   "cell_type": "code",
   "execution_count": null,
   "id": "b3f4344a-c27c-4922-baaf-fe7b49ce2ef2",
   "metadata": {},
   "outputs": [],
   "source": []
  },
  {
   "cell_type": "code",
   "execution_count": null,
   "id": "88a3cc7b-ea36-4955-a7b1-82f632d318d4",
   "metadata": {},
   "outputs": [],
   "source": []
  },
  {
   "cell_type": "markdown",
   "id": "96ef94df-3b09-4969-b7c6-6c0a2b3cb121",
   "metadata": {},
   "source": [
    "#### Significance of `/` and `*` in function definition\n",
    "\n",
    "- **`/`** - All the arguments before `/` must be position only\n",
    "- **`*`** - All the arguments after `*` must be key-word only"
   ]
  },
  {
   "cell_type": "code",
   "execution_count": null,
   "id": "1f166f7d-4852-44d7-83c7-5664ff7cde75",
   "metadata": {},
   "outputs": [],
   "source": []
  },
  {
   "cell_type": "markdown",
   "id": "f2655f29-6385-4b41-a583-a2e0bcf4e6ef",
   "metadata": {},
   "source": [
    "#### Packing/Unpacking of Tuples - \n",
    "\n",
    "- In Python, unpacking of tuples refers to the process of assigning the individual elements of a tuple to multiple variables in a single statement.\n",
    "- This feature allows you to extract values from a tuple and assign them to distinct variables in a convenient and readable way."
   ]
  },
  {
   "cell_type": "code",
   "execution_count": null,
   "id": "ccb37ca3-a386-44c3-928a-f361a44419b1",
   "metadata": {},
   "outputs": [],
   "source": []
  },
  {
   "cell_type": "code",
   "execution_count": null,
   "id": "bf69bbb0-075f-4b62-b472-7aeb07389258",
   "metadata": {},
   "outputs": [],
   "source": []
  },
  {
   "cell_type": "markdown",
   "id": "930aa809-84d0-41cc-9cfa-900ea734217c",
   "metadata": {},
   "source": [
    "#### Function Object\n",
    "- In Python, a function object refers to the fact that functions are first-class citizens—they are treated like any other object.\n",
    "- This means: A function object is an instance of the built-in function class created when a def statement or a lambda expression is executed.\n",
    "- A function object can be:\n",
    "    - Pass it to other functions,    \n",
    "    - Assign it to variables,    \n",
    "    - Store in data structures,    \n",
    "    - Return it from another function."
   ]
  },
  {
   "cell_type": "markdown",
   "id": "cc359982-54e2-44f7-bf80-c69381ad8061",
   "metadata": {},
   "source": [
    "#### Examples -"
   ]
  },
  {
   "cell_type": "markdown",
   "id": "6d13fc22-17b0-47a7-a068-206cc102f76f",
   "metadata": {},
   "source": [
    "###### Ex. WAP to sort a list of strings as per the last character."
   ]
  },
  {
   "cell_type": "code",
   "execution_count": null,
   "id": "9aab20e7-77a7-45cf-9afb-0507af66a336",
   "metadata": {},
   "outputs": [],
   "source": [
    "names = [\"flight\", \"bike\", \"car\",  \"train\"]"
   ]
  },
  {
   "cell_type": "markdown",
   "id": "347d07c2-5d61-46de-90bc-2e092740e4f2",
   "metadata": {},
   "source": [
    "###### Ex. Write a program to sort the given dictionary by values"
   ]
  },
  {
   "cell_type": "code",
   "execution_count": null,
   "id": "69c24f24-d0b9-49c5-ae41-da13c992e9b5",
   "metadata": {},
   "outputs": [],
   "source": [
    "employee = {\"Rosie\" : 40000, \"Jane\" : 30000, \"Jack\" :50000, \"George\" : 45000}"
   ]
  },
  {
   "cell_type": "code",
   "execution_count": null,
   "id": "8fa8c855-37bd-48da-bd8b-3edf84eb9a8d",
   "metadata": {},
   "outputs": [],
   "source": []
  },
  {
   "cell_type": "markdown",
   "id": "1a78c105-909c-4c7c-8d48-cfb8d186a3fb",
   "metadata": {},
   "source": [
    "<hr><hr>"
   ]
  }
 ],
 "metadata": {
  "kernelspec": {
   "display_name": "Python 3 (ipykernel)",
   "language": "python",
   "name": "python3"
  },
  "language_info": {
   "codemirror_mode": {
    "name": "ipython",
    "version": 3
   },
   "file_extension": ".py",
   "mimetype": "text/x-python",
   "name": "python",
   "nbconvert_exporter": "python",
   "pygments_lexer": "ipython3",
   "version": "3.12.4"
  }
 },
 "nbformat": 4,
 "nbformat_minor": 5
}
