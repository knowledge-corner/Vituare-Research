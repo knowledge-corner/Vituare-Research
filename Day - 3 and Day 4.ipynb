{
 "cells": [
  {
   "cell_type": "markdown",
   "metadata": {
    "id": "xOzcD8n0SL0i"
   },
   "source": [
    "# Basics of NumPy\n",
    "- NumPy - Introduction and Installation\n",
    "- NumPy - Arrays Data Structure ( 1D, 2D, ND arrays)\n",
    "- Creating Arrays\n",
    "- NumPy - Data Types\n",
    "- Array Attributes\n",
    "- Creating Arrays – Alternative Ways\n",
    "- Sub-setting, Slicing and Indexing Arrays\n",
    "- Operations on Arrays\n",
    "- Array Manipulation\n"
   ]
  },
  {
   "cell_type": "markdown",
   "metadata": {
    "id": "LJ7zOREKSL0i"
   },
   "source": [
    "### NumPy – Introduction and Installation\n",
    "\n",
    "- NumPy stands for ‘Numeric Python’\n",
    "- Used for mathematical and scientific computations\n",
    "- NumPy array is the most widely used object of the NumPy library"
   ]
  },
  {
   "cell_type": "markdown",
   "metadata": {
    "id": "fSezra2YSL0i"
   },
   "source": [
    "#### Installing numpy\n",
    "\n",
    "!pip install numpy"
   ]
  },
  {
   "cell_type": "markdown",
   "metadata": {
    "id": "NcOwNJMxSL0j"
   },
   "source": [
    "#### Importing numpy"
   ]
  },
  {
   "cell_type": "code",
   "execution_count": 2,
   "metadata": {
    "id": "jbeQqcTmSL0j"
   },
   "outputs": [],
   "source": [
    "import numpy as np"
   ]
  },
  {
   "cell_type": "markdown",
   "metadata": {
    "id": "ROKFWY3TSL0j"
   },
   "source": [
    "### Arrays Data Structure\n",
    "\n",
    "An `Array` is combination of homogenous data objects and can be indexed across multiple dimensions\n",
    "\n",
    "#### Arrays are –\n",
    "- ordered sequence/collection of Homogenous data\n",
    "- multidimensional\n",
    "- mutable\n"
   ]
  },
  {
   "cell_type": "markdown",
   "metadata": {
    "id": "vJdSsW-BSL0j"
   },
   "source": [
    "#### Creating Arrays – From list/tuple\n",
    "\n",
    "- `np.array()` is used to create a numpy array from a list\n"
   ]
  },
  {
   "cell_type": "markdown",
   "metadata": {
    "id": "KFMx5EjWSL0j"
   },
   "source": [
    "#### Example on 1-D Array"
   ]
  },
  {
   "cell_type": "code",
   "execution_count": 3,
   "metadata": {
    "id": "oU0mEtv2SL0k"
   },
   "outputs": [
    {
     "data": {
      "text/plain": [
       "array([1, 2, 3, 4, 5])"
      ]
     },
     "execution_count": 3,
     "metadata": {},
     "output_type": "execute_result"
    }
   ],
   "source": [
    "arr = np.array([1, 2, 3, 4, 5])\n",
    "arr"
   ]
  },
  {
   "cell_type": "markdown",
   "metadata": {
    "id": "69nYrHhdSL0k"
   },
   "source": [
    "#### Example on 2-D Array"
   ]
  },
  {
   "cell_type": "code",
   "execution_count": 4,
   "metadata": {
    "id": "bFqhOlvKSL0k"
   },
   "outputs": [
    {
     "data": {
      "text/plain": [
       "array([[ 1,  2,  3,  4,  5],\n",
       "       [ 6,  7,  8,  9, 10]])"
      ]
     },
     "execution_count": 4,
     "metadata": {},
     "output_type": "execute_result"
    }
   ],
   "source": [
    "arr = np.array([[1, 2, 3, 4, 5], [6, 7, 8, 9, 10]])\n",
    "arr"
   ]
  },
  {
   "cell_type": "markdown",
   "metadata": {
    "id": "SyU2wAzwSL0o"
   },
   "source": [
    "### Array Attributes\n",
    "\n",
    "- Attributes are the features/characteristics of an object that describes the object\n",
    "\n",
    "- Some of the attributes of the numpy array are:\n",
    "    - **shape** - Array dimensions\n",
    "    - **size** - Number of array elements\n",
    "    - **dtype** - Data type of array elements\n",
    "    - **ndim** - Number of array dimensions\n",
    "    - **dtype.name** - Name of data type\n",
    "    - **astype** - Convert an array to a different type\n"
   ]
  },
  {
   "cell_type": "code",
   "execution_count": 5,
   "metadata": {
    "id": "s9MiADM0SL0p"
   },
   "outputs": [
    {
     "data": {
      "text/plain": [
       "array([[ 1,  2,  3,  4],\n",
       "       [ 5,  6,  7,  8],\n",
       "       [ 9, 10, 11, 12]])"
      ]
     },
     "execution_count": 5,
     "metadata": {},
     "output_type": "execute_result"
    }
   ],
   "source": [
    "arr = np.array([[1,2,3,4],[5,6,7,8],[9,10,11,12]])\n",
    "arr"
   ]
  },
  {
   "cell_type": "code",
   "execution_count": 6,
   "metadata": {
    "id": "tsamJYYFSL0p"
   },
   "outputs": [
    {
     "data": {
      "text/plain": [
       "(3, 4)"
      ]
     },
     "execution_count": 6,
     "metadata": {},
     "output_type": "execute_result"
    }
   ],
   "source": [
    "arr.shape"
   ]
  },
  {
   "cell_type": "code",
   "execution_count": 7,
   "metadata": {
    "id": "vCvDRDdESL0q"
   },
   "outputs": [
    {
     "data": {
      "text/plain": [
       "12"
      ]
     },
     "execution_count": 7,
     "metadata": {},
     "output_type": "execute_result"
    }
   ],
   "source": [
    "arr.size"
   ]
  },
  {
   "cell_type": "code",
   "execution_count": 8,
   "metadata": {
    "id": "jf04b9bMSL0q"
   },
   "outputs": [
    {
     "data": {
      "text/plain": [
       "2"
      ]
     },
     "execution_count": 8,
     "metadata": {},
     "output_type": "execute_result"
    }
   ],
   "source": [
    "arr.ndim"
   ]
  },
  {
   "cell_type": "code",
   "execution_count": 9,
   "metadata": {
    "id": "T39NHKUfSL0q"
   },
   "outputs": [
    {
     "data": {
      "text/plain": [
       "dtype('int64')"
      ]
     },
     "execution_count": 9,
     "metadata": {},
     "output_type": "execute_result"
    }
   ],
   "source": [
    "arr.dtype"
   ]
  },
  {
   "cell_type": "code",
   "execution_count": 10,
   "metadata": {
    "id": "2_Lpf6lISL0r"
   },
   "outputs": [
    {
     "data": {
      "text/plain": [
       "array([[ 1.,  2.,  3.,  4.],\n",
       "       [ 5.,  6.,  7.,  8.],\n",
       "       [ 9., 10., 11., 12.]])"
      ]
     },
     "execution_count": 10,
     "metadata": {},
     "output_type": "execute_result"
    }
   ],
   "source": [
    "arr.astype(float)"
   ]
  },
  {
   "cell_type": "markdown",
   "metadata": {
    "id": "JF39DOA2SL0r"
   },
   "source": [
    "### Indexing, Slicing and Boolen Indexing"
   ]
  },
  {
   "cell_type": "code",
   "execution_count": 11,
   "metadata": {
    "id": "w0wK9_kOSL0r"
   },
   "outputs": [
    {
     "data": {
      "text/plain": [
       "array([35, 18, 43, 47, 11, 18, 25, 10, 40, 32], dtype=int32)"
      ]
     },
     "execution_count": 11,
     "metadata": {},
     "output_type": "execute_result"
    }
   ],
   "source": [
    "arr = np.random.randint(5, 50, size = 10)\n",
    "arr"
   ]
  },
  {
   "cell_type": "markdown",
   "metadata": {
    "id": "yODYAc7iSL0u"
   },
   "source": [
    "#### 1-D Arrays"
   ]
  },
  {
   "cell_type": "markdown",
   "metadata": {},
   "source": [
    "**Indexing**\n",
    "\n",
    "- this concept is same for str, list, tuples, arrays"
   ]
  },
  {
   "cell_type": "code",
   "execution_count": 12,
   "metadata": {},
   "outputs": [
    {
     "data": {
      "text/plain": [
       "np.int32(35)"
      ]
     },
     "execution_count": 12,
     "metadata": {},
     "output_type": "execute_result"
    }
   ],
   "source": [
    "arr[0]  # - first element"
   ]
  },
  {
   "cell_type": "code",
   "execution_count": 14,
   "metadata": {},
   "outputs": [
    {
     "data": {
      "text/plain": [
       "np.int32(47)"
      ]
     },
     "execution_count": 14,
     "metadata": {},
     "output_type": "execute_result"
    }
   ],
   "source": [
    "arr[3]  # - fourth element"
   ]
  },
  {
   "cell_type": "code",
   "execution_count": 15,
   "metadata": {},
   "outputs": [
    {
     "data": {
      "text/plain": [
       "numpy.int32"
      ]
     },
     "execution_count": 15,
     "metadata": {},
     "output_type": "execute_result"
    }
   ],
   "source": [
    "type(arr[3])"
   ]
  },
  {
   "cell_type": "code",
   "execution_count": 16,
   "metadata": {},
   "outputs": [
    {
     "data": {
      "text/plain": [
       "int"
      ]
     },
     "execution_count": 16,
     "metadata": {},
     "output_type": "execute_result"
    }
   ],
   "source": [
    "type(32)"
   ]
  },
  {
   "cell_type": "code",
   "execution_count": 17,
   "metadata": {},
   "outputs": [
    {
     "data": {
      "text/plain": [
       "47"
      ]
     },
     "execution_count": 17,
     "metadata": {},
     "output_type": "execute_result"
    }
   ],
   "source": [
    "int(arr[3])"
   ]
  },
  {
   "cell_type": "code",
   "execution_count": 19,
   "metadata": {},
   "outputs": [
    {
     "data": {
      "text/plain": [
       "np.int32(32)"
      ]
     },
     "execution_count": 19,
     "metadata": {},
     "output_type": "execute_result"
    }
   ],
   "source": [
    "arr[-1]  # last element"
   ]
  },
  {
   "cell_type": "markdown",
   "metadata": {},
   "source": [
    "**Slicing**\n",
    "\n",
    "- this concept is same for str, list, tuples, arrays"
   ]
  },
  {
   "cell_type": "markdown",
   "metadata": {
    "id": "dAJTxG88SL0u"
   },
   "source": [
    "###### Ex. Extract first 3 elements"
   ]
  },
  {
   "cell_type": "code",
   "execution_count": 21,
   "metadata": {
    "id": "DutZE2c9SL0v"
   },
   "outputs": [
    {
     "data": {
      "text/plain": [
       "array([35, 18, 43], dtype=int32)"
      ]
     },
     "execution_count": 21,
     "metadata": {},
     "output_type": "execute_result"
    }
   ],
   "source": [
    "arr[0:3]"
   ]
  },
  {
   "cell_type": "markdown",
   "metadata": {},
   "source": [
    "###### Ex. Extract elements from postion 3 to the end if the array"
   ]
  },
  {
   "cell_type": "code",
   "execution_count": 22,
   "metadata": {},
   "outputs": [
    {
     "data": {
      "text/plain": [
       "array([47, 11, 18, 25, 10, 40, 32], dtype=int32)"
      ]
     },
     "execution_count": 22,
     "metadata": {},
     "output_type": "execute_result"
    }
   ],
   "source": [
    "arr[3 : ]  # Keep end point as empty if you want to extract till the last element"
   ]
  },
  {
   "cell_type": "markdown",
   "metadata": {
    "id": "Uhah9JyBSL0v"
   },
   "source": [
    "###### Ex. Extract last 5 elements"
   ]
  },
  {
   "cell_type": "code",
   "execution_count": 23,
   "metadata": {
    "id": "1PNWHks3SL0v"
   },
   "outputs": [
    {
     "data": {
      "text/plain": [
       "array([18, 25, 10, 40, 32], dtype=int32)"
      ]
     },
     "execution_count": 23,
     "metadata": {},
     "output_type": "execute_result"
    }
   ],
   "source": [
    "arr[-5 : ]"
   ]
  },
  {
   "cell_type": "markdown",
   "metadata": {},
   "source": [
    "**Conditional or boolean slicing/indexing - Filtering the arrays**\n",
    "- applicable only to arrays"
   ]
  },
  {
   "cell_type": "markdown",
   "metadata": {
    "id": "nGjuAzZHSL0v"
   },
   "source": [
    "###### Ex. Extract elements at index position 2, 5, 9."
   ]
  },
  {
   "cell_type": "code",
   "execution_count": 25,
   "metadata": {
    "id": "lDjyIKdJSL0v"
   },
   "outputs": [
    {
     "data": {
      "text/plain": [
       "array([32, 43, 18], dtype=int32)"
      ]
     },
     "execution_count": 25,
     "metadata": {},
     "output_type": "execute_result"
    }
   ],
   "source": [
    "arr[[9, 2, 5, ]]"
   ]
  },
  {
   "cell_type": "markdown",
   "metadata": {
    "id": "IuRLmBMNSL0w"
   },
   "source": [
    "###### Ex. Extract elements less than 20"
   ]
  },
  {
   "cell_type": "code",
   "execution_count": 27,
   "metadata": {
    "id": "VoOlfr4zSL0w"
   },
   "outputs": [
    {
     "data": {
      "text/plain": [
       "array([False,  True, False, False,  True,  True, False,  True, False,\n",
       "       False])"
      ]
     },
     "execution_count": 27,
     "metadata": {},
     "output_type": "execute_result"
    }
   ],
   "source": [
    "arr < 20  # returns a boolean array"
   ]
  },
  {
   "cell_type": "code",
   "execution_count": 29,
   "metadata": {},
   "outputs": [
    {
     "data": {
      "text/plain": [
       "array([18, 11, 18, 10], dtype=int32)"
      ]
     },
     "execution_count": 29,
     "metadata": {},
     "output_type": "execute_result"
    }
   ],
   "source": [
    "arr[arr < 20] # Extracts the values where condition is True"
   ]
  },
  {
   "cell_type": "code",
   "execution_count": 33,
   "metadata": {},
   "outputs": [
    {
     "data": {
      "text/plain": [
       "np.int64(279)"
      ]
     },
     "execution_count": 33,
     "metadata": {},
     "output_type": "execute_result"
    }
   ],
   "source": [
    "# Sum of numbers in the array\n",
    "np.sum(arr)"
   ]
  },
  {
   "cell_type": "code",
   "execution_count": 34,
   "metadata": {},
   "outputs": [
    {
     "data": {
      "text/plain": [
       "np.int64(4)"
      ]
     },
     "execution_count": 34,
     "metadata": {},
     "output_type": "execute_result"
    }
   ],
   "source": [
    "# Count the number of values greater than 20 - \n",
    "np.sum(arr < 20) # arr < 20 generate a bool array, where True - 1 and False - 0 - sum of all the True values "
   ]
  },
  {
   "cell_type": "code",
   "execution_count": 35,
   "metadata": {},
   "outputs": [
    {
     "data": {
      "text/plain": [
       "np.True_"
      ]
     },
     "execution_count": 35,
     "metadata": {},
     "output_type": "execute_result"
    }
   ],
   "source": [
    "# Are there any numbers less than 20\n",
    "np.sum(arr < 20) >= 1"
   ]
  },
  {
   "cell_type": "code",
   "execution_count": 37,
   "metadata": {},
   "outputs": [
    {
     "data": {
      "text/plain": [
       "np.True_"
      ]
     },
     "execution_count": 37,
     "metadata": {},
     "output_type": "execute_result"
    }
   ],
   "source": [
    "# Are there any numbers less than 20\n",
    "np.any(arr < 20) # checks if any 1 value in the bool array is True"
   ]
  },
  {
   "cell_type": "markdown",
   "metadata": {
    "id": "mLixUpi0SL0w"
   },
   "source": [
    "### 2-D Arrays"
   ]
  },
  {
   "cell_type": "code",
   "execution_count": 38,
   "metadata": {
    "id": "HtpgnYXSSL0w"
   },
   "outputs": [
    {
     "data": {
      "text/plain": [
       "array([[28, 19, 24, 14],\n",
       "       [28, 43, 37, 20],\n",
       "       [40, 37, 33, 17],\n",
       "       [19, 11,  5, 20],\n",
       "       [11, 11, 16, 13],\n",
       "       [11, 47,  9,  9]], dtype=int32)"
      ]
     },
     "execution_count": 38,
     "metadata": {},
     "output_type": "execute_result"
    }
   ],
   "source": [
    "arr = np.random.randint(5, 50, size = (6,4))\n",
    "arr"
   ]
  },
  {
   "cell_type": "markdown",
   "metadata": {
    "id": "m_vUEuzbSL0x"
   },
   "source": [
    "###### Ex. Extract first 3 rows"
   ]
  },
  {
   "cell_type": "code",
   "execution_count": 39,
   "metadata": {
    "id": "9fOmVOtdSL0x"
   },
   "outputs": [
    {
     "data": {
      "text/plain": [
       "array([[28, 19, 24, 14],\n",
       "       [28, 43, 37, 20],\n",
       "       [40, 37, 33, 17]], dtype=int32)"
      ]
     },
     "execution_count": 39,
     "metadata": {},
     "output_type": "execute_result"
    }
   ],
   "source": [
    "arr[0:3]"
   ]
  },
  {
   "cell_type": "markdown",
   "metadata": {
    "id": "Ea2Yy2HDSL0x"
   },
   "source": [
    "###### Ex. Extract last 2 rows"
   ]
  },
  {
   "cell_type": "code",
   "execution_count": 40,
   "metadata": {
    "id": "Xs_Cwn-ZSL0x"
   },
   "outputs": [
    {
     "data": {
      "text/plain": [
       "array([[11, 11, 16, 13],\n",
       "       [11, 47,  9,  9]], dtype=int32)"
      ]
     },
     "execution_count": 40,
     "metadata": {},
     "output_type": "execute_result"
    }
   ],
   "source": [
    "arr[-2:]"
   ]
  },
  {
   "cell_type": "markdown",
   "metadata": {
    "id": "lgo1AB3ESL0x"
   },
   "source": [
    "###### Ex. Extract second column - count wise"
   ]
  },
  {
   "cell_type": "code",
   "execution_count": 42,
   "metadata": {
    "id": "p8au-IOpSL0y"
   },
   "outputs": [
    {
     "data": {
      "text/plain": [
       "array([19, 43, 37, 11, 11, 47], dtype=int32)"
      ]
     },
     "execution_count": 42,
     "metadata": {},
     "output_type": "execute_result"
    }
   ],
   "source": [
    "arr[:, 1]  # Extracting single row or col from 2-D arrays will always return output in 1-D"
   ]
  },
  {
   "cell_type": "markdown",
   "metadata": {
    "id": "rFF5yf_VSL0y"
   },
   "source": [
    "###### Ex. Extract row 2 and 3 and column 2 and 3"
   ]
  },
  {
   "cell_type": "code",
   "execution_count": 44,
   "metadata": {
    "id": "CsnE4pTDSL0y"
   },
   "outputs": [
    {
     "data": {
      "text/plain": [
       "array([[43, 37],\n",
       "       [37, 33]], dtype=int32)"
      ]
     },
     "execution_count": 44,
     "metadata": {},
     "output_type": "execute_result"
    }
   ],
   "source": [
    "arr[1:3, 1:3]"
   ]
  },
  {
   "cell_type": "markdown",
   "metadata": {
    "id": "zKiuKqHrSL0z"
   },
   "source": [
    "###### Ex. Extract values less than 25"
   ]
  },
  {
   "cell_type": "code",
   "execution_count": 46,
   "metadata": {
    "id": "9E1oeOkISL0z"
   },
   "outputs": [
    {
     "data": {
      "text/plain": [
       "array([19, 24, 14, 20, 17, 19, 11,  5, 20, 11, 11, 16, 13, 11,  9,  9],\n",
       "      dtype=int32)"
      ]
     },
     "execution_count": 46,
     "metadata": {},
     "output_type": "execute_result"
    }
   ],
   "source": [
    "arr[arr < 25]"
   ]
  },
  {
   "cell_type": "markdown",
   "metadata": {
    "id": "sXaOomI2SL0z"
   },
   "source": [
    "###### Ex. Identify largest value. Extract values less than half of largest values"
   ]
  },
  {
   "cell_type": "code",
   "execution_count": 47,
   "metadata": {
    "id": "XXpP7USOSL01"
   },
   "outputs": [
    {
     "data": {
      "text/plain": [
       "array([19, 14, 20, 17, 19, 11,  5, 20, 11, 11, 16, 13, 11,  9,  9],\n",
       "      dtype=int32)"
      ]
     },
     "execution_count": 47,
     "metadata": {},
     "output_type": "execute_result"
    }
   ],
   "source": [
    "arr[arr < np.max(arr)/2]"
   ]
  },
  {
   "cell_type": "markdown",
   "metadata": {
    "id": "fL2XoRrBSL07"
   },
   "source": [
    "### Array Operations"
   ]
  },
  {
   "cell_type": "markdown",
   "metadata": {
    "id": "g8EECkQKSL08"
   },
   "source": [
    "#### Arithmetic operations on Arrays -\n",
    " - Addition, Substraction, Multiplication, Division, etc.\n",
    " - Operations on array and a scalar value\n",
    " - Operations between two arrays\n",
    " - Matrix Operations - Multiplication(np.dot()), Transpose(np.transpose())\n"
   ]
  },
  {
   "cell_type": "markdown",
   "metadata": {
    "id": "R4EU3ag3SL09"
   },
   "source": [
    "#### Array and Scalar"
   ]
  },
  {
   "cell_type": "code",
   "execution_count": 48,
   "metadata": {
    "id": "1iA_t7hFSL09"
   },
   "outputs": [
    {
     "data": {
      "text/plain": [
       "array([7, 6, 5, 3, 3], dtype=int32)"
      ]
     },
     "execution_count": 48,
     "metadata": {},
     "output_type": "execute_result"
    }
   ],
   "source": [
    "arr1 = np.random.randint(1,10,size = 5)\n",
    "arr1 "
   ]
  },
  {
   "cell_type": "code",
   "execution_count": 49,
   "metadata": {
    "id": "2qrteupNSL09"
   },
   "outputs": [
    {
     "data": {
      "text/plain": [
       "array([12, 11, 10,  8,  8], dtype=int32)"
      ]
     },
     "execution_count": 49,
     "metadata": {},
     "output_type": "execute_result"
    }
   ],
   "source": [
    "arr1 + 5 # Addition"
   ]
  },
  {
   "cell_type": "code",
   "execution_count": 50,
   "metadata": {
    "id": "7m2YLJDwSL09"
   },
   "outputs": [
    {
     "data": {
      "text/plain": [
       "array([ 2,  1,  0, -2, -2], dtype=int32)"
      ]
     },
     "execution_count": 50,
     "metadata": {},
     "output_type": "execute_result"
    }
   ],
   "source": [
    "arr1 - 5 # Substraction"
   ]
  },
  {
   "cell_type": "code",
   "execution_count": 51,
   "metadata": {
    "id": "WZdyCcBaSL0-"
   },
   "outputs": [
    {
     "data": {
      "text/plain": [
       "array([35, 30, 25, 15, 15], dtype=int32)"
      ]
     },
     "execution_count": 51,
     "metadata": {},
     "output_type": "execute_result"
    }
   ],
   "source": [
    "arr1 * 5 # Multiplication"
   ]
  },
  {
   "cell_type": "code",
   "execution_count": 52,
   "metadata": {
    "id": "mAY1w9a4SL0-"
   },
   "outputs": [
    {
     "data": {
      "text/plain": [
       "array([1.4, 1.2, 1. , 0.6, 0.6])"
      ]
     },
     "execution_count": 52,
     "metadata": {},
     "output_type": "execute_result"
    }
   ],
   "source": [
    "arr1 / 5 # Division"
   ]
  },
  {
   "cell_type": "code",
   "execution_count": 53,
   "metadata": {
    "id": "GpOMqLWaSL0-"
   },
   "outputs": [
    {
     "data": {
      "text/plain": [
       "array([1, 1, 1, 0, 0], dtype=int32)"
      ]
     },
     "execution_count": 53,
     "metadata": {},
     "output_type": "execute_result"
    }
   ],
   "source": [
    "arr1 // 5 # Floor Division"
   ]
  },
  {
   "cell_type": "code",
   "execution_count": 54,
   "metadata": {
    "id": "wFbDqcnxSL0-"
   },
   "outputs": [
    {
     "data": {
      "text/plain": [
       "array([2, 1, 0, 3, 3], dtype=int32)"
      ]
     },
     "execution_count": 54,
     "metadata": {},
     "output_type": "execute_result"
    }
   ],
   "source": [
    "arr1 % 5 # Modulus"
   ]
  },
  {
   "cell_type": "markdown",
   "metadata": {
    "id": "sRLJ1oBhSL0-"
   },
   "source": [
    "#### Two Arrays"
   ]
  },
  {
   "cell_type": "code",
   "execution_count": 55,
   "metadata": {
    "id": "APmPJ9P4SL0_"
   },
   "outputs": [
    {
     "data": {
      "text/plain": [
       "array([1, 5, 6, 9, 8], dtype=int32)"
      ]
     },
     "execution_count": 55,
     "metadata": {},
     "output_type": "execute_result"
    }
   ],
   "source": [
    "arr1 = np.random.randint(1,10,size = 5)\n",
    "arr1"
   ]
  },
  {
   "cell_type": "code",
   "execution_count": 56,
   "metadata": {
    "id": "lqqwcLVNSL1A"
   },
   "outputs": [
    {
     "data": {
      "text/plain": [
       "array([2, 8, 8, 4, 3], dtype=int32)"
      ]
     },
     "execution_count": 56,
     "metadata": {},
     "output_type": "execute_result"
    }
   ],
   "source": [
    "arr2 = np.random.randint(1,10,size = 5)\n",
    "arr2"
   ]
  },
  {
   "cell_type": "code",
   "execution_count": 57,
   "metadata": {
    "id": "Icrg6invSL1A"
   },
   "outputs": [
    {
     "data": {
      "text/plain": [
       "array([ 3, 13, 14, 13, 11], dtype=int32)"
      ]
     },
     "execution_count": 57,
     "metadata": {},
     "output_type": "execute_result"
    }
   ],
   "source": [
    "arr1 + arr2 # Addition"
   ]
  },
  {
   "cell_type": "code",
   "execution_count": 58,
   "metadata": {
    "id": "gCG2nLndSL1B"
   },
   "outputs": [
    {
     "data": {
      "text/plain": [
       "array([-1, -3, -2,  5,  5], dtype=int32)"
      ]
     },
     "execution_count": 58,
     "metadata": {},
     "output_type": "execute_result"
    }
   ],
   "source": [
    "arr1 - arr2 # Substraction"
   ]
  },
  {
   "cell_type": "code",
   "execution_count": 59,
   "metadata": {
    "id": "uqcUDPGjSL1C"
   },
   "outputs": [
    {
     "data": {
      "text/plain": [
       "array([ 2, 40, 48, 36, 24], dtype=int32)"
      ]
     },
     "execution_count": 59,
     "metadata": {},
     "output_type": "execute_result"
    }
   ],
   "source": [
    "arr1 * arr2 # Multiplication"
   ]
  },
  {
   "cell_type": "code",
   "execution_count": 60,
   "metadata": {
    "id": "eGRzXiMUSL1C"
   },
   "outputs": [
    {
     "data": {
      "text/plain": [
       "array([0.5       , 0.625     , 0.75      , 2.25      , 2.66666667])"
      ]
     },
     "execution_count": 60,
     "metadata": {},
     "output_type": "execute_result"
    }
   ],
   "source": [
    "arr1 / arr2 # Division"
   ]
  },
  {
   "cell_type": "code",
   "execution_count": 61,
   "metadata": {
    "id": "xv1ue7W3SL1D"
   },
   "outputs": [
    {
     "data": {
      "text/plain": [
       "array([0, 0, 0, 2, 2], dtype=int32)"
      ]
     },
     "execution_count": 61,
     "metadata": {},
     "output_type": "execute_result"
    }
   ],
   "source": [
    "arr1 // arr2 # Floor Division"
   ]
  },
  {
   "cell_type": "code",
   "execution_count": 62,
   "metadata": {
    "id": "QEVSfPoHSL1D"
   },
   "outputs": [
    {
     "data": {
      "text/plain": [
       "array([1, 5, 6, 1, 2], dtype=int32)"
      ]
     },
     "execution_count": 62,
     "metadata": {},
     "output_type": "execute_result"
    }
   ],
   "source": [
    "arr1 % arr2 # Modulus"
   ]
  },
  {
   "cell_type": "markdown",
   "metadata": {
    "id": "I7MMbiDUSL1D"
   },
   "source": [
    "#### Relational operations on Arrays -\n",
    " - ==, !=, <, >, <=, >=\n",
    " - Operations on array and a scalar value\n",
    " - Operations between two arrays"
   ]
  },
  {
   "cell_type": "markdown",
   "metadata": {
    "id": "risXX05xSL1E"
   },
   "source": [
    "#### Array and Scalar"
   ]
  },
  {
   "cell_type": "code",
   "execution_count": 63,
   "metadata": {
    "id": "RG6UknSxSL1E"
   },
   "outputs": [
    {
     "data": {
      "text/plain": [
       "array([7, 5, 4, 3, 6], dtype=int32)"
      ]
     },
     "execution_count": 63,
     "metadata": {},
     "output_type": "execute_result"
    }
   ],
   "source": [
    "arr1 = np.random.randint(1,10,size = 5)\n",
    "arr1"
   ]
  },
  {
   "cell_type": "code",
   "execution_count": 64,
   "metadata": {
    "id": "CMv1sBdxSL1E"
   },
   "outputs": [
    {
     "data": {
      "text/plain": [
       "array([False,  True, False, False, False])"
      ]
     },
     "execution_count": 64,
     "metadata": {},
     "output_type": "execute_result"
    }
   ],
   "source": [
    "arr1 == 5"
   ]
  },
  {
   "cell_type": "code",
   "execution_count": 65,
   "metadata": {
    "id": "MFce5HMESL1M"
   },
   "outputs": [
    {
     "data": {
      "text/plain": [
       "array([ True, False,  True,  True,  True])"
      ]
     },
     "execution_count": 65,
     "metadata": {},
     "output_type": "execute_result"
    }
   ],
   "source": [
    "arr1 != 5"
   ]
  },
  {
   "cell_type": "code",
   "execution_count": 66,
   "metadata": {
    "id": "r884EP-vSL1M"
   },
   "outputs": [
    {
     "data": {
      "text/plain": [
       "array([False, False,  True,  True, False])"
      ]
     },
     "execution_count": 66,
     "metadata": {},
     "output_type": "execute_result"
    }
   ],
   "source": [
    "arr1 < 5"
   ]
  },
  {
   "cell_type": "code",
   "execution_count": 67,
   "metadata": {
    "id": "zP_0B3XXSL1M"
   },
   "outputs": [
    {
     "data": {
      "text/plain": [
       "array([ True, False, False, False,  True])"
      ]
     },
     "execution_count": 67,
     "metadata": {},
     "output_type": "execute_result"
    }
   ],
   "source": [
    "arr1 > 5"
   ]
  },
  {
   "cell_type": "code",
   "execution_count": 68,
   "metadata": {
    "id": "UuR2SeMaSL1M"
   },
   "outputs": [
    {
     "data": {
      "text/plain": [
       "array([False,  True,  True,  True, False])"
      ]
     },
     "execution_count": 68,
     "metadata": {},
     "output_type": "execute_result"
    }
   ],
   "source": [
    "arr1 <= 5"
   ]
  },
  {
   "cell_type": "code",
   "execution_count": 69,
   "metadata": {
    "id": "2CCAoZQRSL1M"
   },
   "outputs": [
    {
     "data": {
      "text/plain": [
       "array([ True,  True, False, False,  True])"
      ]
     },
     "execution_count": 69,
     "metadata": {},
     "output_type": "execute_result"
    }
   ],
   "source": [
    "arr1 >= 5"
   ]
  },
  {
   "cell_type": "markdown",
   "metadata": {
    "id": "w3NB0RylSL1N"
   },
   "source": [
    "#### Two Arrays"
   ]
  },
  {
   "cell_type": "code",
   "execution_count": 70,
   "metadata": {
    "id": "er1RGQtbSL1N"
   },
   "outputs": [
    {
     "data": {
      "text/plain": [
       "array([5, 1, 8, 8, 2], dtype=int32)"
      ]
     },
     "execution_count": 70,
     "metadata": {},
     "output_type": "execute_result"
    }
   ],
   "source": [
    "arr1 = np.random.randint(1,10,size = 5)\n",
    "arr1"
   ]
  },
  {
   "cell_type": "code",
   "execution_count": 71,
   "metadata": {
    "id": "e1IoaYKPSL1N"
   },
   "outputs": [
    {
     "data": {
      "text/plain": [
       "array([6, 6, 6, 8, 4], dtype=int32)"
      ]
     },
     "execution_count": 71,
     "metadata": {},
     "output_type": "execute_result"
    }
   ],
   "source": [
    "arr2 = np.random.randint(1,10,size = 5)\n",
    "arr2"
   ]
  },
  {
   "cell_type": "code",
   "execution_count": 72,
   "metadata": {
    "id": "BxafJwk4SL1O"
   },
   "outputs": [
    {
     "data": {
      "text/plain": [
       "array([False, False, False,  True, False])"
      ]
     },
     "execution_count": 72,
     "metadata": {},
     "output_type": "execute_result"
    }
   ],
   "source": [
    "arr1 == arr2"
   ]
  },
  {
   "cell_type": "code",
   "execution_count": 73,
   "metadata": {
    "id": "tFH3rjbGSL1O"
   },
   "outputs": [
    {
     "data": {
      "text/plain": [
       "array([ True,  True,  True, False,  True])"
      ]
     },
     "execution_count": 73,
     "metadata": {},
     "output_type": "execute_result"
    }
   ],
   "source": [
    "arr1 != arr2"
   ]
  },
  {
   "cell_type": "code",
   "execution_count": 74,
   "metadata": {
    "id": "20PlGh-3SL1O"
   },
   "outputs": [
    {
     "data": {
      "text/plain": [
       "array([ True,  True, False, False,  True])"
      ]
     },
     "execution_count": 74,
     "metadata": {},
     "output_type": "execute_result"
    }
   ],
   "source": [
    "arr1 < arr2"
   ]
  },
  {
   "cell_type": "code",
   "execution_count": 75,
   "metadata": {
    "id": "w_286kkxSL1O"
   },
   "outputs": [
    {
     "data": {
      "text/plain": [
       "array([False, False,  True, False, False])"
      ]
     },
     "execution_count": 75,
     "metadata": {},
     "output_type": "execute_result"
    }
   ],
   "source": [
    "arr1 > arr2"
   ]
  },
  {
   "cell_type": "code",
   "execution_count": 76,
   "metadata": {
    "id": "GYgNtmYoSL1O"
   },
   "outputs": [
    {
     "data": {
      "text/plain": [
       "array([ True,  True, False,  True,  True])"
      ]
     },
     "execution_count": 76,
     "metadata": {},
     "output_type": "execute_result"
    }
   ],
   "source": [
    "arr1 <= arr2"
   ]
  },
  {
   "cell_type": "code",
   "execution_count": 77,
   "metadata": {
    "id": "1VHrwXl1SL1O"
   },
   "outputs": [
    {
     "data": {
      "text/plain": [
       "array([False, False,  True,  True, False])"
      ]
     },
     "execution_count": 77,
     "metadata": {},
     "output_type": "execute_result"
    }
   ],
   "source": [
    "arr1 >= arr2"
   ]
  },
  {
   "cell_type": "markdown",
   "metadata": {
    "id": "Y55RGzk3SL1P"
   },
   "source": [
    "#### Logical operations on Arrays -\n",
    " - np.logical_or()\n",
    " - np.logical_and()\n",
    " - np.logical_not()\n",
    " - np.logical_xor()"
   ]
  },
  {
   "cell_type": "code",
   "execution_count": 78,
   "metadata": {
    "id": "r6tvDGICSL1P"
   },
   "outputs": [
    {
     "data": {
      "text/plain": [
       "array([6, 6, 6, 9, 8], dtype=int32)"
      ]
     },
     "execution_count": 78,
     "metadata": {},
     "output_type": "execute_result"
    }
   ],
   "source": [
    "arr1 = np.random.randint(1,10,size = 5)\n",
    "arr1"
   ]
  },
  {
   "cell_type": "code",
   "execution_count": 79,
   "metadata": {
    "id": "8-nIMvyRSL1P"
   },
   "outputs": [
    {
     "data": {
      "text/plain": [
       "array([3, 2, 7, 3, 5], dtype=int32)"
      ]
     },
     "execution_count": 79,
     "metadata": {},
     "output_type": "execute_result"
    }
   ],
   "source": [
    "arr2 = np.random.randint(1,10,size = 5)\n",
    "arr2"
   ]
  },
  {
   "cell_type": "code",
   "execution_count": 82,
   "metadata": {
    "id": "BLIWNGK_SL1Q"
   },
   "outputs": [
    {
     "data": {
      "text/plain": [
       "array([False, False,  True, False, False])"
      ]
     },
     "execution_count": 82,
     "metadata": {},
     "output_type": "execute_result"
    }
   ],
   "source": [
    "np.logical_and(arr1 > 5, arr2 > 5)"
   ]
  },
  {
   "cell_type": "code",
   "execution_count": 83,
   "metadata": {
    "id": "K_NhIUWpSL1Q"
   },
   "outputs": [
    {
     "data": {
      "text/plain": [
       "array([ True,  True,  True,  True,  True])"
      ]
     },
     "execution_count": 83,
     "metadata": {},
     "output_type": "execute_result"
    }
   ],
   "source": [
    "np.logical_or(arr1 > 5, arr2 > 5)"
   ]
  },
  {
   "cell_type": "code",
   "execution_count": 84,
   "metadata": {
    "id": "wrdhpg4xSL1Q"
   },
   "outputs": [
    {
     "data": {
      "text/plain": [
       "array([False, False, False, False, False])"
      ]
     },
     "execution_count": 84,
     "metadata": {},
     "output_type": "execute_result"
    }
   ],
   "source": [
    "np.logical_not(arr1 > 5)"
   ]
  },
  {
   "cell_type": "code",
   "execution_count": 85,
   "metadata": {
    "id": "l7EPY8FISL1Q"
   },
   "outputs": [
    {
     "data": {
      "text/plain": [
       "array([ True,  True, False,  True,  True])"
      ]
     },
     "execution_count": 85,
     "metadata": {},
     "output_type": "execute_result"
    }
   ],
   "source": [
    "np.logical_xor(arr1 > 5, arr2 > 5)"
   ]
  },
  {
   "cell_type": "markdown",
   "metadata": {
    "id": "kAETb-iDSL1Q"
   },
   "source": [
    "#### Set Operations on Arrays\n",
    "\n",
    "Applicable to 1-D Ararys only\n",
    "\n",
    "- np.unique() - Find the unique elements of an array.\n",
    "- np.in1d() - Test whether each element of a 1-D array is also present in a second array.\n",
    "- np.intersect1d() - Find the intersection of two arrays.\n",
    "- np.setdiff1d() - Find the set difference of two arrays.\n",
    "- np.union1d() - Find the union of two arrays."
   ]
  },
  {
   "cell_type": "code",
   "execution_count": 87,
   "metadata": {
    "id": "30d56VmZSL1Q"
   },
   "outputs": [
    {
     "data": {
      "text/plain": [
       "array([8, 7, 2, 3, 7, 4, 7, 7, 3, 4], dtype=int32)"
      ]
     },
     "execution_count": 87,
     "metadata": {},
     "output_type": "execute_result"
    }
   ],
   "source": [
    "arr1 = np.random.randint(1,10,size = 10)\n",
    "arr1"
   ]
  },
  {
   "cell_type": "code",
   "execution_count": 89,
   "metadata": {
    "id": "WXBvGbEQSL1R"
   },
   "outputs": [
    {
     "data": {
      "text/plain": [
       "array([2, 3, 4, 7, 8], dtype=int32)"
      ]
     },
     "execution_count": 89,
     "metadata": {},
     "output_type": "execute_result"
    }
   ],
   "source": [
    "np.unique(arr1)"
   ]
  },
  {
   "cell_type": "code",
   "execution_count": 91,
   "metadata": {
    "id": "HmGg3OnYSL1R"
   },
   "outputs": [
    {
     "data": {
      "text/plain": [
       "(array([2, 3, 4, 7, 8], dtype=int32),\n",
       " array([2, 3, 5, 1, 0]),\n",
       " array([1, 2, 2, 4, 1]))"
      ]
     },
     "execution_count": 91,
     "metadata": {},
     "output_type": "execute_result"
    }
   ],
   "source": [
    "np.unique(arr1, return_counts=True, return_index=True)"
   ]
  },
  {
   "cell_type": "code",
   "execution_count": 92,
   "metadata": {},
   "outputs": [
    {
     "data": {
      "text/plain": [
       "array([1, 3, 6, 3, 2, 8, 4, 1, 5, 6], dtype=int32)"
      ]
     },
     "execution_count": 92,
     "metadata": {},
     "output_type": "execute_result"
    }
   ],
   "source": [
    "arr1 = np.random.randint(1,10,size = 10)\n",
    "arr1"
   ]
  },
  {
   "cell_type": "code",
   "execution_count": 93,
   "metadata": {},
   "outputs": [
    {
     "data": {
      "text/plain": [
       "array([5, 3, 3, 2, 3, 4, 5, 3, 7, 2], dtype=int32)"
      ]
     },
     "execution_count": 93,
     "metadata": {},
     "output_type": "execute_result"
    }
   ],
   "source": [
    "arr2 = np.random.randint(1,10,size = 10)\n",
    "arr2"
   ]
  },
  {
   "cell_type": "code",
   "execution_count": 94,
   "metadata": {},
   "outputs": [
    {
     "data": {
      "text/plain": [
       "array([2, 3, 4, 5], dtype=int32)"
      ]
     },
     "execution_count": 94,
     "metadata": {},
     "output_type": "execute_result"
    }
   ],
   "source": [
    "np.intersect1d(arr1, arr2) # common elements in 2 arrays"
   ]
  },
  {
   "cell_type": "code",
   "execution_count": 96,
   "metadata": {},
   "outputs": [
    {
     "data": {
      "text/plain": [
       "array([1, 2, 3, 4, 5, 6, 7, 8], dtype=int32)"
      ]
     },
     "execution_count": 96,
     "metadata": {},
     "output_type": "execute_result"
    }
   ],
   "source": [
    "np.union1d(arr1, arr2)"
   ]
  },
  {
   "cell_type": "code",
   "execution_count": 98,
   "metadata": {},
   "outputs": [
    {
     "data": {
      "text/plain": [
       "array([1, 6, 8], dtype=int32)"
      ]
     },
     "execution_count": 98,
     "metadata": {},
     "output_type": "execute_result"
    }
   ],
   "source": [
    "np.setdiff1d(arr1, arr2) # elements of only arr1 removing common"
   ]
  },
  {
   "cell_type": "code",
   "execution_count": 99,
   "metadata": {},
   "outputs": [
    {
     "name": "stderr",
     "output_type": "stream",
     "text": [
      "C:\\Users\\vaide\\AppData\\Local\\Temp\\ipykernel_18052\\2558066030.py:5: DeprecationWarning: `in1d` is deprecated. Use `np.isin` instead.\n",
      "  np.in1d(arr1, arr2)\n"
     ]
    },
    {
     "data": {
      "text/plain": [
       "array([ True, False,  True, False,  True])"
      ]
     },
     "execution_count": 99,
     "metadata": {},
     "output_type": "execute_result"
    }
   ],
   "source": [
    "arr1 = np.array([1, 2, 3, 4, 5])\n",
    "arr2 = np.array([1, 3, 5, 7, 9])\n",
    "\n",
    "# Checks if elements of array1 are present in array 2\n",
    "np.in1d(arr1, arr2)"
   ]
  },
  {
   "cell_type": "code",
   "execution_count": 100,
   "metadata": {},
   "outputs": [
    {
     "data": {
      "text/plain": [
       "array([ True, False,  True, False,  True])"
      ]
     },
     "execution_count": 100,
     "metadata": {},
     "output_type": "execute_result"
    }
   ],
   "source": [
    "np.isin(arr1, arr2)"
   ]
  },
  {
   "cell_type": "code",
   "execution_count": 101,
   "metadata": {},
   "outputs": [
    {
     "data": {
      "text/plain": [
       "{np.int64(1): np.True_,\n",
       " np.int64(2): np.False_,\n",
       " np.int64(3): np.True_,\n",
       " np.int64(4): np.False_,\n",
       " np.int64(5): np.True_}"
      ]
     },
     "execution_count": 101,
     "metadata": {},
     "output_type": "execute_result"
    }
   ],
   "source": [
    "dict(zip(arr1, np.isin(arr1, arr2)))"
   ]
  },
  {
   "cell_type": "markdown",
   "metadata": {
    "id": "GtcdxsPeSL1R"
   },
   "source": [
    "### Array Functions/Methods\n",
    "\n",
    "- np.all(), np.any()\n",
    "- arr.sum()\n",
    "- arr.min(), arr.max(), arr.argmin(), arr.agrmax()\n",
    "- np.round()\n",
    "- np.mean(), np.median(), np.average(), np.percentile()\n"
   ]
  },
  {
   "cell_type": "code",
   "execution_count": 102,
   "metadata": {
    "id": "9FVuOgKwSL1R"
   },
   "outputs": [],
   "source": [
    "arr2 = np.array([1, 3, 5, 7, 9])"
   ]
  },
  {
   "cell_type": "code",
   "execution_count": 103,
   "metadata": {
    "id": "ByeUJWTKSL1R"
   },
   "outputs": [
    {
     "data": {
      "text/plain": [
       "np.int64(9)"
      ]
     },
     "execution_count": 103,
     "metadata": {},
     "output_type": "execute_result"
    }
   ],
   "source": [
    "np.max(arr2)"
   ]
  },
  {
   "cell_type": "code",
   "execution_count": 104,
   "metadata": {
    "id": "Nylx9gcXSL1R"
   },
   "outputs": [
    {
     "data": {
      "text/plain": [
       "np.int64(9)"
      ]
     },
     "execution_count": 104,
     "metadata": {},
     "output_type": "execute_result"
    }
   ],
   "source": [
    "arr2.max()"
   ]
  },
  {
   "cell_type": "code",
   "execution_count": 107,
   "metadata": {
    "id": "nnStDwpSSL1S"
   },
   "outputs": [
    {
     "data": {
      "text/plain": [
       "np.int64(4)"
      ]
     },
     "execution_count": 107,
     "metadata": {},
     "output_type": "execute_result"
    }
   ],
   "source": [
    "arr2.argmax() # the index position of largest element"
   ]
  },
  {
   "cell_type": "markdown",
   "metadata": {
    "id": "0fMLMsHCSL1U"
   },
   "source": [
    "### Array Manipulations\n",
    "\n",
    "- **Changing Shape** – np.reshape()\n",
    "- **Adding/Removing Elements** – np.append(), np.insert(), np.delete()\n",
    "- **Splitting Arrays** – np.hsplit(), np.vsplit(), arr_obj.flatten()\n",
    "- **Sorting Arrays** - arr_obj.sort(), arr_obj.argsort()"
   ]
  },
  {
   "cell_type": "code",
   "execution_count": 109,
   "metadata": {
    "id": "W3Lx8bLQSL1V"
   },
   "outputs": [
    {
     "data": {
      "text/plain": [
       "array([ 1,  2,  3,  4,  5,  6,  7,  8,  9, 10, 11, 12])"
      ]
     },
     "execution_count": 109,
     "metadata": {},
     "output_type": "execute_result"
    }
   ],
   "source": [
    "arr = np.arange(1, 13)  # generates sequence of numbers\n",
    "arr"
   ]
  },
  {
   "cell_type": "markdown",
   "metadata": {
    "id": "76JffXiQSL1V"
   },
   "source": [
    "#### np.reshape()"
   ]
  },
  {
   "cell_type": "code",
   "execution_count": 110,
   "metadata": {
    "id": "lszpvd0QSL1V"
   },
   "outputs": [
    {
     "data": {
      "text/plain": [
       "array([[ 1,  2,  3],\n",
       "       [ 4,  5,  6],\n",
       "       [ 7,  8,  9],\n",
       "       [10, 11, 12]])"
      ]
     },
     "execution_count": 110,
     "metadata": {},
     "output_type": "execute_result"
    }
   ],
   "source": [
    "arr = np.reshape(arr, (4, 3))\n",
    "arr"
   ]
  },
  {
   "cell_type": "markdown",
   "metadata": {
    "id": "oRl19_P8SL1V"
   },
   "source": [
    "#### np.append()"
   ]
  },
  {
   "cell_type": "code",
   "execution_count": 111,
   "metadata": {
    "id": "eD-xawjvSL1V"
   },
   "outputs": [
    {
     "data": {
      "text/plain": [
       "array([ 1,  2,  3,  4,  5,  6,  7,  8,  9, 10, 11, 12, 10])"
      ]
     },
     "execution_count": 111,
     "metadata": {},
     "output_type": "execute_result"
    }
   ],
   "source": [
    "np.append(arr, 10) # Flattens the array"
   ]
  },
  {
   "cell_type": "code",
   "execution_count": 112,
   "metadata": {
    "id": "eD-xawjvSL1V"
   },
   "outputs": [
    {
     "data": {
      "text/plain": [
       "array([ 1,  2,  3,  4,  5,  6,  7,  8,  9, 10, 11, 12, 13, 14, 15])"
      ]
     },
     "execution_count": 112,
     "metadata": {},
     "output_type": "execute_result"
    }
   ],
   "source": [
    "np.append(arr, [13, 14, 15]) # Flattens the array"
   ]
  },
  {
   "cell_type": "code",
   "execution_count": 113,
   "metadata": {
    "id": "s7ZGoT0VSL1V"
   },
   "outputs": [
    {
     "data": {
      "text/plain": [
       "array([[ 1,  2,  3],\n",
       "       [ 4,  5,  6],\n",
       "       [ 7,  8,  9],\n",
       "       [10, 11, 12],\n",
       "       [13, 14, 15]])"
      ]
     },
     "execution_count": 113,
     "metadata": {},
     "output_type": "execute_result"
    }
   ],
   "source": [
    "np.append(arr, np.reshape(np.array([13, 14, 15]), (1, 3)), axis=0) # axis = 0 adds a 2-D array row-wise"
   ]
  },
  {
   "cell_type": "code",
   "execution_count": 114,
   "metadata": {
    "id": "1_cxJ-WmSL1W"
   },
   "outputs": [
    {
     "data": {
      "text/plain": [
       "array([[ 1,  2,  3, 10],\n",
       "       [ 4,  5,  6, 20],\n",
       "       [ 7,  8,  9, 30],\n",
       "       [10, 11, 12, 40]])"
      ]
     },
     "execution_count": 114,
     "metadata": {},
     "output_type": "execute_result"
    }
   ],
   "source": [
    "np.append(arr, [[10],[20],[30],[40]], axis=1) # axis = 1 adds a 2-D array column-wise"
   ]
  },
  {
   "cell_type": "markdown",
   "metadata": {
    "id": "FmxAPLupSL1W"
   },
   "source": [
    "#### np.insert()"
   ]
  },
  {
   "cell_type": "code",
   "execution_count": 116,
   "metadata": {
    "id": "-348fjyjSL1W"
   },
   "outputs": [
    {
     "data": {
      "text/plain": [
       "array([[ 1,  2,  3],\n",
       "       [ 4,  5,  6],\n",
       "       [ 7,  8,  9],\n",
       "       [10, 11, 12]])"
      ]
     },
     "execution_count": 116,
     "metadata": {},
     "output_type": "execute_result"
    }
   ],
   "source": [
    "arr = np.reshape(np.arange(1,13), (4,3))\n",
    "arr"
   ]
  },
  {
   "cell_type": "code",
   "execution_count": 117,
   "metadata": {
    "id": "7790frJvSL1X"
   },
   "outputs": [
    {
     "data": {
      "text/plain": [
       "array([ 1,  5,  2,  3,  4,  5,  6,  7,  8,  9, 10, 11, 12])"
      ]
     },
     "execution_count": 117,
     "metadata": {},
     "output_type": "execute_result"
    }
   ],
   "source": [
    "np.insert(arr, 1, 5) # Flattens the arr and inserts 5 at index 1"
   ]
  },
  {
   "cell_type": "code",
   "execution_count": 118,
   "metadata": {
    "id": "zlobpnLuSL1Z"
   },
   "outputs": [
    {
     "data": {
      "text/plain": [
       "array([[ 1,  2,  3],\n",
       "       [ 5,  5,  5],\n",
       "       [ 4,  5,  6],\n",
       "       [ 7,  8,  9],\n",
       "       [10, 11, 12]])"
      ]
     },
     "execution_count": 118,
     "metadata": {},
     "output_type": "execute_result"
    }
   ],
   "source": [
    "np.insert(arr, 1, 5, axis=0) # Inserts [5, 5, 5] as row 1"
   ]
  },
  {
   "cell_type": "code",
   "execution_count": 119,
   "metadata": {
    "id": "vu59b1XbSL1a"
   },
   "outputs": [
    {
     "data": {
      "text/plain": [
       "array([[ 1,  5,  2,  3],\n",
       "       [ 4,  5,  5,  6],\n",
       "       [ 7,  5,  8,  9],\n",
       "       [10,  5, 11, 12]])"
      ]
     },
     "execution_count": 119,
     "metadata": {},
     "output_type": "execute_result"
    }
   ],
   "source": [
    "np.insert(arr, 1, 5, axis=1) # Inserts [5, 5, 5, 5] as column 1"
   ]
  },
  {
   "cell_type": "code",
   "execution_count": 120,
   "metadata": {
    "id": "IshmcWfLSL1a"
   },
   "outputs": [
    {
     "data": {
      "text/plain": [
       "array([[ 1, 10,  2,  3],\n",
       "       [ 4, 20,  5,  6],\n",
       "       [ 7, 30,  8,  9],\n",
       "       [10, 40, 11, 12]])"
      ]
     },
     "execution_count": 120,
     "metadata": {},
     "output_type": "execute_result"
    }
   ],
   "source": [
    "np.insert(arr, 1, [10, 20, 30, 40], axis=1)"
   ]
  },
  {
   "cell_type": "code",
   "execution_count": 121,
   "metadata": {
    "id": "SjY7Zk99SL1a"
   },
   "outputs": [
    {
     "data": {
      "text/plain": [
       "array([[ 1,  2,  3],\n",
       "       [10, 20, 30],\n",
       "       [ 4,  5,  6],\n",
       "       [ 7,  8,  9],\n",
       "       [10, 11, 12]])"
      ]
     },
     "execution_count": 121,
     "metadata": {},
     "output_type": "execute_result"
    }
   ],
   "source": [
    "np.insert(arr, 1, [10, 20, 30], axis=0)"
   ]
  },
  {
   "cell_type": "markdown",
   "metadata": {
    "id": "Rkb1mtVlSL1a"
   },
   "source": [
    "#### np.delete()"
   ]
  },
  {
   "cell_type": "code",
   "execution_count": 122,
   "metadata": {
    "id": "1LshS_7-SL1a"
   },
   "outputs": [
    {
     "data": {
      "text/plain": [
       "array([[ 1,  2,  3],\n",
       "       [ 4,  5,  6],\n",
       "       [ 7,  8,  9],\n",
       "       [10, 11, 12]])"
      ]
     },
     "execution_count": 122,
     "metadata": {},
     "output_type": "execute_result"
    }
   ],
   "source": [
    "arr = np.reshape(np.arange(1,13), (4,3))\n",
    "arr"
   ]
  },
  {
   "cell_type": "code",
   "execution_count": 123,
   "metadata": {
    "id": "2npy2ILdSL1b"
   },
   "outputs": [
    {
     "data": {
      "text/plain": [
       "array([ 1,  3,  4,  5,  6,  7,  8,  9, 10, 11, 12])"
      ]
     },
     "execution_count": 123,
     "metadata": {},
     "output_type": "execute_result"
    }
   ],
   "source": [
    "np.delete(arr, 1) # Flattens the arr and deletes element at index 1"
   ]
  },
  {
   "cell_type": "code",
   "execution_count": 125,
   "metadata": {
    "id": "lzZICc76SL1b"
   },
   "outputs": [
    {
     "data": {
      "text/plain": [
       "array([[ 1,  2,  3],\n",
       "       [ 7,  8,  9],\n",
       "       [10, 11, 12]])"
      ]
     },
     "execution_count": 125,
     "metadata": {},
     "output_type": "execute_result"
    }
   ],
   "source": [
    "np.delete(arr, 1, axis=0) # deletes row 1"
   ]
  },
  {
   "cell_type": "code",
   "execution_count": 126,
   "metadata": {
    "id": "7gzPkIY2SL1b"
   },
   "outputs": [
    {
     "data": {
      "text/plain": [
       "array([[ 1,  3],\n",
       "       [ 4,  6],\n",
       "       [ 7,  9],\n",
       "       [10, 12]])"
      ]
     },
     "execution_count": 126,
     "metadata": {},
     "output_type": "execute_result"
    }
   ],
   "source": [
    "np.delete(arr, 1, axis=1) # deletes column 1"
   ]
  },
  {
   "cell_type": "code",
   "execution_count": 127,
   "metadata": {
    "id": "QSKdbkWWSL1c"
   },
   "outputs": [
    {
     "data": {
      "text/plain": [
       "array([[ 4,  5,  6],\n",
       "       [10, 11, 12]])"
      ]
     },
     "execution_count": 127,
     "metadata": {},
     "output_type": "execute_result"
    }
   ],
   "source": [
    "np.delete(arr,[0,2], axis=0) # deletes selected rows"
   ]
  },
  {
   "cell_type": "code",
   "execution_count": 128,
   "metadata": {
    "id": "Br8pH50ZSL1c"
   },
   "outputs": [
    {
     "data": {
      "text/plain": [
       "array([[ 2],\n",
       "       [ 5],\n",
       "       [ 8],\n",
       "       [11]])"
      ]
     },
     "execution_count": 128,
     "metadata": {},
     "output_type": "execute_result"
    }
   ],
   "source": [
    "np.delete(arr,[0,2], axis=1) # deletes selected columns"
   ]
  },
  {
   "cell_type": "markdown",
   "metadata": {},
   "source": [
    "##### Note - All the 3 functions generate a new array"
   ]
  },
  {
   "cell_type": "markdown",
   "metadata": {
    "id": "qKuII5G5SL1d"
   },
   "source": [
    "#### np.hsplit(), np.vsplit()"
   ]
  },
  {
   "cell_type": "code",
   "execution_count": 129,
   "metadata": {
    "id": "G9Vgyyu4SL1d"
   },
   "outputs": [
    {
     "data": {
      "text/plain": [
       "array([[ 1,  2,  3,  4],\n",
       "       [ 5,  6,  7,  8],\n",
       "       [ 9, 10, 11, 12],\n",
       "       [13, 14, 15, 16],\n",
       "       [17, 18, 19, 20],\n",
       "       [21, 22, 23, 24]])"
      ]
     },
     "execution_count": 129,
     "metadata": {},
     "output_type": "execute_result"
    }
   ],
   "source": [
    "arr = np.reshape(np.arange(1, 25), (6,4))\n",
    "arr"
   ]
  },
  {
   "cell_type": "code",
   "execution_count": 130,
   "metadata": {
    "id": "D0aZdlUYSL1d"
   },
   "outputs": [
    {
     "data": {
      "text/plain": [
       "[array([[ 1,  2,  3,  4],\n",
       "        [ 5,  6,  7,  8],\n",
       "        [ 9, 10, 11, 12]]),\n",
       " array([[13, 14, 15, 16],\n",
       "        [17, 18, 19, 20],\n",
       "        [21, 22, 23, 24]])]"
      ]
     },
     "execution_count": 130,
     "metadata": {},
     "output_type": "execute_result"
    }
   ],
   "source": [
    "np.vsplit(arr, 2)"
   ]
  },
  {
   "cell_type": "code",
   "execution_count": 131,
   "metadata": {
    "id": "o85kXgOySL1d"
   },
   "outputs": [
    {
     "data": {
      "text/plain": [
       "[array([[ 1,  2],\n",
       "        [ 5,  6],\n",
       "        [ 9, 10],\n",
       "        [13, 14],\n",
       "        [17, 18],\n",
       "        [21, 22]]),\n",
       " array([[ 3,  4],\n",
       "        [ 7,  8],\n",
       "        [11, 12],\n",
       "        [15, 16],\n",
       "        [19, 20],\n",
       "        [23, 24]])]"
      ]
     },
     "execution_count": 131,
     "metadata": {},
     "output_type": "execute_result"
    }
   ],
   "source": [
    "np.hsplit(arr, 2)"
   ]
  },
  {
   "cell_type": "markdown",
   "metadata": {
    "id": "HUuAK26fSL1d"
   },
   "source": [
    "#### flatten()"
   ]
  },
  {
   "cell_type": "code",
   "execution_count": 132,
   "metadata": {
    "id": "pZOR76k6SL1e"
   },
   "outputs": [
    {
     "data": {
      "text/plain": [
       "array([[ 1,  2,  3,  4],\n",
       "       [ 5,  6,  7,  8],\n",
       "       [ 9, 10, 11, 12],\n",
       "       [13, 14, 15, 16],\n",
       "       [17, 18, 19, 20],\n",
       "       [21, 22, 23, 24]])"
      ]
     },
     "execution_count": 132,
     "metadata": {},
     "output_type": "execute_result"
    }
   ],
   "source": [
    "arr"
   ]
  },
  {
   "cell_type": "code",
   "execution_count": 134,
   "metadata": {},
   "outputs": [
    {
     "data": {
      "text/plain": [
       "array([ 1,  2,  3,  4,  5,  6,  7,  8,  9, 10, 11, 12, 13, 14, 15, 16, 17,\n",
       "       18, 19, 20, 21, 22, 23, 24])"
      ]
     },
     "execution_count": 134,
     "metadata": {},
     "output_type": "execute_result"
    }
   ],
   "source": [
    "arr.flatten()"
   ]
  },
  {
   "cell_type": "code",
   "execution_count": 133,
   "metadata": {
    "id": "agJMSAfnSL1e"
   },
   "outputs": [
    {
     "data": {
      "text/plain": [
       "array([ 1,  5,  9, 13, 17, 21,  2,  6, 10, 14, 18, 22,  3,  7, 11, 15, 19,\n",
       "       23,  4,  8, 12, 16, 20, 24])"
      ]
     },
     "execution_count": 133,
     "metadata": {},
     "output_type": "execute_result"
    }
   ],
   "source": [
    "arr.flatten(order = \"F\") # returns a 1-D array"
   ]
  },
  {
   "cell_type": "code",
   "execution_count": null,
   "metadata": {
    "id": "TCVZAK-hSL1e"
   },
   "outputs": [],
   "source": [
    "help(arr.flatten)"
   ]
  },
  {
   "cell_type": "markdown",
   "metadata": {
    "id": "DluS4kgaSL1U"
   },
   "source": [
    "#### Sorting Arrays"
   ]
  },
  {
   "cell_type": "code",
   "execution_count": 146,
   "metadata": {},
   "outputs": [
    {
     "data": {
      "text/plain": [
       "array([100, 200, 300, 400])"
      ]
     },
     "execution_count": 146,
     "metadata": {},
     "output_type": "execute_result"
    }
   ],
   "source": [
    "products = np.array([\"p1\", \"p2\", \"p3\", \"p4\"])\n",
    "prices = np.array([200, 400, 300, 100])\n",
    "\n",
    "np.sort(prices) # Generates a new array"
   ]
  },
  {
   "cell_type": "code",
   "execution_count": 138,
   "metadata": {},
   "outputs": [
    {
     "data": {
      "text/plain": [
       "array([400, 300, 200, 100])"
      ]
     },
     "execution_count": 138,
     "metadata": {},
     "output_type": "execute_result"
    }
   ],
   "source": [
    "np.sort(prices)[::-1]  # DESC Sort"
   ]
  },
  {
   "cell_type": "code",
   "execution_count": 149,
   "metadata": {},
   "outputs": [
    {
     "data": {
      "text/plain": [
       "array([3, 0, 2, 1])"
      ]
     },
     "execution_count": 149,
     "metadata": {},
     "output_type": "execute_result"
    }
   ],
   "source": [
    "np.argsort(prices)  # returns the index position of the elements in sorted order of values"
   ]
  },
  {
   "cell_type": "code",
   "execution_count": 147,
   "metadata": {},
   "outputs": [
    {
     "data": {
      "text/plain": [
       "array([100, 200, 300, 400])"
      ]
     },
     "execution_count": 147,
     "metadata": {},
     "output_type": "execute_result"
    }
   ],
   "source": [
    "prices[np.argsort(prices)]"
   ]
  },
  {
   "cell_type": "code",
   "execution_count": 150,
   "metadata": {},
   "outputs": [
    {
     "data": {
      "text/plain": [
       "array(['p4', 'p1', 'p3', 'p2'], dtype='<U2')"
      ]
     },
     "execution_count": 150,
     "metadata": {},
     "output_type": "execute_result"
    }
   ],
   "source": [
    "products[np.argsort(prices)] # Sort the products by prices"
   ]
  },
  {
   "cell_type": "markdown",
   "metadata": {
    "id": "6hnOmvBUSL02"
   },
   "source": [
    "### Examples on Coffee Shop Data Set"
   ]
  },
  {
   "cell_type": "code",
   "execution_count": 14,
   "metadata": {
    "id": "6iL0ny6ZSL04"
   },
   "outputs": [],
   "source": [
    "import numpy as np\n",
    "products = np.array(['Caffe Latte', 'Cappuccino', 'Colombian', 'Darjeeling', 'Decaf Irish Cream', 'Earl Grey', 'Green Tea', 'Lemon', 'Mint', 'Regular Espresso'])\n",
    "sales = np.array([52248.0, 14068.0, 71060.0, 60014.0, 69925.0, 27711.0, 19231.0, 24873.0, 32825.0, 44109.0])\n",
    "profits = np.array([17444.0, 5041.0, 28390.0, 20459.0, 23432.0, 7691.0, -2954.0, 7159.0, 10722.0, 14902.0])\n",
    "target_profits = np.array([15934.0, 4924.0, 31814.0, 19649.0, 24934.0, 8461.0, 7090.0, 7084.0, 10135.0, 16306.0])\n",
    "target_sales = np.array([48909.0, 13070.0, 80916.0, 57368.0, 66906.0, 30402.0, 18212.0, 21628.0, 27336.0, 42102.0])"
   ]
  },
  {
   "cell_type": "markdown",
   "metadata": {
    "id": "j1h8L0jJSL05"
   },
   "source": [
    "###### Ex. How many products are there in the dataset?"
   ]
  },
  {
   "cell_type": "code",
   "execution_count": 152,
   "metadata": {
    "id": "98ihS30uSL05"
   },
   "outputs": [
    {
     "data": {
      "text/plain": [
       "10"
      ]
     },
     "execution_count": 152,
     "metadata": {},
     "output_type": "execute_result"
    }
   ],
   "source": [
    "len(products)"
   ]
  },
  {
   "cell_type": "code",
   "execution_count": 153,
   "metadata": {},
   "outputs": [
    {
     "data": {
      "text/plain": [
       "10"
      ]
     },
     "execution_count": 153,
     "metadata": {},
     "output_type": "execute_result"
    }
   ],
   "source": [
    "products.size"
   ]
  },
  {
   "cell_type": "markdown",
   "metadata": {},
   "source": [
    "###### Ex. Which product had the highest sales?"
   ]
  },
  {
   "cell_type": "code",
   "execution_count": 156,
   "metadata": {},
   "outputs": [
    {
     "data": {
      "text/plain": [
       "np.str_('Colombian')"
      ]
     },
     "execution_count": 156,
     "metadata": {},
     "output_type": "execute_result"
    }
   ],
   "source": [
    "products[np.argmax(sales)]  # String object using indexing"
   ]
  },
  {
   "cell_type": "code",
   "execution_count": 157,
   "metadata": {},
   "outputs": [
    {
     "data": {
      "text/plain": [
       "array(['Colombian'], dtype='<U17')"
      ]
     },
     "execution_count": 157,
     "metadata": {},
     "output_type": "execute_result"
    }
   ],
   "source": [
    "products[np.max(sales) == sales]  # array object - using filtering/boolean slicing"
   ]
  },
  {
   "cell_type": "markdown",
   "metadata": {
    "id": "cTpzhm0HSL07"
   },
   "source": [
    "###### Ex. Which products were in loss?"
   ]
  },
  {
   "cell_type": "code",
   "execution_count": 158,
   "metadata": {
    "id": "bOtCGXSOSL05"
   },
   "outputs": [
    {
     "data": {
      "text/plain": [
       "array(['Green Tea'], dtype='<U17')"
      ]
     },
     "execution_count": 158,
     "metadata": {},
     "output_type": "execute_result"
    }
   ],
   "source": [
    "products[profits < 0]"
   ]
  },
  {
   "cell_type": "markdown",
   "metadata": {},
   "source": [
    "###### Ex. Which products had profit margins (profit/sales) greater than 30%?"
   ]
  },
  {
   "cell_type": "code",
   "execution_count": 162,
   "metadata": {},
   "outputs": [
    {
     "data": {
      "text/plain": [
       "array(['Caffe Latte', 'Cappuccino', 'Colombian', 'Darjeeling',\n",
       "       'Decaf Irish Cream', 'Mint', 'Regular Espresso'], dtype='<U17')"
      ]
     },
     "execution_count": 162,
     "metadata": {},
     "output_type": "execute_result"
    }
   ],
   "source": [
    "products[profits/sales > 0.30]"
   ]
  },
  {
   "cell_type": "markdown",
   "metadata": {},
   "source": [
    "###### Ex. Find products with low sales but high profits (sales < median, profit > median)"
   ]
  },
  {
   "cell_type": "code",
   "execution_count": 163,
   "metadata": {},
   "outputs": [
    {
     "data": {
      "text/plain": [
       "array([14068., 19231., 24873., 27711., 32825., 44109., 52248., 60014.,\n",
       "       69925., 71060.])"
      ]
     },
     "execution_count": 163,
     "metadata": {},
     "output_type": "execute_result"
    }
   ],
   "source": [
    "np.sort(sales)"
   ]
  },
  {
   "cell_type": "code",
   "execution_count": 164,
   "metadata": {},
   "outputs": [
    {
     "data": {
      "text/plain": [
       "38467.0"
      ]
     },
     "execution_count": 164,
     "metadata": {},
     "output_type": "execute_result"
    }
   ],
   "source": [
    "(32825 + 44109)/2"
   ]
  },
  {
   "cell_type": "code",
   "execution_count": 165,
   "metadata": {},
   "outputs": [
    {
     "data": {
      "text/plain": [
       "np.float64(38467.0)"
      ]
     },
     "execution_count": 165,
     "metadata": {},
     "output_type": "execute_result"
    }
   ],
   "source": [
    "np.median(sales)  # Central value - 50% of products have sales abover 38k and 50% have below 38k"
   ]
  },
  {
   "cell_type": "code",
   "execution_count": 166,
   "metadata": {},
   "outputs": [
    {
     "data": {
      "text/plain": [
       "array([False,  True, False, False, False,  True,  True,  True,  True,\n",
       "       False])"
      ]
     },
     "execution_count": 166,
     "metadata": {},
     "output_type": "execute_result"
    }
   ],
   "source": [
    "sales < np.median(sales) "
   ]
  },
  {
   "cell_type": "code",
   "execution_count": 167,
   "metadata": {},
   "outputs": [
    {
     "data": {
      "text/plain": [
       "array([ True, False,  True,  True,  True, False, False, False, False,\n",
       "        True])"
      ]
     },
     "execution_count": 167,
     "metadata": {},
     "output_type": "execute_result"
    }
   ],
   "source": [
    "profits > np.median(profits)"
   ]
  },
  {
   "cell_type": "code",
   "execution_count": 168,
   "metadata": {},
   "outputs": [
    {
     "data": {
      "text/plain": [
       "array([False, False, False, False, False, False, False, False, False,\n",
       "       False])"
      ]
     },
     "execution_count": 168,
     "metadata": {},
     "output_type": "execute_result"
    }
   ],
   "source": [
    "np.logical_and((sales < np.median(sales)), (profits > np.median(profits)))"
   ]
  },
  {
   "cell_type": "code",
   "execution_count": 169,
   "metadata": {},
   "outputs": [
    {
     "data": {
      "text/plain": [
       "array([], dtype='<U17')"
      ]
     },
     "execution_count": 169,
     "metadata": {},
     "output_type": "execute_result"
    }
   ],
   "source": [
    "products[np.logical_and((sales < np.median(sales)), (profits > np.median(profits)))]"
   ]
  },
  {
   "cell_type": "markdown",
   "metadata": {
    "id": "UW9madYjSL05"
   },
   "source": [
    "###### Ex. Generate new values of Sales after applying 18% Tax"
   ]
  },
  {
   "cell_type": "code",
   "execution_count": 170,
   "metadata": {
    "id": "it6cc5HqSL07"
   },
   "outputs": [
    {
     "data": {
      "text/plain": [
       "array([61652.64, 16600.24, 83850.8 , 70816.52, 82511.5 , 32698.98,\n",
       "       22692.58, 29350.14, 38733.5 , 52048.62])"
      ]
     },
     "execution_count": 170,
     "metadata": {},
     "output_type": "execute_result"
    }
   ],
   "source": [
    "sales * 1.18"
   ]
  },
  {
   "cell_type": "markdown",
   "metadata": {},
   "source": [
    "###### Ex. Top 3 most profitable products?"
   ]
  },
  {
   "cell_type": "code",
   "execution_count": 173,
   "metadata": {},
   "outputs": [
    {
     "data": {
      "text/plain": [
       "array(['Colombian', 'Decaf Irish Cream', 'Darjeeling'], dtype='<U17')"
      ]
     },
     "execution_count": 173,
     "metadata": {},
     "output_type": "execute_result"
    }
   ],
   "source": [
    "products[np.argsort(profits)[::-1]][0:3]"
   ]
  },
  {
   "cell_type": "markdown",
   "metadata": {},
   "source": [
    "###### Ex. Which products exceeded their sales targets?"
   ]
  },
  {
   "cell_type": "code",
   "execution_count": 174,
   "metadata": {},
   "outputs": [
    {
     "data": {
      "text/plain": [
       "array(['Caffe Latte', 'Cappuccino', 'Darjeeling', 'Decaf Irish Cream',\n",
       "       'Green Tea', 'Lemon', 'Mint', 'Regular Espresso'], dtype='<U17')"
      ]
     },
     "execution_count": 174,
     "metadata": {},
     "output_type": "execute_result"
    }
   ],
   "source": [
    "products[sales > target_sales]"
   ]
  },
  {
   "cell_type": "markdown",
   "metadata": {},
   "source": [
    "###### Ex. How many products met or exceeded profit targets?"
   ]
  },
  {
   "cell_type": "code",
   "execution_count": 176,
   "metadata": {},
   "outputs": [
    {
     "data": {
      "text/plain": [
       "5"
      ]
     },
     "execution_count": 176,
     "metadata": {},
     "output_type": "execute_result"
    }
   ],
   "source": [
    "products[profits >= target_profits].size"
   ]
  },
  {
   "cell_type": "code",
   "execution_count": 178,
   "metadata": {},
   "outputs": [
    {
     "data": {
      "text/plain": [
       "np.int64(5)"
      ]
     },
     "execution_count": 178,
     "metadata": {},
     "output_type": "execute_result"
    }
   ],
   "source": [
    "np.sum(profits >= target_profits)"
   ]
  },
  {
   "cell_type": "markdown",
   "metadata": {},
   "source": [
    "###### Ex. Check if all sales achievers also achieveing their profit targets? - Yes/No. If No then display the names of the products which are not achieveing profits.\n",
    "HINT - use if-else"
   ]
  },
  {
   "cell_type": "code",
   "execution_count": 181,
   "metadata": {},
   "outputs": [
    {
     "name": "stdout",
     "output_type": "stream",
     "text": [
      "No. ['Decaf Irish Cream' 'Green Tea' 'Regular Espresso']\n"
     ]
    }
   ],
   "source": [
    "sales_ach = products[sales > target_sales]\n",
    "profit_ach = products[profits >= target_profits]\n",
    "if np.all(np.isin(sales_ach, profit_ach)) :\n",
    "    print(\"Yes\")\n",
    "else:\n",
    "    print(\"No.\", np.setdiff1d(sales_ach, profit_ach))"
   ]
  },
  {
   "cell_type": "markdown",
   "metadata": {},
   "source": [
    "###### Ex. What is the average sales target achievement rate?"
   ]
  },
  {
   "cell_type": "code",
   "execution_count": 182,
   "metadata": {},
   "outputs": [
    {
     "data": {
      "text/plain": [
       "np.float64(1.0480011291864888)"
      ]
     },
     "execution_count": 182,
     "metadata": {},
     "output_type": "execute_result"
    }
   ],
   "source": [
    "np.mean(sales/target_sales)"
   ]
  },
  {
   "attachments": {},
   "cell_type": "markdown",
   "metadata": {
    "id": "iaFBp_9SSL1e"
   },
   "source": [
    "###### Ex. Find Products Falling Short of Profit Targets and Sort by Achievement Percentage\n",
    "1. Filter products that did not meet their profit targets\n",
    "2. Calculate the percentage of target profit achieved for each\n",
    "3. Display these products in descending order based on their achievement percentage"
   ]
  },
  {
   "cell_type": "code",
   "execution_count": 183,
   "metadata": {
    "id": "mFBOih7USL1e"
   },
   "outputs": [],
   "source": [
    "off_products = products[target_profits > profits]\n",
    "off_profits = profits[target_profits > profits]\n",
    "off_targets = target_profits[target_profits > profits]"
   ]
  },
  {
   "cell_type": "code",
   "execution_count": 186,
   "metadata": {},
   "outputs": [
    {
     "data": {
      "text/plain": [
       "array([ 89.24,  93.98,  90.9 , -41.66,  91.39])"
      ]
     },
     "execution_count": 186,
     "metadata": {},
     "output_type": "execute_result"
    }
   ],
   "source": [
    "percentage = np.round(off_profits / off_targets * 100, 2)\n",
    "percentage"
   ]
  },
  {
   "cell_type": "code",
   "execution_count": 188,
   "metadata": {},
   "outputs": [
    {
     "data": {
      "text/plain": [
       "array([89.24, 93.98, 90.9 ,  0.  , 91.39])"
      ]
     },
     "execution_count": 188,
     "metadata": {},
     "output_type": "execute_result"
    }
   ],
   "source": [
    "# replace negative values with 0\n",
    "percentage[percentage < 0 ] = 0\n",
    "percentage"
   ]
  },
  {
   "cell_type": "code",
   "execution_count": 189,
   "metadata": {},
   "outputs": [
    {
     "name": "stdout",
     "output_type": "stream",
     "text": [
      "Colombian is achieveing 89.24 % of its total profits.\n",
      "Decaf Irish Cream is achieveing 93.98 % of its total profits.\n",
      "Earl Grey is achieveing 90.9 % of its total profits.\n",
      "Green Tea is achieveing 0.0 % of its total profits.\n",
      "Regular Espresso is achieveing 91.39 % of its total profits.\n"
     ]
    }
   ],
   "source": [
    "for prod, perct in zip(off_products, percentage):\n",
    "    print(f\"{prod} is achieveing {perct} % of its total profits.\")"
   ]
  },
  {
   "cell_type": "markdown",
   "metadata": {},
   "source": [
    "## Data Visualisation\n",
    "\n",
    "Libraries - \n",
    "\n",
    "1. matplotlib.pyplot - base\n",
    "2. pandas - plot()\n",
    "3. seaborn\n",
    "4. plotly"
   ]
  },
  {
   "cell_type": "code",
   "execution_count": 1,
   "metadata": {},
   "outputs": [],
   "source": [
    "import matplotlib.pyplot as plt\n",
    "import numpy as np"
   ]
  },
  {
   "cell_type": "code",
   "execution_count": 2,
   "metadata": {},
   "outputs": [],
   "source": [
    "products = np.array(['Caffe Latte', 'Cappuccino', 'Colombian', 'Darjeeling', 'Decaf Irish Cream', 'Earl Grey', 'Green Tea', 'Lemon', 'Mint', 'Regular Espresso'])\n",
    "sales = np.array([52248.0, 14068.0, 71060.0, 60014.0, 69925.0, 27711.0, 19231.0, 24873.0, 32825.0, 44109.0])\n",
    "profits = np.array([17444.0, 5041.0, 28390.0, 20459.0, 23432.0, 7691.0, -2954.0, 7159.0, 10722.0, 14902.0])"
   ]
  },
  {
   "cell_type": "markdown",
   "metadata": {},
   "source": [
    "**Bar Chart**"
   ]
  },
  {
   "cell_type": "code",
   "execution_count": 6,
   "metadata": {},
   "outputs": [
    {
     "data": {
      "image/png": "[encoded data removed]",
      "text/plain": [
       "<Figure size 1200x300 with 1 Axes>"
      ]
     },
     "metadata": {},
     "output_type": "display_data"
    }
   ],
   "source": [
    "plt.figure(figsize = (12, 3))\n",
    "sort_order = np.argsort(sales)[::-1]\n",
    "plt.bar(products[sort_order], sales[sort_order], color = [\"teal\", \"cyan\", \"orange\", \"blue\", \"lightcoral\"], width=0.6, edgecolor = \"black\", label = \"Sales\")\n",
    "\n",
    "plt.title(\"Sales across Products\", color = \"darkslategrey\", loc = \"left\", size = \"small\")\n",
    "\n",
    "plt.xticks(color = \"darkslategrey\", size = \"x-small\") #, rotation = 20)\n",
    "\n",
    "y_ticks = np.arange(0, np.max(sales) + 10000, 10000)\n",
    "y_labels = (y_ticks // 1000).astype(int).astype(str) + \"K\"\n",
    "plt.yticks(y_ticks, y_labels, color = \"darkslategrey\", size = \"x-small\")\n",
    "\n",
    "plt.grid(axis = \"y\", alpha = 0.4)\n",
    "plt.legend()\n",
    "\n",
    "for x, y in zip(products, sales) :\n",
    "    plt.annotate(f\"{round(y//1000, 1)}k\", xy = (x, y+2000), ha = \"center\", size = \"small\")\n",
    "\n",
    "plt.show()"
   ]
  },
  {
   "cell_type": "markdown",
   "metadata": {},
   "source": [
    "#### Homework - \n",
    "\n",
    "1. Sort the bars in ASC/DESC order of Sales\n",
    "2. Apply different color to each bar"
   ]
  },
  {
   "cell_type": "markdown",
   "metadata": {},
   "source": [
    "**Side-by-Side Bar Chart**"
   ]
  },
  {
   "cell_type": "code",
   "execution_count": 13,
   "metadata": {},
   "outputs": [
    {
     "data": {
      "image/png": "[encoded data removed]",
      "text/plain": [
       "<Figure size 1200x300 with 1 Axes>"
      ]
     },
     "metadata": {},
     "output_type": "display_data"
    }
   ],
   "source": [
    "plt.figure(figsize = (12, 3))\n",
    "plt.bar(products, sales, color = \"teal\", width=-0.4, edgecolor = \"black\", label = \"Sales\", align = \"edge\")\n",
    "plt.bar(products, profits, color = \"cyan\", width=0.4, edgecolor = \"black\", label = \"Profits\", align = \"edge\")\n",
    "\n",
    "plt.title(\"Sales and Profits across Products\", color = \"darkslategrey\", loc = \"left\", size = \"small\")\n",
    "\n",
    "plt.xticks(color = \"darkslategrey\", size = \"x-small\") #, rotation = 20)\n",
    "\n",
    "y_ticks = np.arange(0, np.max(sales) + 10000, 10000)\n",
    "y_labels = (y_ticks // 1000).astype(int).astype(str) + \"K\"\n",
    "plt.yticks(y_ticks, y_labels, color = \"darkslategrey\", size = \"x-small\")\n",
    "\n",
    "plt.grid(axis = \"y\", alpha = 0.4)\n",
    "plt.legend()\n",
    "\n",
    "plt.show()"
   ]
  },
  {
   "cell_type": "markdown",
   "metadata": {},
   "source": [
    "**Bullet Chart**"
   ]
  },
  {
   "cell_type": "code",
   "execution_count": 33,
   "metadata": {},
   "outputs": [
    {
     "data": {
      "image/png": "[encoded data removed]",
      "text/plain": [
       "<Figure size 400x400 with 1 Axes>"
      ]
     },
     "metadata": {},
     "output_type": "display_data"
    }
   ],
   "source": [
    "plt.figure(figsize = (4, 4))\n",
    "colors_list = np.where(profits >= target_profits, \"lightgreen\", \"lightcoral\")\n",
    "plt.barh(products, profits, color = colors_list, edgecolor = \"black\", height = 0.5)\n",
    "plt.plot(target_profits, products, ls = \"\", marker = '|', color = \"red\", markersize  = 15)\n",
    "\n",
    "plt.xticks(color = \"darkslategrey\", size = \"x-small\")\n",
    "plt.yticks(color = \"darkslategrey\", size = \"x-small\")\n",
    "\n",
    "plt.show()"
   ]
  },
  {
   "cell_type": "code",
   "execution_count": 40,
   "metadata": {},
   "outputs": [
    {
     "data": {
      "image/png": "[encoded data removed]",
      "text/plain": [
       "<Figure size 400x400 with 1 Axes>"
      ]
     },
     "metadata": {},
     "output_type": "display_data"
    }
   ],
   "source": [
    "plt.figure(figsize = (4, 4))\n",
    "\n",
    "ratio = profits/target_profits\n",
    "condition_list = [ratio >= 1, ratio >= 0.9]\n",
    "results_list = [\"lightgreen\", \"orange\"]\n",
    "\n",
    "colors_list = np.select(condition_list, results_list, default=\"lightcoral\")\n",
    "\n",
    "plt.barh(products, profits, color = colors_list, edgecolor = \"black\", height = 0.5)\n",
    "\n",
    "plt.plot(target_profits, products, ls = \"\", marker = '|', color = \"red\", markersize  = 15)\n",
    "\n",
    "plt.xticks(color = \"darkslategrey\", size = \"x-small\")\n",
    "plt.yticks(color = \"darkslategrey\", size = \"x-small\")\n",
    "\n",
    "plt.show()"
   ]
  },
  {
   "cell_type": "markdown",
   "metadata": {},
   "source": [
    "**np.where(`condition`, `True Part`, `False Part`)**"
   ]
  },
  {
   "cell_type": "code",
   "execution_count": 32,
   "metadata": {},
   "outputs": [
    {
     "data": {
      "text/plain": [
       "array(['lightgreen', 'lightgreen', 'lightcoral', 'lightgreen',\n",
       "       'lightcoral', 'lightcoral', 'lightcoral', 'lightgreen',\n",
       "       'lightgreen', 'lightcoral'], dtype='<U10')"
      ]
     },
     "execution_count": 32,
     "metadata": {},
     "output_type": "execute_result"
    }
   ],
   "source": [
    "np.where(profits >= target_profits, \"lightgreen\", \"lightcoral\")"
   ]
  },
  {
   "cell_type": "markdown",
   "metadata": {},
   "source": [
    "**np.select(`conditions_list`, `results_list`, `default=0`)**"
   ]
  },
  {
   "cell_type": "code",
   "execution_count": 39,
   "metadata": {},
   "outputs": [
    {
     "data": {
      "text/plain": [
       "array(['lightgreen', 'lightgreen', 'lightcoral', 'lightgreen', 'orange',\n",
       "       'orange', 'lightcoral', 'lightgreen', 'lightgreen', 'orange'],\n",
       "      dtype='<U10')"
      ]
     },
     "execution_count": 39,
     "metadata": {},
     "output_type": "execute_result"
    }
   ],
   "source": [
    "ratio = profits/target_profits\n",
    "condition_list = [ratio >= 1, ratio >= 0.9]\n",
    "results_list = [\"lightgreen\", \"orange\"]\n",
    "np.select(condition_list, results_list, default=\"lightcoral\")"
   ]
  },
  {
   "cell_type": "markdown",
   "metadata": {},
   "source": [
    "**Line Chart**"
   ]
  },
  {
   "cell_type": "code",
   "execution_count": null,
   "metadata": {},
   "outputs": [],
   "source": [
    "date = np.arange('2020-01', '2025-01', dtype='datetime64[M]')\n",
    "sales = np.random.randint(10000, 50000, 60)"
   ]
  },
  {
   "cell_type": "code",
   "execution_count": 97,
   "metadata": {},
   "outputs": [
    {
     "data": {
      "image/png": "[encoded data removed]",
      "text/plain": [
       "<Figure size 1500x200 with 1 Axes>"
      ]
     },
     "metadata": {},
     "output_type": "display_data"
    }
   ],
   "source": [
    "plt.figure(figsize = (15, 2))\n",
    "plt.plot(date, sales, label = \"Sales\", color = \"grey\", marker = \"o\", ms = 3)\n",
    "\n",
    "max_index = sales.argmax()\n",
    "min_index = sales.argmin()\n",
    "\n",
    "# plt.scatter(date[[max_index, min_index]], sales[[max_index, min_index]], color = \"red\", s = 80)\n",
    "plt.scatter(date[max_index], sales[max_index], color = \"green\", s = 80, label = \"Max\")\n",
    "plt.scatter(date[min_index], sales[min_index], color = \"red\", s = 80, label = \"Min\")\n",
    "plt.annotate(f\"High\", xy = (date[max_index], sales[max_index]+5000), ha = \"center\")\n",
    "plt.annotate(f\"Low\", xy = (date[min_index], sales[min_index]-8000), ha = \"center\")\n",
    "\n",
    "avg_sales = np.mean(sales)\n",
    "plt.axhline(avg_sales, color = \"teal\", label = \"Avg Sales\", ls = \"--\")\n",
    "plt.fill_between(date, sales[max_index], sales[min_index], color = \"skyblue\")\n",
    "\n",
    "plt.title(\"Sales over months and years\", color = \"darkslategrey\", loc = \"left\", size = \"small\")\n",
    "\n",
    "plt.xticks(color = \"darkslategrey\", size = \"x-small\") #, rotation = 20)\n",
    "\n",
    "y_ticks = np.arange(0, np.max(sales) + 20000, 10000)\n",
    "y_labels = (y_ticks // 1000).astype(int).astype(str) + \"K\"\n",
    "plt.yticks(y_ticks, y_labels, color = \"darkslategrey\", size = \"x-small\")\n",
    "\n",
    "plt.grid(axis = \"y\", alpha = 0.4)\n",
    "plt.legend(labelcolor = \"darkslategrey\", fontsize = \"x-small\")\n",
    "\n",
    "plt.show()"
   ]
  },
  {
   "cell_type": "code",
   "execution_count": 127,
   "metadata": {},
   "outputs": [
    {
     "data": {
      "text/plain": [
       "<matplotlib.collections.PathCollection at 0x1358a7c6690>"
      ]
     },
     "execution_count": 127,
     "metadata": {},
     "output_type": "execute_result"
    },
    {
     "data": {
      "image/png": "[encoded data removed]",
      "text/plain": [
       "<Figure size 1500x200 with 1 Axes>"
      ]
     },
     "metadata": {},
     "output_type": "display_data"
    }
   ],
   "source": [
    "negative_index = np.diff(sales) < 0\n",
    "positive_index = np.diff(sales) > 0\n",
    "\n",
    "plt.figure(figsize = (15, 2))\n",
    "plt.plot(date, sales)\n",
    "plt.scatter(date[1:][negative_index], sales[1:][negative_index], color = \"red\", marker = \"v\")\n",
    "plt.scatter(date[1:][positive_index], sales[1:][positive_index], color = \"green\", marker = \"^\")"
   ]
  },
  {
   "cell_type": "code",
   "execution_count": 121,
   "metadata": {},
   "outputs": [
    {
     "data": {
      "image/png": "[encoded data removed]",
      "text/plain": [
       "<Figure size 1500x200 with 1 Axes>"
      ]
     },
     "metadata": {},
     "output_type": "display_data"
    }
   ],
   "source": [
    "plt.figure(figsize = (15, 2))\n",
    "plt.plot(date, sales)\n",
    "plt.scatter(date[1:], sales[1:], color = np.where(np.diff(sales) < 0, \"red\", \"green\"))\n",
    "plt.show()"
   ]
  },
  {
   "cell_type": "code",
   "execution_count": 112,
   "metadata": {},
   "outputs": [
    {
     "data": {
      "text/plain": [
       "array(['2020-02', '2020-03', '2020-05', '2020-08', '2020-09', '2020-11',\n",
       "       '2021-01', '2021-04', '2021-05', '2021-07', '2021-09', '2022-01',\n",
       "       '2022-02', '2022-06', '2022-08', '2022-11', '2023-01', '2023-03',\n",
       "       '2023-05', '2023-08', '2023-10', '2023-11', '2023-12', '2024-04',\n",
       "       '2024-05', '2024-07', '2024-10', '2024-12'], dtype='datetime64[M]')"
      ]
     },
     "execution_count": 112,
     "metadata": {},
     "output_type": "execute_result"
    }
   ],
   "source": [
    "date[1:][negative_index]"
   ]
  },
  {
   "cell_type": "code",
   "execution_count": null,
   "metadata": {},
   "outputs": [],
   "source": []
  },
  {
   "cell_type": "markdown",
   "metadata": {},
   "source": [
    "**Scatter Bar Chart**"
   ]
  },
  {
   "cell_type": "code",
   "execution_count": 269,
   "metadata": {},
   "outputs": [],
   "source": [
    "sales = [13745, 19507, 17320, 15987, 11560, 11560, 10581, 18662, 16011, 17081, 10206, 19699, 18324, 12123, 11818, 11834, 13042, 15248, 14319, 12912, 16119, 11395, 12921, 13664, 14561, 17852, 11997, 15142, 15924, 10465, 16075, 11705, 10651, 19489, 19656, 18084, 13046, 10977, 16842, 14402, 11220, 14952, 10344, 19093, 12588, 16625, 13117, 15201, 15467, 11849, 19696, 17751, 19395, 18948, 15979, 19219, 10885, 11960, 10452, 13253, 13887, 12713, 18287, 13568, 12809, 15427, 11409, 18022, 10746, 19869, 17722, 11987, 10055, 18155, 17069, 17290, 17713, 10740, 13585, 11159, 18631, 16233, 13309, 10636, 13110, 13252, 17296, 16376, 18872, 14722, 11196, 17132, 17608, 15613, 17710, 14938, 15227, 14275, 10254, 11079, 10314, 16364, 13144, 15086, 19076, 12493, 14104, 17556, 12288, 10770, 12898, 11612, 19297, 18081, 16334, 18715, 18037, 11866, 18926, 15393, 18074, 18961, 13180, 11101, 12279, 14271, 18180, 18607, 10070, 15107, 14174, 12221, 11199, 13376, 19429, 13232, 15188, 17030, 13636, 19718, 19624, 12518, 14972, 13009, 12848, 10369, 16096, 15027, 10515, 12786, 19083, 12396, 11449, 14895, 19857, 12421, 16721, 17616, 12376, 17282, 13678, 16323, 16335, 15358, 10903, 18353, 13208, 11865, 10408, 15909, 16776, 10166, 15121, 12265, 16452, 11744, 16909, 13867, 19367, 11375, 13411, 11135, 19247, 18773, 12579, 16600, 18172, 15552, 15297, 12419, 10931, 18972, 19004, 16331, 13390, 13492, 17260, 18971, 18871, 17799, 16420, 10841, 11616, 18986, 16064, 10092, 11015, 16635, 10051, 11608, 15487, 16919, 16520, 12243, 17122, 12372, 13254, 17465, 16496, 18492, 16576, 15683, 10937, 13677, 12652, 12440, 19730, 13931, 18920, 16311, 17948, 15026, 15769, 14925, 11952, 17225, 12808, 10243, 16455, 11771, 19405, 19539, 19149, 13702, 10155, 19283, 14282, 19667, 19636, 18530, 12944, 13851, 18511, 13169, 11695, 15568, 19362, 16960, 15701, 10972, 16150, 19901, 11401, 15183, 18774, 17408, 16970, 17025, 13595, 12936, 18094, 18101, 18671, 19132, 15113, 15015, 17983, 16500, 17020, 17958, 18900, 13380, 13756, 10940, 15783, 10359, 14656, 15426, 12865, 15908, 10305, 10373, 18226, 13602, 11271, 15222, 17700, 12158, 16229, 10853, 10517, 15314, 15406, 16374, 17261, 19759, 15163, 13230, 17952, 12708, 14390, 10785, 10254, 19626, 18360, 16960, 14090, 11733, 11564, 12502, 15492, 17146, 16602, 12799, 19549, 17379, 15544, 16117, 14196, 12477, 13560, 17578, 10144, 11161, 10460, 10407, 18555, 17037, 14742, 10978, 14916, 14735, 11732, 14339, 13985, 16159, 16351, 10453, 13746, 16259, 15031, 18565, 16587, 11629, 10706, 16424, 10265, 15858, 19402, 15755, 13882, 16433, 14583, 15456, 19415, 13861, 19612, 19054, 11958, 10694, 11008, 10182, 10944, 16830, 10712, 13190, 18449, 10233, 18145, 12819, 11182, 16967, 16289, 18775, 17351, 18035, 12820, 11774, 17506, 18068, 19905, 14126, 13720, 17764, 13408, 19308, 18584, 14290, 17509, 17545, 11031, 19026, 15053, 18265, 13200, 18955, 13892, 10108, 19054, 10913, 13193, 19501, 19506, 15734, 16318, 14484, 12932, 13287, 16725, 17524, 17916, 17896, 10912, 14944, 10576, 15495, 14415, 18877, 13509, 11171, 11430, 17615, 16182, 11011, 10841, 17010, 10728, 18219, 17062, 10813, 10848, 19866, 13743, 13706, 18128, 19472, 19860, 17534, 13763, 10835, 17771, 15584, 14242, 19064, 11112, 14926, 10114, 14687, 10563, 11188, 11175, 16492, 17460, 15834, 19622, 13749, 12857, 18686, 12236, 19632, 10122, 19699, 10432, 18911, 15277, 19930, 10738, 15539, 19693, 15231, 16294, 16957, 14545, 16276, 15843, 19012, 10454, 12810, 19504, 18903, 14557, 16201, 12774, 11881, 14637, 13534, 15837, 10777, 19744, 19862, 16982, 15361, 13095, 18138, 16847, 11626, 19109, 18225, 19498, 17257, 16134, 14182, 19327, 18661, 10452, 10264, 13765, 18106, 19873, 11504, 15941, 13809, 19699, 18421, 18383, 14687, 14148, 12734, 10564, 18647, 18129, 19997, 19966, 15554, 17690, 19448, 18496, 12473, 14505, 11292, 19541, 16062, 12286, 16717, 16181, 13582, 11136, 16716, 15203, 17723, 15202, 18522, 15519, 15609, 18767, 14035, 11340, 10288, 17551, 16203, 17041, 12130, 11364, 10145, 13506, 15899, 13922, 14375, 19042, 13483, 15140, 17837, 13965, 16221, 18624, 19495, 11471, 19266, 14921, 12582, 14591, 19800, 14926, 13288, 16334, 12401, 10759, 11289, 11280, 11519, 11388, 16409, 11819, 13457, 18968, 14740, 16676, 11723, 11923, 10409, 11689, 12786, 11770, 10887, 11206, 14608, 12063, 13643, 15034, 16904, 10393, 17994, 16279, 10818, 18736, 19209, 10611, 12769, 18062, 17483, 11845, 12093, 13705, 14845, 16183, 13689, 14625, 17475, 10367, 12524, 17133, 18952, 15117, 15321, 11072, 14474, 15326, 12425, 12692, 13773, 10201, 13221, 12114, 13275, 11198, 18905, 15936, 16791, 17892, 14984, 10869, 15371, 15868, 17454, 14317, 11276, 12838, 13631, 16459, 15708, 13561, 19865, 16058, 12372, 11018, 11529, 12460, 11607, 11866, 12851, 11734, 18968, 10802, 15245, 14104, 19824, 11120, 13979, 19695, 18655, 18171, 12579, 11709, 16686, 19294, 15568, 15716, 12800, 17695, 11870, 13237, 14254, 15076, 12424, 11148, 16106, 12886, 15812, 11544, 14811, 15326, 10518, 13366, 11344, 10634, 19900, 13224, 18099, 12546, 16815, 17602, 15956, 14716, 14118, 13489, 19295, 18306, 19650, 11243, 17309, 19383, 11812, 10665, 17411, 15745, 18418, 11398, 17953, 12016, 11637, 11643, 18146, 16652, 15231, 13588, 18772, 13924, 18166, 14391, 13769, 14627, 13014, 17476, 15027, 12322, 18996, 13839, 15436, 19065, 16242, 11169, 19398, 16277, 13349, 11393, 17940, 16201, 15335, 18939, 17886, 11517, 13117, 12485, 17439, 10335, 15699, 17625, 18768, 13421, 18213, 11106, 18465, 11275, 13973, 17973, 11499, 12293, 17223, 17200, 16411, 16939, 15427, 12518, 13457, 11816, 19085, 15834, 14009, 14620, 19473, 11534, 15862, 15059, 16115, 10181, 18721, 19321, 15651, 16967, 19225, 17072, 11525, 15763, 16067, 14241, 17364, 19344, 19256, 14508, 11132, 19848, 18389, 11247, 19208, 18699, 15188, 15913, 13990, 10548, 13352, 18029, 10046, 13335, 13982, 15374, 19199, 13463, 13470, 17375, 14522, 12246, 14524, 11409, 11764, 14984, 14189, 19148, 13624, 15806, 16323, 10131, 16635, 11780, 19611, 11487, 14146, 10853, 19969, 15022, 15954, 10671, 17500, 12099, 18981, 12051, 11907, 10365, 14721, 15648, 10657, 17755, 14533, 15244, 14408, 14008, 15596, 11552, 11819, 18618, 19461, 13733, 12707, 16440, 14087, 10254, 11562, 17160, 16589, 10271, 12220, 12311, 16719, 10197, 11041, 17999, 11785, 16527, 12382, 10994, 12432, 17223, 18557, 18302, 13972, 16681, 12050, 12931, 18963, 10130, 10855, 12079, 10265, 11814, 15830, 14214, 18927, 18174, 13418, 12594, 13797, 15903, 12681, 16241, 14094, 15520, 14361, 12945, 19485, 17636, 11401, 18685, 14874, 18946, 17999, 14252, 10225, 12687, 15416, 16335, 12579, 11394, 18349, 19844, 15257, 11717, 12723, 10184, 19143, 11178, 15765, 12741, 15542, 16514, 18297, 12064, 10110, 11369, 19000, 18739, 15974, 16005, 16650, 11754, 19144, 14188, 13831, 15189, 10470, 11663, 17380, 10828, 16032, 12453, 13893, 12887, 13557, 17190, 12971, 15664, 14761, 16637, 19368, 17326, 12149, 10312, 12623, 15951, 10514, 14964, 15968, 13342, 17709, 11066, 10751, 17282, 14955, 16884, 14348, 12464, 18191, 17994, 16947, 12721, 15902, 13610, 10916, 19173, 11368, 19502, 14460]\n",
    "profit = [1463, 1283, 1922, 1904, 1436, 1696, 1475, 2096, 1566, 878, 1235, 2074, 1968, 574, 641, 1710, 1284, 1866, 1446, 1306, 2081, 881, 1340, 1135, 1239, 1631, 1311, 1275, 2220, 599, 1514, 951, 1789, 2047, 2482, 1066, 1438, 1542, 1725, 1973, 863, 2200, 2184, 1728, 1036, 2389, 2101, 1259, 1337, 1044, 1297, 1316, 1437, 1511, 1581, 2039, 1864, 697, 1537, 1218, 1364, 1609, 1267, 1548, 1364, 1789, 1286, 3030, 756, 1721, 1461, 921, 687, 2410, 2417, 1444, 1355, 1310, 1082, 1432, 1965, 865, 2105, 1961, 1005, 1131, 1873, 1805, 2216, 2477, 1031, 1314, 1071, 1196, 1754, 2391, 1264, 1539, 1017, 1702, 2295, 1371, 1070, 2031, 2249, 2173, 1702, 1576, 1524, 1631, 1700, 1415, 2463, 2393, 2324, 2196, 1720, 1260, 2496, 1131, 1992, 1699, 1332, 1749, 1323, 1450, 1138, 2234, 1330, 2592, 1264, 1332, 1245, 2126, 1895, 1463, 1823, 1796, 1140, 2069, 2499, 739, 1564, 951, 1882, 275, 1330, 1691, 1834, 1246, 1631, 2180, 421, 390, 2206, 991, 1162, 2116, 1360, 1446, 728, 2069, 1959, 1486, 2014, 1300, 558, 841, 1018, 1713, 1557, 1193, 886, 1948, 1604, 1733, 1862, 1615, 2222, 1361, 1662, 1778, 2023, 2232, 1213, 2380, 1479, 2456, 1510, 526, 1157, 1557, 2321, 1307, 1116, 404, 1500, 685, 1095, 2160, 2035, 1297, 678, 1875, 1605, 430, 1853, 2102, 895, 1174, 1653, 671, 1528, 883, 1211, 1097, 2224, 2067, 1364, 2136, 2357, 2031, 1123, 1044, 1614, 1441, 2421, 1711, 2417, 1364, 2454, 1601, 2615, 1148, 2063, 1821, 955, 782, 1485, 1389, 2202, 1667, 1903, 2441, 1879, 2146, 1447, 2027, 2270, 1342, 1166, 551, 2051, 1641, 928, 2344, 1323, 964, 1682, 1621, 2457, 1761, 1679, 1499, 1791, 2183, 2023, 914, 2098, 1984, 1497, 2008, 2114, 2044, 1236, 1166, 1786, 2236, 1974, 1610, 2276, -86, 1950, 224, 1397, 476, 818, 2123, 1053, 1764, 1007, 1276, 1861, 719, 1625, 1275, 992, 1002, 2373, 1510, 877, 1357, 1380, 2676, 1917, 2191, 2031, 1442, 1666, 1173, 1403, 1060, 1389, 1989, 2202, 1656, 1448, 174, 1615, 1423, 2048, 266, 2704, 1210, 2509, 1218, 1861, 1085, 1108, 2205, 1261, 1867, 1449, 1364, 1121, 1223, 3057, 1675, 1575, 1623, 2044, 2067, 1493, 862, 2215, 1043, 1786, 668, 1343, 1790, 1664, 2067, 2466, 1390, 948, 2124, 1621, 972, 2239, 1926, 1239, 2331, 1383, 1608, 1855, 1394, 1413, 1185, 1993, 646, 605, -58, 775, 1021, 1892, 1824, 1501, 2149, 2305, 1119, -132, 2842, 934, 1055, 2246, 3023, 1974, 1459, 2048, 2234, 2370, 1553, 1424, 1745, 964, 1790, 1012, 1380, 1257, 1203, 1193, 2599, 1964, 1041, 825, 2366, 898, 899, 2180, 607, 1372, 1283, 1650, 1733, 835, 1669, 1283, 1605, 1784, 2434, 1854, 1575, 1152, 1766, 1082, 1570, 1091, 1556, 650, 1992, 521, 1415, 1259, 1549, 937, 2325, 736, 1961, 1289, 2154, 491, 2142, 1691, 1578, 1720, 1882, 2008, 1680, 1858, 2189, 1498, 874, 1380, 3196, 709, 2312, 1850, 1192, 1341, 1933, 928, 1547, 1455, 1076, 1638, 763, 1303, 1484, 1340, 1185, 1178, 2387, 46, 2078, 2142, 1388, 1910, 1763, 1617, 1495, 1909, 1734, 1724, 1167, 1669, 1194, 990, 829, 1583, 2508, 2001, 1925, 731, 1030, 2070, 1424, 2743, 1274, 2070, 1832, 1765, 1460, 1664, 2292, 1292, 497, 993, 2077, 1398, 649, 1808, 2665, 1930, 2285, 1086, 977, 1836, 1665, 2121, 1311, 1260, 1877, 1882, 1464, 2107, 1019, 1429, 1269, 1599, 2102, 1800, 2409, 2692, 1834, 1774, 1289, 1317, 1095, 1146, 1036, 1982, 1871, 1193, 1915, 1650, 370, 644, 1600, 915, 2072, 2286, 2462, 1445, 2306, 1951, 1235, 827, 878, 1561, 1706, 1784, 1214, 1355, 1610, 1825, 847, 115, 1905, 1221, 1236, 929, 883, 1667, 2002, 1574, 654, 874, 2122, 753, 1350, 1451, 2270, 1552, 842, 2232, 1161, 1062, 662, 906, 710, 1052, 2497, 496, 539, 2632, 1369, 1333, 1692, 889, 1954, 1508, 1035, 2256, 786, 1492, 1610, 1857, 2145, 1519, 1314, 1269, 1461, 2635, 1150, 1691, 2013, 388, 791, 2406, 1420, 661, 1478, 1963, 1844, 2116, 991, 752, 2498, 875, 1127, 2377, 2173, 1740, 2615, 785, 1911, 1561, 1377, 2033, 1631, 1289, 1858, 1029, 908, 597, 907, 2622, 1127, 1679, 1360, 1241, 1945, 2017, 1454, 1348, 1269, 1159, 2167, 1891, 1938, 1688, 2573, 1696, 589, 1302, 827, 982, 1454, 1806, 1296, 1328, 2748, 1201, 2825, 1693, 1102, 1489, 1588, 2614, 2202, 1748, 646, 1066, 1243, 1639, 1851, 2407, 1477, 1172, 1409, 1922, 1121, 1441, 1250, 722, 1935, 1228, 1791, 711, 1262, 1894, 865, 2200, 935, 1176, 2456, 613, 929, 492, 2313, 1484, 2875, 1189, 1504, 2120, 2933, 2861, 2569, 1636, 2027, 2328, 906, 657, 1739, 1489, 1615, 1488, 2273, 1246, 1902, 593, 1718, 1307, 590, 1317, 1816, 2149, 2132, 927, 2304, 2073, 1592, 1634, 1023, 1046, 2444, 2326, 2315, 1662, 1064, 1187, 1056, 1789, 1261, 906, 997, 1877, 1267, 1309, 352, 1138, 2198, 2079, 1515, 732, 1804, 1263, 2028, 1725, 2435, 1061, 1745, 688, 984, 1684, 1334, 1686, 1321, 2466, 1506, 1683, 1169, 40, 1788, 1550, 1768, 1617, 1659, 681, 1683, 1550, 959, 1653, 933, 1251, 1854, 1125, 2148, 1329, 1517, 1808, 1727, 1068, 1638, 1639, 2083, 2023, 1742, 1037, 1156, 1449, 378, 1343, 2373, 688, 1014, 1901, 2428, 1065, 971, 1711, 1692, 1011, 999, 1296, 1443, 1408, 2159, 1899, 1326, 1079, 671, 1582, 1137, 1408, 3015, 2064, 986, 1367, 2206, 1070, 944, 1638, 1627, 2085, 1955, 862, 2637, 1536, 2022, 1309, 1327, 888, 2413, 1038, 989, 559, 1684, 2596, 532, 1788, 2159, 1485, 1667, 870, 1774, 1062, 1675, 2455, 3241, 1663, 1434, 1741, 1232, 1195, 1008, 1800, 2318, 524, 1792, 1890, 1613, -41, 800, 2448, 1167, 1153, 986, 1520, 1517, 1603, 1672, 1634, 936, 2476, 1044, 1902, 2657, 1512, 870, 1410, 1014, 730, 1745, 832, 2487, 1585, 1442, 1401, 1250, 1884, 1031, 2060, 736, 1615, 2406, 794, 1610, 2021, 1230, 2044, 1732, 2212, 2355, 1630, 902, 1605, 2492, 1567, 771, 1693, 1775, 898, 1949, 904, 1227, 1184, 2010, 1472, 1359, 1531, 1424, 2021, 2137, 739, 1554, 869, 2304, 2058, 2517, 1489, 1490, 1166, 1763, 1819, 575, 992, 513, 1641, 2593, 1031, 1519, 1280, 1970, 825, 1475, 2207, 1548, 1661, 1977, 312, 2276, 1406, 300, 1287, 1949, 1526, 1528, 2303, 2254, 2154, 2142, 1144, 274, 1605, 1074, 2774, 1347, 1308, 2095, 1821, 2542, 961, 1688, 990, 432, 1611, 1118, 1736, 1100]\n"
   ]
  },
  {
   "cell_type": "code",
   "execution_count": null,
   "metadata": {},
   "outputs": [],
   "source": []
  },
  {
   "cell_type": "markdown",
   "metadata": {},
   "source": [
    "**Pie Chart**"
   ]
  },
  {
   "cell_type": "code",
   "execution_count": null,
   "metadata": {},
   "outputs": [],
   "source": []
  },
  {
   "cell_type": "markdown",
   "metadata": {},
   "source": [
    "<hr><hr>"
   ]
  },
  {
   "cell_type": "markdown",
   "metadata": {},
   "source": [
    "## DataFrame\n",
    "\n",
    "A **DataFrame** is a **2-dimensional, labeled data structure** in Python, used via the **pandas** library.\n",
    "\n",
    "### 📘 Definition:\n",
    "> A **DataFrame** is like a table (similar to an Excel spreadsheet or a SQL table) that consists of rows and columns, where each column can be of a different data type (e.g., integers, floats, strings).\n",
    "\n",
    "---\n",
    "\n",
    "### ✅ Key Characteristics:\n",
    "- **Rows and columns**: Indexed by labels (default is integers).\n",
    "- **Heterogeneous data**: Each column can store different types of data.\n",
    "- **Powerful operations**: Sorting, filtering, aggregation, merging, and reshaping.\n",
    "\n",
    "---\n",
    "\n",
    "### 📊 Common Use Cases:\n",
    "- Loading and analyzing data from CSV, Excel, SQL, JSON, etc.\n",
    "- Performing data cleaning and transformation.\n",
    "- Statistical analysis and visualization.\n",
    "- Feature engineering for machine learning.\n"
   ]
  },
  {
   "cell_type": "markdown",
   "metadata": {},
   "source": [
    "###### Ex. Read data from customer.txt file"
   ]
  },
  {
   "cell_type": "code",
   "execution_count": null,
   "metadata": {},
   "outputs": [],
   "source": []
  },
  {
   "cell_type": "markdown",
   "metadata": {},
   "source": [
    "#### DataFrame Attributes"
   ]
  },
  {
   "cell_type": "code",
   "execution_count": null,
   "metadata": {},
   "outputs": [],
   "source": []
  },
  {
   "cell_type": "code",
   "execution_count": null,
   "metadata": {},
   "outputs": [],
   "source": []
  },
  {
   "cell_type": "code",
   "execution_count": null,
   "metadata": {},
   "outputs": [],
   "source": []
  },
  {
   "cell_type": "code",
   "execution_count": null,
   "metadata": {},
   "outputs": [],
   "source": []
  },
  {
   "cell_type": "code",
   "execution_count": null,
   "metadata": {},
   "outputs": [],
   "source": []
  },
  {
   "cell_type": "code",
   "execution_count": null,
   "metadata": {},
   "outputs": [],
   "source": []
  },
  {
   "cell_type": "markdown",
   "metadata": {},
   "source": [
    "#### Filtering DataFrames"
   ]
  },
  {
   "cell_type": "markdown",
   "metadata": {},
   "source": [
    "###### Ex. Extract data for managers"
   ]
  },
  {
   "cell_type": "code",
   "execution_count": null,
   "metadata": {},
   "outputs": [],
   "source": []
  },
  {
   "cell_type": "markdown",
   "metadata": {},
   "source": [
    "###### Ex. Extract data for employees whose age is greater than 45 yrs"
   ]
  },
  {
   "cell_type": "code",
   "execution_count": null,
   "metadata": {},
   "outputs": [],
   "source": []
  },
  {
   "cell_type": "markdown",
   "metadata": {},
   "source": [
    "###### Ex. Extract data for employees whose age is in between 30 to 45 yrs"
   ]
  },
  {
   "cell_type": "code",
   "execution_count": null,
   "metadata": {},
   "outputs": [],
   "source": []
  },
  {
   "cell_type": "markdown",
   "metadata": {},
   "source": [
    "#### Indexing and slicing on Dataframes\n",
    "- loc\n",
    "- iloc"
   ]
  },
  {
   "cell_type": "code",
   "execution_count": null,
   "metadata": {},
   "outputs": [],
   "source": []
  },
  {
   "cell_type": "code",
   "execution_count": null,
   "metadata": {},
   "outputs": [],
   "source": []
  },
  {
   "cell_type": "code",
   "execution_count": null,
   "metadata": {},
   "outputs": [],
   "source": []
  },
  {
   "cell_type": "code",
   "execution_count": null,
   "metadata": {},
   "outputs": [],
   "source": []
  },
  {
   "cell_type": "code",
   "execution_count": null,
   "metadata": {},
   "outputs": [],
   "source": []
  }
 ],
 "metadata": {
  "colab": {
   "provenance": []
  },
  "kernelspec": {
   "display_name": "Python 3 (ipykernel)",
   "language": "python",
   "name": "python3"
  },
  "language_info": {
   "codemirror_mode": {
    "name": "ipython",
    "version": 3
   },
   "file_extension": ".py",
   "mimetype": "text/x-python",
   "name": "python",
   "nbconvert_exporter": "python",
   "pygments_lexer": "ipython3",
   "version": "3.12.4"
  }
 },
 "nbformat": 4,
 "nbformat_minor": 4
}
